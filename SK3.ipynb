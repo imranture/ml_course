{
 "cells": [
  {
   "cell_type": "markdown",
   "metadata": {
    "slideshow": {
     "slide_type": "slide"
    }
   },
   "source": [
    "# SK Part 3: Cross-Validation and Hyperparameter Tuning\n",
    "* * *"
   ]
  },
  {
   "cell_type": "markdown",
   "metadata": {
    "slideshow": {
     "slide_type": "slide"
    }
   },
   "source": [
    "In **SK Part 1**, we learn how to evaluate a machine learning model using the `train_test_split` function to split the full set into disjoint training and test sets based on a specified test size ratio. We then train the model (that is, \"fit\") using the training set and evaluate it against the test set. This approach is called \"hold-out sampling\". A more robust and methodical approach to hold-out sampling is \"cross-validation\", which is the subject of this tutorial.\n",
    "\n",
    "A critical step in machine learning is to find out the \"optimal\" parameters of a learner (such as the number of neighbors in a KNN model). In this tutorial, we illustrate how optimal model parameters can be identified using repeated cross-validation in a grid search framework.\n",
    "\n",
    "## Learning Objectives\n",
    "\n",
    "- Implement various cross-validation strategies.\n",
    "\n",
    "- Perform grid search to identify optimal hyperparameter values.\n",
    "\n",
    "\n",
    "As in Part 1, we shall use the following datasets for regression, binary, and multiclass classification problems.\n",
    "\n",
    "1. [Breast Cancer Wisconsin Data](https://archive.ics.uci.edu/ml/datasets/Breast+Cancer+Wisconsin+%28Diagnostic%29). The target feature is binary, i.e., if a cancer diagnosis is \"malignant\" or \"benign\".\n",
    "2. [Boston Housing Data](https://archive.ics.uci.edu/ml/machine-learning-databases/housing/). The target feature is continuous. The target is house prices in Boston in 1970's.\n",
    "3. [Wine Data](https://archive.ics.uci.edu/ml/machine-learning-databases/wine/wine.data). The target feature is multiclass. It consists of three types of wines in Italy.\n",
    "\n",
    "We use KNN, DT, and NB models to illustrate how cross-validation is used to tune hyperparameters of a machine learning algorithm via grid search by going through the Breast Cancer Data and Boston Housing Data. We will leave Wine Data and other machine learning models as exercises."
   ]
  },
  {
   "cell_type": "markdown",
   "metadata": {
    "slideshow": {
     "slide_type": "slide"
    }
   },
   "source": [
    "## Table of Contents\n",
    "\n",
    "* [Binary Classification Example: Breast Cancer Wisconsin Data](#1)\n",
    "  - [Data Preparation](#1.0)\n",
    "  - [Nearest Neigbor Models](#1.1)\n",
    "  - [Cross-Validation](#1.2)\n",
    "  - [KNN Hyperparameter Tuning and Visualization](#1.3)\n",
    "  - [DT Hyperparameter Tuning and Visualization](#1.4)\n",
    "  - [NB Hyperparameter Tuning and Visualization](#1.5)\n",
    "* [Regression Example: Boston Housing Data](#2)\n",
    "* [Exercises](#3)\n",
    "  - [Problems](#3.1)\n",
    "  - [Solutions](#3.2)"
   ]
  },
  {
   "cell_type": "markdown",
   "metadata": {},
   "source": [
    "## Binary Classification Example: Breast Cancer Wisconsin Data <a class=\"anchor\" id=\"1\"></a>"
   ]
  },
  {
   "cell_type": "markdown",
   "metadata": {},
   "source": [
    "### Data Preparation <a class=\"anchor\" id=\"1.0\"></a>"
   ]
  },
  {
   "cell_type": "markdown",
   "metadata": {},
   "source": [
    "Let's prepare the dataset for modeling by performing the following:\n",
    "- load the dataset from `sklearn` (unlike the Cloud version, this version does not have column names), \n",
    "- normalize the descriptive features so that they have 0 mean and 1 standard deviation, and\n",
    "- split the dataset into training and test sets."
   ]
  },
  {
   "cell_type": "code",
   "execution_count": 1,
   "metadata": {},
   "outputs": [],
   "source": [
    "import warnings\n",
    "warnings.filterwarnings(\"ignore\")\n",
    "\n",
    "import numpy as np\n",
    "from sklearn.model_selection import train_test_split\n",
    "from sklearn.datasets import load_breast_cancer\n",
    "from sklearn import preprocessing\n",
    "\n",
    "cancer_df = load_breast_cancer()\n",
    "Data, target = cancer_df.data, cancer_df.target\n",
    "\n",
    "Data = preprocessing.MinMaxScaler().fit_transform(Data)\n",
    "\n",
    "# target is already encoded, but we need to reverse the labels\n",
    "# so that malignant is the positive class\n",
    "target = np.where(target==0, 1, 0)\n",
    "\n",
    "D_train, D_test, t_train, t_test = train_test_split(Data, target, test_size = 0.3, random_state=999)"
   ]
  },
  {
   "cell_type": "markdown",
   "metadata": {},
   "source": [
    "### Nearest Neighbor Models <a class=\"anchor\" id=\"1.1\"></a>"
   ]
  },
  {
   "cell_type": "markdown",
   "metadata": {},
   "source": [
    "Let's fit a 1-nearest neighbor (1-NN) classifier (`n_neighbors=1`) using the Euclidean distance (`p=2`)."
   ]
  },
  {
   "cell_type": "code",
   "execution_count": 2,
   "metadata": {},
   "outputs": [
    {
     "data": {
      "text/plain": [
       "0.9473684210526315"
      ]
     },
     "execution_count": 2,
     "metadata": {},
     "output_type": "execute_result"
    }
   ],
   "source": [
    "from sklearn.neighbors import KNeighborsClassifier\n",
    "\n",
    "knn_classifier = KNeighborsClassifier(n_neighbors=1, p=2)\n",
    "\n",
    "knn_classifier.fit(D_train, t_train)\n",
    "knn_classifier.score(D_test, t_test)"
   ]
  },
  {
   "cell_type": "markdown",
   "metadata": {},
   "source": [
    "The 1-NN classifier yields an accuracy score of around 94.7%. So, how can we improve this score? One way is to search the set of \"hyperparameters\" which produces the highest accuracy score. For a nearest neighbor model, the hyperparameters are as follows:\n",
    "\n",
    "* Number of neighbors.\n",
    "* Metric: Manhattan (p=1), Euclidean (p=2) or Minkowski (any p larger than 2). Technically, p=1 and p=2 are also Minkowski metrics, but in this notebook, we shall adopt the convention that the Minkowski metric corresponds to $p \\geq 3$.\n",
    "\n",
    "To search for the \"best\" set of hyperparameters, popular approaches are as follows:\n",
    "\n",
    "* Random search: As its name suggests, it randomly selects the hyperparameter set to train models.\n",
    "* Bayesian search: It is beyond the scope of this course. So we shall not cover it here.\n",
    "* Grid search.\n",
    "\n",
    "Grid search is the most common approach. It exhaustively searches through all possible combinations of hyperparameters during training the phase. For example, consider a KNN model. We can specify a grid of number of neighbors (K = 1, 2, 3) and two metrics (p=1, 2). The grid search starts training a model of K = 1 and p=1 and calculates its accuracy score. Then it moves to train models of (K = 2, p = 1), (K = 3, p = 1), (K = 1, p = 2), ..., and (K = 3, p = 2) and obtain their score values. Based on the accuracy scores, the grid search will rank the models and determine the set of hyperparameter values that give the highest accuracy score. \n",
    "\n",
    "Before we proceed further, we shall cover other cross-validation (CV) methods since tuning hyperparameters via grid search is usually cross-validated to avoid overfitting."
   ]
  },
  {
   "cell_type": "markdown",
   "metadata": {},
   "source": [
    "### Cross-Validation <a class=\"anchor\" id=\"1.2\"></a>\n",
    "\n",
    "Two popular options for cross-validation are 5-fold and 10-fold. In 5-fold cross-validation, for instance, the entire dataset is partitioned into 5 equal-sized chunks. The first four chunks are used for training and the 5-th chunk is used for testing. Next, all the chunks other than the 4-th chunk are used for training and the 4-th chunk is used for testing, and so on. In the last iteration, all the chunks other than the 1-st chunk are used for training and the 1-st chunk is used for testing. The final step is to take the average of these 5 test accuracies and report it as the overall cross-validation accuracy. Please see the figure below for an illustration of a 10-fold cross-validation (source: [karlrosaen.com](http://karlrosaen.com/ml/learning-log/2016-06-20/)) . Please refer to Chapter 8 in the textbook for more information. \n",
    "\n",
    "<img src=http://karlrosaen.com/ml/learning-log/2016-06-20/k-fold-diagram.png width=\"600\">\n",
    "\n",
    "In contrast to hold-out-sampling, cross-validation is usually the preferred option due to the following two reasons:\n",
    "* Sometimes there is just not enough data for a hold-out-sampling.\n",
    "* Cross-validation reduces the risk of what is called \"lucky split\" where the difficult instances are put in the training partition and the easy instances are put in the test partition.\n",
    "\n",
    "A downside of cross-validation is that it apparently requires more computer time. Also, if it happens to be the case that there is a good amount of data available already (say millions of rows), then the risk of \"lucky split\" diminishes and hold-out-sampling can be preferred. Another extension of cross-validation is repeated cross-validation (say 3 times) where data is partitioned into 5 equal-sized chunks multiple times and the cross-validation procedure is repeated, each time with a different partitioning of data per repeatition.\n",
    "\n",
    "We can perform K-fold cross-validation by calling the `KFold` function imported from `sklearn.model_selection` module. It randomly splits the full dataset into K subsets or \"folds\". Then it trains the model on K-1 folds and evaluates the model against the remaining fold. This process is repeated exactly K times where each time a different fold is used for testing.\n",
    "\n",
    "Other cross-validation variants from `scikit-learn` are as follows:\n",
    "\n",
    "* `model_selection.RepeatedKFold()`: Repeated K-Fold cross-validator\n",
    "* `model_selection.RepeatedStratifiedKFold()`: Repeated Stratified K-Fold cross-validator\n",
    "* `model_selection.StratifiedKFold()`: Stratified K-Fold cross-validator\n",
    "* `model_selection.LeaveOneOut()`: Leave One Out cross-validator\n",
    "\n",
    "To learn more about cross-validators, please refer to [scikit-learn documentation](https://scikit-learn.org/stable/modules/classes.html#module-sklearn.model_selection).\n",
    "\n",
    "**Refresher questions**\n",
    "\n",
    "1. What are the disadvantages of a simple test/ train split?\n",
    "2. Can you tell the difference between the cross-validators above?\n",
    "\n",
    "In the following example, we illustrate how we can conduct a stratified 5-fold (`n_splits = 5`) cross-validation with 3 repetitions (`n_repeats = 3`) using the `RepeatedStratifiedKFold` function. Since the target labels have fewer `malignant` labels than `benign`, stratification ensures that the proportion of the two labels in both train and test sets are the same as the proportion in the full dataset in each cross-validation repetition."
   ]
  },
  {
   "cell_type": "code",
   "execution_count": 3,
   "metadata": {},
   "outputs": [],
   "source": [
    "from sklearn.model_selection import RepeatedStratifiedKFold\n",
    "\n",
    "cv_method = RepeatedStratifiedKFold(n_splits=5, \n",
    "                                    n_repeats=3, \n",
    "                                    random_state=999)"
   ]
  },
  {
   "cell_type": "markdown",
   "metadata": {},
   "source": [
    "### KNN Hyperparameter Tuning and Visualization <a class=\"anchor\" id=\"1.3\"></a>"
   ]
  },
  {
   "cell_type": "markdown",
   "metadata": {},
   "source": [
    "It's hyperparameter tuning time. First, we need to define a dictionary of KNN parameters for the grid search. Here, we will consider K values between 3 and 7 and $p$ values of 1 (Manhattan), 2 (Euclidean), and 5 (Minkowski)."
   ]
  },
  {
   "cell_type": "code",
   "execution_count": 4,
   "metadata": {},
   "outputs": [],
   "source": [
    "import numpy as np\n",
    "params_KNN = {'n_neighbors': [1, 2, 3, 4, 5, 6, 7], \n",
    "              'p': [1, 2, 5]}"
   ]
  },
  {
   "cell_type": "markdown",
   "metadata": {},
   "source": [
    "Second, we pass the `KNeighborsClassifier()` and `KNN_params` as the model and the parameter dictionary into the `GridSearchCV` function. In addition, we include the repeated stratified CV method we defined previously (`cv=cv_method`). Also, we tell `sklearn` which metric to optimize, which is accuracy in our example (`scoring='accuracy'`, `refit='accuracy'`)."
   ]
  },
  {
   "cell_type": "code",
   "execution_count": 5,
   "metadata": {},
   "outputs": [],
   "source": [
    "from sklearn.model_selection import GridSearchCV\n",
    "\n",
    "gs_KNN = GridSearchCV(estimator=KNeighborsClassifier(), \n",
    "                      param_grid=params_KNN, \n",
    "                      cv=cv_method,\n",
    "                      verbose=1,  # verbose: the higher, the more messages\n",
    "                      scoring='accuracy', \n",
    "                      return_train_score=True)"
   ]
  },
  {
   "cell_type": "markdown",
   "metadata": {},
   "source": [
    "The last step is to fit a KNN model using the full dataset."
   ]
  },
  {
   "cell_type": "code",
   "execution_count": 6,
   "metadata": {},
   "outputs": [
    {
     "name": "stdout",
     "output_type": "stream",
     "text": [
      "Fitting 15 folds for each of 21 candidates, totalling 315 fits\n"
     ]
    },
    {
     "name": "stderr",
     "output_type": "stream",
     "text": [
      "[Parallel(n_jobs=1)]: Using backend SequentialBackend with 1 concurrent workers.\n",
      "[Parallel(n_jobs=1)]: Done 315 out of 315 | elapsed:   17.2s finished\n"
     ]
    }
   ],
   "source": [
    "gs_KNN.fit(Data, target);"
   ]
  },
  {
   "cell_type": "markdown",
   "metadata": {},
   "source": [
    "To get the best parameter values, we call the `best_params_` attribute."
   ]
  },
  {
   "cell_type": "code",
   "execution_count": 7,
   "metadata": {},
   "outputs": [
    {
     "data": {
      "text/plain": [
       "{'n_neighbors': 7, 'p': 2}"
      ]
     },
     "execution_count": 7,
     "metadata": {},
     "output_type": "execute_result"
    }
   ],
   "source": [
    "gs_KNN.best_params_"
   ]
  },
  {
   "cell_type": "markdown",
   "metadata": {},
   "source": [
    "After stratified 5-fold cross-validation with 3 repeatitions, we observe that the optimal parameters are 6 neighbors using the Manhattan (p=1) distance metric. The mean cross-validation accuracy with the optimal parameters can be extracted using the `best_score` attribute."
   ]
  },
  {
   "cell_type": "code",
   "execution_count": 8,
   "metadata": {},
   "outputs": [
    {
     "data": {
      "text/plain": [
       "0.9707088459285296"
      ]
     },
     "execution_count": 8,
     "metadata": {},
     "output_type": "execute_result"
    }
   ],
   "source": [
    "gs_KNN.best_score_"
   ]
  },
  {
   "cell_type": "markdown",
   "metadata": {},
   "source": [
    "To extract more cross-validation results, we can call `gs.csv_results` - a dictionary consisting of run details for each fold. "
   ]
  },
  {
   "cell_type": "code",
   "execution_count": 9,
   "metadata": {},
   "outputs": [
    {
     "data": {
      "text/plain": [
       "array([0.95196251, 0.9543058 , 0.95079086, 0.95840656, 0.95899238,\n",
       "       0.95489162, 0.96895138, 0.96777973, 0.9619215 , 0.96660808,\n",
       "       0.96777973, 0.96250732, 0.96777973, 0.96777973, 0.96719391,\n",
       "       0.96719391, 0.96836555, 0.96719391, 0.96895138, 0.97070885,\n",
       "       0.96426479])"
      ]
     },
     "execution_count": 9,
     "metadata": {},
     "output_type": "execute_result"
    }
   ],
   "source": [
    "gs_KNN.cv_results_['mean_test_score']"
   ]
  },
  {
   "cell_type": "markdown",
   "metadata": {},
   "source": [
    "Let's visualize the hyperparameter tuning results from the cross-validation. We define a data frame by combining `gs.cv_results_['params']` and `gs.cv_results_['mean_test_score']`. The `gs.cv_results_['params']` is an array of hyperparameter combinations. "
   ]
  },
  {
   "cell_type": "code",
   "execution_count": 10,
   "metadata": {},
   "outputs": [],
   "source": [
    "import pandas as pd\n",
    "\n",
    "results_KNN = pd.DataFrame(gs_KNN.cv_results_['params'])"
   ]
  },
  {
   "cell_type": "code",
   "execution_count": 11,
   "metadata": {},
   "outputs": [],
   "source": [
    "results_KNN['test_score'] = gs_KNN.cv_results_['mean_test_score']"
   ]
  },
  {
   "cell_type": "markdown",
   "metadata": {},
   "source": [
    "Let's create a new column called \"metric\" that stores the name of the metric for each $p$ value."
   ]
  },
  {
   "cell_type": "code",
   "execution_count": 12,
   "metadata": {},
   "outputs": [
    {
     "data": {
      "text/html": [
       "<div>\n",
       "<style scoped>\n",
       "    .dataframe tbody tr th:only-of-type {\n",
       "        vertical-align: middle;\n",
       "    }\n",
       "\n",
       "    .dataframe tbody tr th {\n",
       "        vertical-align: top;\n",
       "    }\n",
       "\n",
       "    .dataframe thead th {\n",
       "        text-align: right;\n",
       "    }\n",
       "</style>\n",
       "<table border=\"1\" class=\"dataframe\">\n",
       "  <thead>\n",
       "    <tr style=\"text-align: right;\">\n",
       "      <th></th>\n",
       "      <th>n_neighbors</th>\n",
       "      <th>p</th>\n",
       "      <th>test_score</th>\n",
       "      <th>metric</th>\n",
       "    </tr>\n",
       "  </thead>\n",
       "  <tbody>\n",
       "    <tr>\n",
       "      <th>0</th>\n",
       "      <td>1</td>\n",
       "      <td>1</td>\n",
       "      <td>0.951963</td>\n",
       "      <td>Manhattan</td>\n",
       "    </tr>\n",
       "    <tr>\n",
       "      <th>1</th>\n",
       "      <td>1</td>\n",
       "      <td>2</td>\n",
       "      <td>0.954306</td>\n",
       "      <td>Euclidean</td>\n",
       "    </tr>\n",
       "    <tr>\n",
       "      <th>2</th>\n",
       "      <td>1</td>\n",
       "      <td>5</td>\n",
       "      <td>0.950791</td>\n",
       "      <td>Minkowski</td>\n",
       "    </tr>\n",
       "    <tr>\n",
       "      <th>3</th>\n",
       "      <td>2</td>\n",
       "      <td>1</td>\n",
       "      <td>0.958407</td>\n",
       "      <td>Manhattan</td>\n",
       "    </tr>\n",
       "    <tr>\n",
       "      <th>4</th>\n",
       "      <td>2</td>\n",
       "      <td>2</td>\n",
       "      <td>0.958992</td>\n",
       "      <td>Euclidean</td>\n",
       "    </tr>\n",
       "    <tr>\n",
       "      <th>5</th>\n",
       "      <td>2</td>\n",
       "      <td>5</td>\n",
       "      <td>0.954892</td>\n",
       "      <td>Minkowski</td>\n",
       "    </tr>\n",
       "    <tr>\n",
       "      <th>6</th>\n",
       "      <td>3</td>\n",
       "      <td>1</td>\n",
       "      <td>0.968951</td>\n",
       "      <td>Manhattan</td>\n",
       "    </tr>\n",
       "    <tr>\n",
       "      <th>7</th>\n",
       "      <td>3</td>\n",
       "      <td>2</td>\n",
       "      <td>0.967780</td>\n",
       "      <td>Euclidean</td>\n",
       "    </tr>\n",
       "    <tr>\n",
       "      <th>8</th>\n",
       "      <td>3</td>\n",
       "      <td>5</td>\n",
       "      <td>0.961921</td>\n",
       "      <td>Minkowski</td>\n",
       "    </tr>\n",
       "    <tr>\n",
       "      <th>9</th>\n",
       "      <td>4</td>\n",
       "      <td>1</td>\n",
       "      <td>0.966608</td>\n",
       "      <td>Manhattan</td>\n",
       "    </tr>\n",
       "    <tr>\n",
       "      <th>10</th>\n",
       "      <td>4</td>\n",
       "      <td>2</td>\n",
       "      <td>0.967780</td>\n",
       "      <td>Euclidean</td>\n",
       "    </tr>\n",
       "    <tr>\n",
       "      <th>11</th>\n",
       "      <td>4</td>\n",
       "      <td>5</td>\n",
       "      <td>0.962507</td>\n",
       "      <td>Minkowski</td>\n",
       "    </tr>\n",
       "    <tr>\n",
       "      <th>12</th>\n",
       "      <td>5</td>\n",
       "      <td>1</td>\n",
       "      <td>0.967780</td>\n",
       "      <td>Manhattan</td>\n",
       "    </tr>\n",
       "    <tr>\n",
       "      <th>13</th>\n",
       "      <td>5</td>\n",
       "      <td>2</td>\n",
       "      <td>0.967780</td>\n",
       "      <td>Euclidean</td>\n",
       "    </tr>\n",
       "    <tr>\n",
       "      <th>14</th>\n",
       "      <td>5</td>\n",
       "      <td>5</td>\n",
       "      <td>0.967194</td>\n",
       "      <td>Minkowski</td>\n",
       "    </tr>\n",
       "    <tr>\n",
       "      <th>15</th>\n",
       "      <td>6</td>\n",
       "      <td>1</td>\n",
       "      <td>0.967194</td>\n",
       "      <td>Manhattan</td>\n",
       "    </tr>\n",
       "    <tr>\n",
       "      <th>16</th>\n",
       "      <td>6</td>\n",
       "      <td>2</td>\n",
       "      <td>0.968366</td>\n",
       "      <td>Euclidean</td>\n",
       "    </tr>\n",
       "    <tr>\n",
       "      <th>17</th>\n",
       "      <td>6</td>\n",
       "      <td>5</td>\n",
       "      <td>0.967194</td>\n",
       "      <td>Minkowski</td>\n",
       "    </tr>\n",
       "    <tr>\n",
       "      <th>18</th>\n",
       "      <td>7</td>\n",
       "      <td>1</td>\n",
       "      <td>0.968951</td>\n",
       "      <td>Manhattan</td>\n",
       "    </tr>\n",
       "    <tr>\n",
       "      <th>19</th>\n",
       "      <td>7</td>\n",
       "      <td>2</td>\n",
       "      <td>0.970709</td>\n",
       "      <td>Euclidean</td>\n",
       "    </tr>\n",
       "    <tr>\n",
       "      <th>20</th>\n",
       "      <td>7</td>\n",
       "      <td>5</td>\n",
       "      <td>0.964265</td>\n",
       "      <td>Minkowski</td>\n",
       "    </tr>\n",
       "  </tbody>\n",
       "</table>\n",
       "</div>"
      ],
      "text/plain": [
       "    n_neighbors  p  test_score     metric\n",
       "0             1  1    0.951963  Manhattan\n",
       "1             1  2    0.954306  Euclidean\n",
       "2             1  5    0.950791  Minkowski\n",
       "3             2  1    0.958407  Manhattan\n",
       "4             2  2    0.958992  Euclidean\n",
       "5             2  5    0.954892  Minkowski\n",
       "6             3  1    0.968951  Manhattan\n",
       "7             3  2    0.967780  Euclidean\n",
       "8             3  5    0.961921  Minkowski\n",
       "9             4  1    0.966608  Manhattan\n",
       "10            4  2    0.967780  Euclidean\n",
       "11            4  5    0.962507  Minkowski\n",
       "12            5  1    0.967780  Manhattan\n",
       "13            5  2    0.967780  Euclidean\n",
       "14            5  5    0.967194  Minkowski\n",
       "15            6  1    0.967194  Manhattan\n",
       "16            6  2    0.968366  Euclidean\n",
       "17            6  5    0.967194  Minkowski\n",
       "18            7  1    0.968951  Manhattan\n",
       "19            7  2    0.970709  Euclidean\n",
       "20            7  5    0.964265  Minkowski"
      ]
     },
     "execution_count": 12,
     "metadata": {},
     "output_type": "execute_result"
    }
   ],
   "source": [
    "results_KNN['metric'] = results_KNN['p'].replace([1,2,5], [\"Manhattan\", \"Euclidean\", \"Minkowski\"])\n",
    "results_KNN"
   ]
  },
  {
   "cell_type": "markdown",
   "metadata": {},
   "source": [
    "We visualize the results using the `altair` module. The plot below shows that K = 3 with the Manhattan distance metric (p=1) outperforms other combinations."
   ]
  },
  {
   "cell_type": "code",
   "execution_count": 13,
   "metadata": {},
   "outputs": [
    {
     "data": {
      "application/vnd.vegalite.v2+json": {
       "$schema": "https://vega.github.io/schema/vega-lite/v2.6.0.json",
       "config": {
        "view": {
         "height": 300,
         "width": 400
        }
       },
       "data": {
        "name": "data-f9f95f127b7afd90f095062cc0c63bb8"
       },
       "datasets": {
        "data-f9f95f127b7afd90f095062cc0c63bb8": [
         {
          "metric": "Manhattan",
          "n_neighbors": 1,
          "p": 1,
          "test_score": 0.9519625073227885
         },
         {
          "metric": "Euclidean",
          "n_neighbors": 1,
          "p": 2,
          "test_score": 0.9543057996485061
         },
         {
          "metric": "Minkowski",
          "n_neighbors": 1,
          "p": 5,
          "test_score": 0.9507908611599297
         },
         {
          "metric": "Manhattan",
          "n_neighbors": 2,
          "p": 1,
          "test_score": 0.958406561218512
         },
         {
          "metric": "Euclidean",
          "n_neighbors": 2,
          "p": 2,
          "test_score": 0.9589923842999414
         },
         {
          "metric": "Minkowski",
          "n_neighbors": 2,
          "p": 5,
          "test_score": 0.9548916227299356
         },
         {
          "metric": "Manhattan",
          "n_neighbors": 3,
          "p": 1,
          "test_score": 0.9689513766842414
         },
         {
          "metric": "Euclidean",
          "n_neighbors": 3,
          "p": 2,
          "test_score": 0.9677797305213826
         },
         {
          "metric": "Minkowski",
          "n_neighbors": 3,
          "p": 5,
          "test_score": 0.9619214997070885
         },
         {
          "metric": "Manhattan",
          "n_neighbors": 4,
          "p": 1,
          "test_score": 0.9666080843585237
         },
         {
          "metric": "Euclidean",
          "n_neighbors": 4,
          "p": 2,
          "test_score": 0.9677797305213826
         },
         {
          "metric": "Minkowski",
          "n_neighbors": 4,
          "p": 5,
          "test_score": 0.9625073227885179
         },
         {
          "metric": "Manhattan",
          "n_neighbors": 5,
          "p": 1,
          "test_score": 0.9677797305213826
         },
         {
          "metric": "Euclidean",
          "n_neighbors": 5,
          "p": 2,
          "test_score": 0.9677797305213826
         },
         {
          "metric": "Minkowski",
          "n_neighbors": 5,
          "p": 5,
          "test_score": 0.9671939074399531
         },
         {
          "metric": "Manhattan",
          "n_neighbors": 6,
          "p": 1,
          "test_score": 0.9671939074399531
         },
         {
          "metric": "Euclidean",
          "n_neighbors": 6,
          "p": 2,
          "test_score": 0.968365553602812
         },
         {
          "metric": "Minkowski",
          "n_neighbors": 6,
          "p": 5,
          "test_score": 0.9671939074399531
         },
         {
          "metric": "Manhattan",
          "n_neighbors": 7,
          "p": 1,
          "test_score": 0.9689513766842414
         },
         {
          "metric": "Euclidean",
          "n_neighbors": 7,
          "p": 2,
          "test_score": 0.9707088459285296
         },
         {
          "metric": "Minkowski",
          "n_neighbors": 7,
          "p": 5,
          "test_score": 0.9642647920328061
         }
        ]
       },
       "encoding": {
        "color": {
         "field": "metric",
         "type": "nominal"
        },
        "x": {
         "field": "n_neighbors",
         "title": "Number of Neighbors",
         "type": "quantitative"
        },
        "y": {
         "field": "test_score",
         "scale": {
          "zero": false
         },
         "title": "Mean CV Score",
         "type": "quantitative"
        }
       },
       "mark": {
        "point": true,
        "type": "line"
       },
       "title": "KNN Performance Comparison"
      },
      "image/png": "[encoded data removed]",
      "text/plain": [
       "<VegaLite 2 object>\n",
       "\n",
       "If you see this message, it means the renderer has not been properly enabled\n",
       "for the frontend that you are using. For more information, see\n",
       "https://altair-viz.github.io/user_guide/troubleshooting.html\n"
      ]
     },
     "execution_count": 13,
     "metadata": {},
     "output_type": "execute_result"
    }
   ],
   "source": [
    "import altair as alt\n",
    "\n",
    "alt.Chart(results_KNN, \n",
    "          title='KNN Performance Comparison'\n",
    "         ).mark_line(point=True).encode(\n",
    "    alt.X('n_neighbors', title='Number of Neighbors'),\n",
    "    alt.Y('test_score', title='Mean CV Score', scale=alt.Scale(zero=False)),\n",
    "    color='metric'\n",
    ")"
   ]
  },
  {
   "cell_type": "markdown",
   "metadata": {},
   "source": [
    "### DT Hyperparameter Tuning and Visualization <a class=\"anchor\" id=\"1.4\"></a>"
   ]
  },
  {
   "cell_type": "markdown",
   "metadata": {},
   "source": [
    "Let's fit a decision tree model and optimize its hyperparameters using a grid search. We shall perform a grid search over split criterion, maximum depth, and minimum samples split parameters."
   ]
  },
  {
   "cell_type": "code",
   "execution_count": 14,
   "metadata": {},
   "outputs": [
    {
     "name": "stdout",
     "output_type": "stream",
     "text": [
      "Fitting 15 folds for each of 32 candidates, totalling 480 fits\n"
     ]
    },
    {
     "name": "stderr",
     "output_type": "stream",
     "text": [
      "[Parallel(n_jobs=1)]: Using backend SequentialBackend with 1 concurrent workers.\n",
      "[Parallel(n_jobs=1)]: Done 480 out of 480 | elapsed:    2.3s finished\n"
     ]
    }
   ],
   "source": [
    "from sklearn.tree import DecisionTreeClassifier\n",
    "\n",
    "df_classifier = DecisionTreeClassifier(random_state=999)\n",
    "\n",
    "params_DT = {'criterion': ['gini', 'entropy'],\n",
    "             'max_depth': [1, 2, 3, 4, 5, 6, 7, 8],\n",
    "             'min_samples_split': [2, 3]}\n",
    "\n",
    "gs_DT = GridSearchCV(estimator=df_classifier, \n",
    "                     param_grid=params_DT, \n",
    "                     cv=cv_method,\n",
    "                     verbose=1, \n",
    "                     scoring='accuracy')\n",
    "\n",
    "gs_DT.fit(Data, target);"
   ]
  },
  {
   "cell_type": "markdown",
   "metadata": {},
   "source": [
    "Let's have a look at the best performing parameter combination."
   ]
  },
  {
   "cell_type": "code",
   "execution_count": 15,
   "metadata": {},
   "outputs": [
    {
     "data": {
      "text/plain": [
       "{'criterion': 'gini', 'max_depth': 5, 'min_samples_split': 2}"
      ]
     },
     "execution_count": 15,
     "metadata": {},
     "output_type": "execute_result"
    }
   ],
   "source": [
    "gs_DT.best_params_"
   ]
  },
  {
   "cell_type": "code",
   "execution_count": 16,
   "metadata": {},
   "outputs": [
    {
     "data": {
      "text/plain": [
       "0.9308728763913299"
      ]
     },
     "execution_count": 16,
     "metadata": {},
     "output_type": "execute_result"
    }
   ],
   "source": [
    "gs_DT.best_score_"
   ]
  },
  {
   "cell_type": "markdown",
   "metadata": {},
   "source": [
    "Let's define a new data frame to store the DT grid search results for visualization."
   ]
  },
  {
   "cell_type": "code",
   "execution_count": 17,
   "metadata": {},
   "outputs": [
    {
     "data": {
      "text/plain": [
       "Index(['criterion', 'max_depth', 'min_samples_split', 'test_score'], dtype='object')"
      ]
     },
     "execution_count": 17,
     "metadata": {},
     "output_type": "execute_result"
    }
   ],
   "source": [
    "results_DT = pd.DataFrame(gs_DT.cv_results_['params'])\n",
    "results_DT['test_score'] = gs_DT.cv_results_['mean_test_score']\n",
    "results_DT.columns"
   ]
  },
  {
   "cell_type": "markdown",
   "metadata": {},
   "source": [
    "Now let's do the plotting with respect to split criterion and maximum depth while taking the average of `min_samples_split` parameter."
   ]
  },
  {
   "cell_type": "code",
   "execution_count": 18,
   "metadata": {},
   "outputs": [
    {
     "data": {
      "application/vnd.vegalite.v2+json": {
       "$schema": "https://vega.github.io/schema/vega-lite/v2.6.0.json",
       "config": {
        "view": {
         "height": 300,
         "width": 400
        }
       },
       "data": {
        "name": "data-2cd643ef734dbcfa9007ba8995296e40"
       },
       "datasets": {
        "data-2cd643ef734dbcfa9007ba8995296e40": [
         {
          "criterion": "gini",
          "max_depth": 1,
          "min_samples_split": 2,
          "test_score": 0.8992384299941417
         },
         {
          "criterion": "gini",
          "max_depth": 1,
          "min_samples_split": 3,
          "test_score": 0.8992384299941417
         },
         {
          "criterion": "gini",
          "max_depth": 2,
          "min_samples_split": 2,
          "test_score": 0.9220855301698887
         },
         {
          "criterion": "gini",
          "max_depth": 2,
          "min_samples_split": 3,
          "test_score": 0.9220855301698887
         },
         {
          "criterion": "gini",
          "max_depth": 3,
          "min_samples_split": 2,
          "test_score": 0.9250146455770357
         },
         {
          "criterion": "gini",
          "max_depth": 3,
          "min_samples_split": 3,
          "test_score": 0.9250146455770357
         },
         {
          "criterion": "gini",
          "max_depth": 4,
          "min_samples_split": 2,
          "test_score": 0.9291154071470415
         },
         {
          "criterion": "gini",
          "max_depth": 4,
          "min_samples_split": 3,
          "test_score": 0.9291154071470415
         },
         {
          "criterion": "gini",
          "max_depth": 5,
          "min_samples_split": 2,
          "test_score": 0.9308728763913299
         },
         {
          "criterion": "gini",
          "max_depth": 5,
          "min_samples_split": 3,
          "test_score": 0.9308728763913299
         },
         {
          "criterion": "gini",
          "max_depth": 6,
          "min_samples_split": 2,
          "test_score": 0.9302870533099004
         },
         {
          "criterion": "gini",
          "max_depth": 6,
          "min_samples_split": 3,
          "test_score": 0.929701230228471
         },
         {
          "criterion": "gini",
          "max_depth": 7,
          "min_samples_split": 2,
          "test_score": 0.9214997070884593
         },
         {
          "criterion": "gini",
          "max_depth": 7,
          "min_samples_split": 3,
          "test_score": 0.9238429994141769
         },
         {
          "criterion": "gini",
          "max_depth": 8,
          "min_samples_split": 2,
          "test_score": 0.9250146455770357
         },
         {
          "criterion": "gini",
          "max_depth": 8,
          "min_samples_split": 3,
          "test_score": 0.9244288224956063
         },
         {
          "criterion": "entropy",
          "max_depth": 1,
          "min_samples_split": 2,
          "test_score": 0.8945518453427065
         },
         {
          "criterion": "entropy",
          "max_depth": 1,
          "min_samples_split": 3,
          "test_score": 0.8945518453427065
         },
         {
          "criterion": "entropy",
          "max_depth": 2,
          "min_samples_split": 2,
          "test_score": 0.9109548916227299
         },
         {
          "criterion": "entropy",
          "max_depth": 2,
          "min_samples_split": 3,
          "test_score": 0.9109548916227299
         },
         {
          "criterion": "entropy",
          "max_depth": 3,
          "min_samples_split": 2,
          "test_score": 0.9302870533099004
         },
         {
          "criterion": "entropy",
          "max_depth": 3,
          "min_samples_split": 3,
          "test_score": 0.9302870533099004
         },
         {
          "criterion": "entropy",
          "max_depth": 4,
          "min_samples_split": 2,
          "test_score": 0.9308728763913299
         },
         {
          "criterion": "entropy",
          "max_depth": 4,
          "min_samples_split": 3,
          "test_score": 0.9308728763913299
         },
         {
          "criterion": "entropy",
          "max_depth": 5,
          "min_samples_split": 2,
          "test_score": 0.9279437609841827
         },
         {
          "criterion": "entropy",
          "max_depth": 5,
          "min_samples_split": 3,
          "test_score": 0.9273579379027533
         },
         {
          "criterion": "entropy",
          "max_depth": 6,
          "min_samples_split": 2,
          "test_score": 0.9279437609841827
         },
         {
          "criterion": "entropy",
          "max_depth": 6,
          "min_samples_split": 3,
          "test_score": 0.9273579379027533
         },
         {
          "criterion": "entropy",
          "max_depth": 7,
          "min_samples_split": 2,
          "test_score": 0.9285295840656121
         },
         {
          "criterion": "entropy",
          "max_depth": 7,
          "min_samples_split": 3,
          "test_score": 0.9279437609841827
         },
         {
          "criterion": "entropy",
          "max_depth": 8,
          "min_samples_split": 2,
          "test_score": 0.9256004686584651
         },
         {
          "criterion": "entropy",
          "max_depth": 8,
          "min_samples_split": 3,
          "test_score": 0.9250146455770357
         }
        ]
       },
       "encoding": {
        "color": {
         "field": "criterion",
         "type": "nominal"
        },
        "x": {
         "field": "max_depth",
         "title": "Maximum Depth",
         "type": "quantitative"
        },
        "y": {
         "aggregate": "average",
         "field": "test_score",
         "scale": {
          "zero": false
         },
         "title": "Mean CV Score",
         "type": "quantitative"
        }
       },
       "mark": {
        "point": true,
        "type": "line"
       },
       "title": "DT Performance Comparison"
      },
      "image/png": "[encoded data removed]",
      "text/plain": [
       "<VegaLite 2 object>\n",
       "\n",
       "If you see this message, it means the renderer has not been properly enabled\n",
       "for the frontend that you are using. For more information, see\n",
       "https://altair-viz.github.io/user_guide/troubleshooting.html\n"
      ]
     },
     "execution_count": 18,
     "metadata": {},
     "output_type": "execute_result"
    }
   ],
   "source": [
    "alt.Chart(results_DT, \n",
    "          title='DT Performance Comparison'\n",
    "         ).mark_line(point=True).encode(\n",
    "    alt.X('max_depth', title='Maximum Depth'),\n",
    "    alt.Y('test_score', title='Mean CV Score', aggregate='average', scale=alt.Scale(zero=False)),\n",
    "    color='criterion'\n",
    ")"
   ]
  },
  {
   "cell_type": "markdown",
   "metadata": {},
   "source": [
    "We observe that the best set of hyperparameters is as follows: entropy split criterion with a maximum depth of 4 and `min_samples_split` value of 2."
   ]
  },
  {
   "cell_type": "markdown",
   "metadata": {},
   "source": [
    "### NB Hyperparameter Tuning and Visualization <a class=\"anchor\" id=\"1.5\"></a>"
   ]
  },
  {
   "cell_type": "markdown",
   "metadata": {},
   "source": [
    "Let's fit a Gaussian Naive Bayes model and optimize its only parameter, `var_smoothing`, using a grid search. Variance smoothing can be considered to be a variant of Laplace smoothing in the sense that the `var_smoothing` parameter specifies the portion of the largest variance of all features to be added to variances for calculation stability.\n",
    "\n",
    "Recall that Gaussian NB assumes that each one of the descriptive features follows a Gaussian, that is, normal distribution. This is highly unlikely in practice, but we can perform what is called a \"power transformation\" on each feature to make it more or less normally distributed. The link [here](https://www.statisticshowto.datasciencecentral.com/box-cox-transformation/) is a good place to start learning about power transformations via its more specific case of Box-Cox transformations.\n",
    "\n",
    "We perform power transformation using the `PowerTransformer` method in `sklearn`, but you need to make sure that you have the latest version of `sklearn` because this is a relatively new method. By default, `PowerTransformer` results in features that have a 0 mean and 1 standard deviation."
   ]
  },
  {
   "cell_type": "markdown",
   "metadata": {},
   "source": [
    "Let's first have a look at an example of a power transformation. We define an exponential random variable with a mean of 2 and sample 1000 numbers from this distribution. Numbers sampled from this distribution are always positive and this distribution is quite right skewed as you can see in the plot below. "
   ]
  },
  {
   "cell_type": "code",
   "execution_count": 19,
   "metadata": {},
   "outputs": [
    {
     "name": "stdout",
     "output_type": "stream",
     "text": [
      "            x distribution\n",
      "342 -0.276524  transformed\n",
      "321  3.216755  exponential\n",
      "247  1.297923  transformed\n",
      "514 -1.678249  transformed\n",
      "343  0.204341  exponential\n",
      "386  0.486638  exponential\n",
      "304  0.883091  exponential\n",
      "772  0.015391  exponential\n",
      "889  0.184597  transformed\n",
      "554  0.076667  exponential\n"
     ]
    }
   ],
   "source": [
    "import numpy as np\n",
    "import altair as alt\n",
    "from sklearn.preprocessing import PowerTransformer\n",
    "\n",
    "np.random.seed(999)\n",
    "\n",
    "sample_size = 1000\n",
    "x_exponential = np.random.exponential(2, sample_size).reshape(-1, 1)\n",
    "x_transformed = PowerTransformer().fit_transform(x_exponential)\n",
    "\n",
    "df1 = pd.DataFrame(x_exponential)\n",
    "df1['distribution'] = 'exponential'\n",
    "\n",
    "df2 = pd.DataFrame(x_transformed)\n",
    "df2['distribution'] = 'transformed'\n",
    "\n",
    "# combine the two data frames into one to be used for plotting\n",
    "df = pd.concat([df1, df2], axis=0)\n",
    "df.rename(columns={0: 'x'}, inplace=True)\n",
    "\n",
    "print(df.sample(n=10))"
   ]
  },
  {
   "cell_type": "markdown",
   "metadata": {},
   "source": [
    "Once we perform a power transformation, we observe that the transformed numbers are centered at 0 and their distribution look like bell-curved."
   ]
  },
  {
   "cell_type": "code",
   "execution_count": 20,
   "metadata": {},
   "outputs": [
    {
     "data": {
      "application/vnd.vegalite.v2+json": {
       "$schema": "https://vega.github.io/schema/vega-lite/v2.6.0.json",
       "config": {
        "view": {
         "height": 300,
         "width": 400
        }
       },
       "data": {
        "name": "data-752ca3fa8286db09ffb830ff0f0184dd"
       },
       "datasets": {
        "data-752ca3fa8286db09ffb830ff0f0184dd": [
         {
          "distribution": "exponential",
          "x": 3.2534534129296637
         },
         {
          "distribution": "exponential",
          "x": 1.4995294395831993
         },
         {
          "distribution": "exponential",
          "x": 0.25364836416261194
         },
         {
          "distribution": "exponential",
          "x": 2.0415335234007106
         },
         {
          "distribution": "exponential",
          "x": 0.19065593802807976
         },
         {
          "distribution": "exponential",
          "x": 0.8076100160533205
         },
         {
          "distribution": "exponential",
          "x": 1.1150692262104849
         },
         {
          "distribution": "exponential",
          "x": 1.6166035032538735
         },
         {
          "distribution": "exponential",
          "x": 1.97840319349586
         },
         {
          "distribution": "exponential",
          "x": 2.390640321261104
         },
         {
          "distribution": "exponential",
          "x": 3.120816400406529
         },
         {
          "distribution": "exponential",
          "x": 0.2828745014993854
         },
         {
          "distribution": "exponential",
          "x": 0.8394438656652755
         },
         {
          "distribution": "exponential",
          "x": 0.45018993521700024
         },
         {
          "distribution": "exponential",
          "x": 2.45737974012829
         },
         {
          "distribution": "exponential",
          "x": 0.0679395170205552
         },
         {
          "distribution": "exponential",
          "x": 4.799294572733721
         },
         {
          "distribution": "exponential",
          "x": 1.0389278698246593
         },
         {
          "distribution": "exponential",
          "x": 2.8578649270266046
         },
         {
          "distribution": "exponential",
          "x": 1.2839896200971876
         },
         {
          "distribution": "exponential",
          "x": 0.6757594234836146
         },
         {
          "distribution": "exponential",
          "x": 2.782955453274036
         },
         {
          "distribution": "exponential",
          "x": 0.20426467131733977
         },
         {
          "distribution": "exponential",
          "x": 1.0632739996172973
         },
         {
          "distribution": "exponential",
          "x": 0.6615659973074244
         },
         {
          "distribution": "exponential",
          "x": 0.9895036070934511
         },
         {
          "distribution": "exponential",
          "x": 4.097579638587692
         },
         {
          "distribution": "exponential",
          "x": 0.16947182784175552
         },
         {
          "distribution": "exponential",
          "x": 1.6325793477597221
         },
         {
          "distribution": "exponential",
          "x": 1.5860865460631441
         },
         {
          "distribution": "exponential",
          "x": 0.8075422961930457
         },
         {
          "distribution": "exponential",
          "x": 7.243848725807204
         },
         {
          "distribution": "exponential",
          "x": 0.6745181657052256
         },
         {
          "distribution": "exponential",
          "x": 1.4196001414335129
         },
         {
          "distribution": "exponential",
          "x": 0.3202218643176567
         },
         {
          "distribution": "exponential",
          "x": 0.43739187522869916
         },
         {
          "distribution": "exponential",
          "x": 3.675439418096152
         },
         {
          "distribution": "exponential",
          "x": 0.007520528263970346
         },
         {
          "distribution": "exponential",
          "x": 3.0522259036181922
         },
         {
          "distribution": "exponential",
          "x": 3.5852522923775543
         },
         {
          "distribution": "exponential",
          "x": 5.558254938476247
         },
         {
          "distribution": "exponential",
          "x": 7.1945459398576705
         },
         {
          "distribution": "exponential",
          "x": 3.5774047968997715
         },
         {
          "distribution": "exponential",
          "x": 0.13616715405798116
         },
         {
          "distribution": "exponential",
          "x": 1.0343332380106498
         },
         {
          "distribution": "exponential",
          "x": 0.9393465238944644
         },
         {
          "distribution": "exponential",
          "x": 1.4165271057544
         },
         {
          "distribution": "exponential",
          "x": 7.622271328736393
         },
         {
          "distribution": "exponential",
          "x": 3.418408309856274
         },
         {
          "distribution": "exponential",
          "x": 0.4153802560589362
         },
         {
          "distribution": "exponential",
          "x": 2.3949752202308217
         },
         {
          "distribution": "exponential",
          "x": 2.2952527872538693
         },
         {
          "distribution": "exponential",
          "x": 14.022119737713098
         },
         {
          "distribution": "exponential",
          "x": 1.317998472884672
         },
         {
          "distribution": "exponential",
          "x": 2.623061656924965
         },
         {
          "distribution": "exponential",
          "x": 3.171270478767991
         },
         {
          "distribution": "exponential",
          "x": 0.6059750256201616
         },
         {
          "distribution": "exponential",
          "x": 0.35126497235062193
         },
         {
          "distribution": "exponential",
          "x": 2.397991437429121
         },
         {
          "distribution": "exponential",
          "x": 4.595377676093316
         },
         {
          "distribution": "exponential",
          "x": 4.9338730124356855
         },
         {
          "distribution": "exponential",
          "x": 0.7492385845253207
         },
         {
          "distribution": "exponential",
          "x": 6.16372031349252
         },
         {
          "distribution": "exponential",
          "x": 2.5766235073376595
         },
         {
          "distribution": "exponential",
          "x": 0.04226421078927104
         },
         {
          "distribution": "exponential",
          "x": 2.5859397297956317
         },
         {
          "distribution": "exponential",
          "x": 1.7429178711141997
         },
         {
          "distribution": "exponential",
          "x": 6.183107809159812
         },
         {
          "distribution": "exponential",
          "x": 2.71216626822904
         },
         {
          "distribution": "exponential",
          "x": 0.44005529112413083
         },
         {
          "distribution": "exponential",
          "x": 5.952114536471109
         },
         {
          "distribution": "exponential",
          "x": 3.9089802472345263
         },
         {
          "distribution": "exponential",
          "x": 1.1922086670374437
         },
         {
          "distribution": "exponential",
          "x": 3.470573521007753
         },
         {
          "distribution": "exponential",
          "x": 11.806013988560753
         },
         {
          "distribution": "exponential",
          "x": 1.6608254170485428
         },
         {
          "distribution": "exponential",
          "x": 1.778331896386241
         },
         {
          "distribution": "exponential",
          "x": 1.1033890440530851
         },
         {
          "distribution": "exponential",
          "x": 4.51690416365191
         },
         {
          "distribution": "exponential",
          "x": 1.1753149067531756
         },
         {
          "distribution": "exponential",
          "x": 1.7218891837219896
         },
         {
          "distribution": "exponential",
          "x": 2.158758029550803
         },
         {
          "distribution": "exponential",
          "x": 0.7203422234750114
         },
         {
          "distribution": "exponential",
          "x": 0.0464506938930615
         },
         {
          "distribution": "exponential",
          "x": 3.636240234172461
         },
         {
          "distribution": "exponential",
          "x": 0.7699516675513358
         },
         {
          "distribution": "exponential",
          "x": 0.9416781198299784
         },
         {
          "distribution": "exponential",
          "x": 0.4011102616873225
         },
         {
          "distribution": "exponential",
          "x": 3.5598810199435804
         },
         {
          "distribution": "exponential",
          "x": 0.4088258578683515
         },
         {
          "distribution": "exponential",
          "x": 6.992346151496475
         },
         {
          "distribution": "exponential",
          "x": 2.384388937716546
         },
         {
          "distribution": "exponential",
          "x": 1.86109643682516
         },
         {
          "distribution": "exponential",
          "x": 1.370384269765596
         },
         {
          "distribution": "exponential",
          "x": 2.4680695393685768
         },
         {
          "distribution": "exponential",
          "x": 0.60340475954984
         },
         {
          "distribution": "exponential",
          "x": 2.1149880058357144
         },
         {
          "distribution": "exponential",
          "x": 1.9508802550267708
         },
         {
          "distribution": "exponential",
          "x": 3.616916277622137
         },
         {
          "distribution": "exponential",
          "x": 0.8839565536885899
         },
         {
          "distribution": "exponential",
          "x": 6.1824492998887965
         },
         {
          "distribution": "exponential",
          "x": 0.13091261044326155
         },
         {
          "distribution": "exponential",
          "x": 4.036854864835626
         },
         {
          "distribution": "exponential",
          "x": 1.6035817404309922
         },
         {
          "distribution": "exponential",
          "x": 4.407056581405829
         },
         {
          "distribution": "exponential",
          "x": 2.747448158122602
         },
         {
          "distribution": "exponential",
          "x": 0.46597173853708135
         },
         {
          "distribution": "exponential",
          "x": 1.339775474684758
         },
         {
          "distribution": "exponential",
          "x": 1.787456039436665
         },
         {
          "distribution": "exponential",
          "x": 4.09391708957864
         },
         {
          "distribution": "exponential",
          "x": 3.2118113100584047
         },
         {
          "distribution": "exponential",
          "x": 6.18163450209801
         },
         {
          "distribution": "exponential",
          "x": 0.3807541794364832
         },
         {
          "distribution": "exponential",
          "x": 0.22597237485333094
         },
         {
          "distribution": "exponential",
          "x": 1.9732085852356993
         },
         {
          "distribution": "exponential",
          "x": 0.9379127260040387
         },
         {
          "distribution": "exponential",
          "x": 2.1111416568129084
         },
         {
          "distribution": "exponential",
          "x": 2.3203729063089766
         },
         {
          "distribution": "exponential",
          "x": 1.29174486034883
         },
         {
          "distribution": "exponential",
          "x": 2.192119745776824
         },
         {
          "distribution": "exponential",
          "x": 6.136641610705067
         },
         {
          "distribution": "exponential",
          "x": 0.40067310344408946
         },
         {
          "distribution": "exponential",
          "x": 2.409350680664158
         },
         {
          "distribution": "exponential",
          "x": 1.1860110697464536
         },
         {
          "distribution": "exponential",
          "x": 1.4868648852690094
         },
         {
          "distribution": "exponential",
          "x": 0.1938035410521774
         },
         {
          "distribution": "exponential",
          "x": 2.2301430261174007
         },
         {
          "distribution": "exponential",
          "x": 4.894492760789231
         },
         {
          "distribution": "exponential",
          "x": 0.8055565814358752
         },
         {
          "distribution": "exponential",
          "x": 6.946928223812598
         },
         {
          "distribution": "exponential",
          "x": 0.38256185859902075
         },
         {
          "distribution": "exponential",
          "x": 0.11510998548867679
         },
         {
          "distribution": "exponential",
          "x": 0.12539264438795197
         },
         {
          "distribution": "exponential",
          "x": 3.026744273063129
         },
         {
          "distribution": "exponential",
          "x": 1.6639065899484047
         },
         {
          "distribution": "exponential",
          "x": 0.2910842261574321
         },
         {
          "distribution": "exponential",
          "x": 1.319832132453136
         },
         {
          "distribution": "exponential",
          "x": 2.139364195018681
         },
         {
          "distribution": "exponential",
          "x": 5.440034968317121
         },
         {
          "distribution": "exponential",
          "x": 1.5666863045610777
         },
         {
          "distribution": "exponential",
          "x": 0.666873949700293
         },
         {
          "distribution": "exponential",
          "x": 0.49336286061304424
         },
         {
          "distribution": "exponential",
          "x": 2.7123530665684203
         },
         {
          "distribution": "exponential",
          "x": 1.3762313723395252
         },
         {
          "distribution": "exponential",
          "x": 0.36398791891529975
         },
         {
          "distribution": "exponential",
          "x": 6.400197866774733
         },
         {
          "distribution": "exponential",
          "x": 0.888715608468864
         },
         {
          "distribution": "exponential",
          "x": 1.0228611464258794
         },
         {
          "distribution": "exponential",
          "x": 2.319128400210858
         },
         {
          "distribution": "exponential",
          "x": 5.437601645062738
         },
         {
          "distribution": "exponential",
          "x": 0.9719070766851899
         },
         {
          "distribution": "exponential",
          "x": 0.8661009717089108
         },
         {
          "distribution": "exponential",
          "x": 0.931499039548201
         },
         {
          "distribution": "exponential",
          "x": 0.37562959565161785
         },
         {
          "distribution": "exponential",
          "x": 0.3931822738241479
         },
         {
          "distribution": "exponential",
          "x": 2.056045023399347
         },
         {
          "distribution": "exponential",
          "x": 7.395451487828455
         },
         {
          "distribution": "exponential",
          "x": 0.15255133103047674
         },
         {
          "distribution": "exponential",
          "x": 0.2805191089249467
         },
         {
          "distribution": "exponential",
          "x": 3.402143316256474
         },
         {
          "distribution": "exponential",
          "x": 3.030388490193752
         },
         {
          "distribution": "exponential",
          "x": 7.850189023839134
         },
         {
          "distribution": "exponential",
          "x": 0.47262312645062043
         },
         {
          "distribution": "exponential",
          "x": 5.457562425736744
         },
         {
          "distribution": "exponential",
          "x": 0.2641641031018963
         },
         {
          "distribution": "exponential",
          "x": 2.3955554679717324
         },
         {
          "distribution": "exponential",
          "x": 4.929601067977795
         },
         {
          "distribution": "exponential",
          "x": 1.4753861452455872
         },
         {
          "distribution": "exponential",
          "x": 1.0177145237712317
         },
         {
          "distribution": "exponential",
          "x": 2.96180326419259
         },
         {
          "distribution": "exponential",
          "x": 3.4685291994720098
         },
         {
          "distribution": "exponential",
          "x": 6.082705490476152
         },
         {
          "distribution": "exponential",
          "x": 0.14125056939799477
         },
         {
          "distribution": "exponential",
          "x": 0.42559501677827355
         },
         {
          "distribution": "exponential",
          "x": 3.0719287980689756
         },
         {
          "distribution": "exponential",
          "x": 2.2523178604107468
         },
         {
          "distribution": "exponential",
          "x": 0.6335295984174499
         },
         {
          "distribution": "exponential",
          "x": 0.003525407611518849
         },
         {
          "distribution": "exponential",
          "x": 1.8025933475447482
         },
         {
          "distribution": "exponential",
          "x": 3.4317905857627866
         },
         {
          "distribution": "exponential",
          "x": 1.2366803546050773
         },
         {
          "distribution": "exponential",
          "x": 2.145823435493699
         },
         {
          "distribution": "exponential",
          "x": 1.4543845744028503
         },
         {
          "distribution": "exponential",
          "x": 6.264599642774956
         },
         {
          "distribution": "exponential",
          "x": 3.4436824633150547
         },
         {
          "distribution": "exponential",
          "x": 1.0179369325896566
         },
         {
          "distribution": "exponential",
          "x": 4.476341659646184
         },
         {
          "distribution": "exponential",
          "x": 0.6279458219760924
         },
         {
          "distribution": "exponential",
          "x": 1.5640159558231466
         },
         {
          "distribution": "exponential",
          "x": 0.5819988431652137
         },
         {
          "distribution": "exponential",
          "x": 1.5057811705672792
         },
         {
          "distribution": "exponential",
          "x": 1.3384904360018486
         },
         {
          "distribution": "exponential",
          "x": 7.623931828278242
         },
         {
          "distribution": "exponential",
          "x": 1.4509979336243921
         },
         {
          "distribution": "exponential",
          "x": 0.7225184726714026
         },
         {
          "distribution": "exponential",
          "x": 0.4960980197064441
         },
         {
          "distribution": "exponential",
          "x": 1.6363915115665664
         },
         {
          "distribution": "exponential",
          "x": 0.9673560232274604
         },
         {
          "distribution": "exponential",
          "x": 3.874202602458085
         },
         {
          "distribution": "exponential",
          "x": 0.12077231970476855
         },
         {
          "distribution": "exponential",
          "x": 0.18159689073739424
         },
         {
          "distribution": "exponential",
          "x": 1.3904704319040353
         },
         {
          "distribution": "exponential",
          "x": 0.9129104599613448
         },
         {
          "distribution": "exponential",
          "x": 2.7303383906180247
         },
         {
          "distribution": "exponential",
          "x": 0.2200003411694246
         },
         {
          "distribution": "exponential",
          "x": 6.399507137144441
         },
         {
          "distribution": "exponential",
          "x": 2.3051965935418908
         },
         {
          "distribution": "exponential",
          "x": 0.0843521852379552
         },
         {
          "distribution": "exponential",
          "x": 0.17501512300301966
         },
         {
          "distribution": "exponential",
          "x": 2.021701668236723
         },
         {
          "distribution": "exponential",
          "x": 2.981382249364897
         },
         {
          "distribution": "exponential",
          "x": 0.6755888358381086
         },
         {
          "distribution": "exponential",
          "x": 0.7105625862077927
         },
         {
          "distribution": "exponential",
          "x": 0.6311938466875495
         },
         {
          "distribution": "exponential",
          "x": 0.6539189995234396
         },
         {
          "distribution": "exponential",
          "x": 0.1604652701162809
         },
         {
          "distribution": "exponential",
          "x": 1.5580228123663444
         },
         {
          "distribution": "exponential",
          "x": 0.01055023896837502
         },
         {
          "distribution": "exponential",
          "x": 2.704335809584451
         },
         {
          "distribution": "exponential",
          "x": 3.7115480693375607
         },
         {
          "distribution": "exponential",
          "x": 0.2280962115976129
         },
         {
          "distribution": "exponential",
          "x": 0.6195545985722342
         },
         {
          "distribution": "exponential",
          "x": 0.35144510425392006
         },
         {
          "distribution": "exponential",
          "x": 1.639269662767794
         },
         {
          "distribution": "exponential",
          "x": 6.197696862874554
         },
         {
          "distribution": "exponential",
          "x": 0.42462853338282897
         },
         {
          "distribution": "exponential",
          "x": 5.486415710146454
         },
         {
          "distribution": "exponential",
          "x": 1.4422380766368947
         },
         {
          "distribution": "exponential",
          "x": 0.5980059024686356
         },
         {
          "distribution": "exponential",
          "x": 3.0089933493891112
         },
         {
          "distribution": "exponential",
          "x": 0.8417986151004949
         },
         {
          "distribution": "exponential",
          "x": 0.7749659055382155
         },
         {
          "distribution": "exponential",
          "x": 3.551522029716288
         },
         {
          "distribution": "exponential",
          "x": 0.5083600910226251
         },
         {
          "distribution": "exponential",
          "x": 0.3145578751805565
         },
         {
          "distribution": "exponential",
          "x": 0.5501381173518224
         },
         {
          "distribution": "exponential",
          "x": 0.40305692221141926
         },
         {
          "distribution": "exponential",
          "x": 0.6238077959597726
         },
         {
          "distribution": "exponential",
          "x": 0.8623328747860687
         },
         {
          "distribution": "exponential",
          "x": 3.4260648535557756
         },
         {
          "distribution": "exponential",
          "x": 0.7607525034971618
         },
         {
          "distribution": "exponential",
          "x": 3.6563540643620747
         },
         {
          "distribution": "exponential",
          "x": 0.07833026547310137
         },
         {
          "distribution": "exponential",
          "x": 1.7317274864229393
         },
         {
          "distribution": "exponential",
          "x": 1.7965714697892505
         },
         {
          "distribution": "exponential",
          "x": 1.7986037340121714
         },
         {
          "distribution": "exponential",
          "x": 2.1083318199137464
         },
         {
          "distribution": "exponential",
          "x": 4.470518139034234
         },
         {
          "distribution": "exponential",
          "x": 0.45059381960859757
         },
         {
          "distribution": "exponential",
          "x": 0.08259917307787458
         },
         {
          "distribution": "exponential",
          "x": 0.8241837222355631
         },
         {
          "distribution": "exponential",
          "x": 1.665461734898198
         },
         {
          "distribution": "exponential",
          "x": 2.625362768311221
         },
         {
          "distribution": "exponential",
          "x": 3.4161008634389494
         },
         {
          "distribution": "exponential",
          "x": 3.545481484370377
         },
         {
          "distribution": "exponential",
          "x": 0.2400326642534357
         },
         {
          "distribution": "exponential",
          "x": 1.3665103513959624
         },
         {
          "distribution": "exponential",
          "x": 9.317285348216647
         },
         {
          "distribution": "exponential",
          "x": 0.9928669198615169
         },
         {
          "distribution": "exponential",
          "x": 4.361703268095853
         },
         {
          "distribution": "exponential",
          "x": 1.426164930456593
         },
         {
          "distribution": "exponential",
          "x": 1.278810073122645
         },
         {
          "distribution": "exponential",
          "x": 0.1073626960252875
         },
         {
          "distribution": "exponential",
          "x": 1.8813416759258994
         },
         {
          "distribution": "exponential",
          "x": 0.17651194855652222
         },
         {
          "distribution": "exponential",
          "x": 1.0917822714699736
         },
         {
          "distribution": "exponential",
          "x": 0.13582491572649463
         },
         {
          "distribution": "exponential",
          "x": 1.809657029383308
         },
         {
          "distribution": "exponential",
          "x": 4.004590720419936
         },
         {
          "distribution": "exponential",
          "x": 2.301519546031755
         },
         {
          "distribution": "exponential",
          "x": 0.11717008180590348
         },
         {
          "distribution": "exponential",
          "x": 2.6894590411367374
         },
         {
          "distribution": "exponential",
          "x": 4.264303437422763
         },
         {
          "distribution": "exponential",
          "x": 7.785987320242771
         },
         {
          "distribution": "exponential",
          "x": 1.8363657048029731
         },
         {
          "distribution": "exponential",
          "x": 0.25856714675676307
         },
         {
          "distribution": "exponential",
          "x": 5.377654581886975
         },
         {
          "distribution": "exponential",
          "x": 2.4807318752703496
         },
         {
          "distribution": "exponential",
          "x": 0.9095818895755051
         },
         {
          "distribution": "exponential",
          "x": 0.677389170048194
         },
         {
          "distribution": "exponential",
          "x": 1.9793298200198384
         },
         {
          "distribution": "exponential",
          "x": 0.8535861812627281
         },
         {
          "distribution": "exponential",
          "x": 5.658071810120893
         },
         {
          "distribution": "exponential",
          "x": 0.17067431140179623
         },
         {
          "distribution": "exponential",
          "x": 1.2159634699067754
         },
         {
          "distribution": "exponential",
          "x": 1.3161761334068802
         },
         {
          "distribution": "exponential",
          "x": 0.3976472368088054
         },
         {
          "distribution": "exponential",
          "x": 2.4655885000082702
         },
         {
          "distribution": "exponential",
          "x": 0.08998172951502614
         },
         {
          "distribution": "exponential",
          "x": 1.4740012502805022
         },
         {
          "distribution": "exponential",
          "x": 2.8110723329239726
         },
         {
          "distribution": "exponential",
          "x": 3.1500353466406334
         },
         {
          "distribution": "exponential",
          "x": 0.04633696703376972
         },
         {
          "distribution": "exponential",
          "x": 0.28177697497052284
         },
         {
          "distribution": "exponential",
          "x": 1.1645117889139098
         },
         {
          "distribution": "exponential",
          "x": 2.161657679564451
         },
         {
          "distribution": "exponential",
          "x": 0.9078987583597732
         },
         {
          "distribution": "exponential",
          "x": 1.0198452563487996
         },
         {
          "distribution": "exponential",
          "x": 0.6714135435637157
         },
         {
          "distribution": "exponential",
          "x": 0.25991516219228644
         },
         {
          "distribution": "exponential",
          "x": 5.044830002726909
         },
         {
          "distribution": "exponential",
          "x": 5.138344989617167
         },
         {
          "distribution": "exponential",
          "x": 1.306607375067187
         },
         {
          "distribution": "exponential",
          "x": 0.10157072581377764
         },
         {
          "distribution": "exponential",
          "x": 0.8830906724494345
         },
         {
          "distribution": "exponential",
          "x": 0.7782163251589771
         },
         {
          "distribution": "exponential",
          "x": 4.380390802716812
         },
         {
          "distribution": "exponential",
          "x": 4.468111936389908
         },
         {
          "distribution": "exponential",
          "x": 0.7860777279392753
         },
         {
          "distribution": "exponential",
          "x": 0.7110827092150473
         },
         {
          "distribution": "exponential",
          "x": 0.7378226405724455
         },
         {
          "distribution": "exponential",
          "x": 0.902901843769526
         },
         {
          "distribution": "exponential",
          "x": 1.383365318000796
         },
         {
          "distribution": "exponential",
          "x": 2.8253036239477836
         },
         {
          "distribution": "exponential",
          "x": 6.9502203835498015
         },
         {
          "distribution": "exponential",
          "x": 0.4972422563756992
         },
         {
          "distribution": "exponential",
          "x": 2.333307356962541
         },
         {
          "distribution": "exponential",
          "x": 0.16710964251959787
         },
         {
          "distribution": "exponential",
          "x": 1.7420355087465245
         },
         {
          "distribution": "exponential",
          "x": 1.95377022638784
         },
         {
          "distribution": "exponential",
          "x": 1.6409425446505603
         },
         {
          "distribution": "exponential",
          "x": 3.2167549984213
         },
         {
          "distribution": "exponential",
          "x": 0.7352277649895468
         },
         {
          "distribution": "exponential",
          "x": 0.11699236142026925
         },
         {
          "distribution": "exponential",
          "x": 2.5092475177097087
         },
         {
          "distribution": "exponential",
          "x": 4.816966243650521
         },
         {
          "distribution": "exponential",
          "x": 0.7498281625215366
         },
         {
          "distribution": "exponential",
          "x": 0.3270461745970558
         },
         {
          "distribution": "exponential",
          "x": 1.3873628400649622
         },
         {
          "distribution": "exponential",
          "x": 0.22542387698964161
         },
         {
          "distribution": "exponential",
          "x": 0.8010937017742343
         },
         {
          "distribution": "exponential",
          "x": 0.3994153229460668
         },
         {
          "distribution": "exponential",
          "x": 0.11354337271635413
         },
         {
          "distribution": "exponential",
          "x": 0.019556758912531735
         },
         {
          "distribution": "exponential",
          "x": 7.957116189322276
         },
         {
          "distribution": "exponential",
          "x": 2.5655465089531715
         },
         {
          "distribution": "exponential",
          "x": 0.9812251840744891
         },
         {
          "distribution": "exponential",
          "x": 1.4866894080043491
         },
         {
          "distribution": "exponential",
          "x": 2.1661062286767065
         },
         {
          "distribution": "exponential",
          "x": 0.18394274863872467
         },
         {
          "distribution": "exponential",
          "x": 3.5065502770460104
         },
         {
          "distribution": "exponential",
          "x": 0.7217538853318136
         },
         {
          "distribution": "exponential",
          "x": 1.0531525324927968
         },
         {
          "distribution": "exponential",
          "x": 0.20434111853265446
         },
         {
          "distribution": "exponential",
          "x": 0.9412423616556489
         },
         {
          "distribution": "exponential",
          "x": 2.7728155058621153
         },
         {
          "distribution": "exponential",
          "x": 0.5569995569782662
         },
         {
          "distribution": "exponential",
          "x": 0.038372286472829774
         },
         {
          "distribution": "exponential",
          "x": 2.590329543106875
         },
         {
          "distribution": "exponential",
          "x": 5.023348140448581
         },
         {
          "distribution": "exponential",
          "x": 1.1136501465336075
         },
         {
          "distribution": "exponential",
          "x": 7.375071549151547
         },
         {
          "distribution": "exponential",
          "x": 0.1197714346309768
         },
         {
          "distribution": "exponential",
          "x": 2.653657058390844
         },
         {
          "distribution": "exponential",
          "x": 1.8620601497479028
         },
         {
          "distribution": "exponential",
          "x": 5.249806398190708
         },
         {
          "distribution": "exponential",
          "x": 2.785007236962855
         },
         {
          "distribution": "exponential",
          "x": 0.19409150747181927
         },
         {
          "distribution": "exponential",
          "x": 0.4884774417060862
         },
         {
          "distribution": "exponential",
          "x": 0.01840376784753325
         },
         {
          "distribution": "exponential",
          "x": 0.19120496465583067
         },
         {
          "distribution": "exponential",
          "x": 1.8679604363746771
         },
         {
          "distribution": "exponential",
          "x": 0.15690460117194846
         },
         {
          "distribution": "exponential",
          "x": 2.7647569012903106
         },
         {
          "distribution": "exponential",
          "x": 6.389175593187196
         },
         {
          "distribution": "exponential",
          "x": 3.7124848481587294
         },
         {
          "distribution": "exponential",
          "x": 5.083095673155013
         },
         {
          "distribution": "exponential",
          "x": 1.3453820632406708
         },
         {
          "distribution": "exponential",
          "x": 1.3043859760692078
         },
         {
          "distribution": "exponential",
          "x": 0.09911159595513157
         },
         {
          "distribution": "exponential",
          "x": 3.072390042450732
         },
         {
          "distribution": "exponential",
          "x": 0.886451889654311
         },
         {
          "distribution": "exponential",
          "x": 12.440708201674116
         },
         {
          "distribution": "exponential",
          "x": 2.1884882106811103
         },
         {
          "distribution": "exponential",
          "x": 2.1073789168162254
         },
         {
          "distribution": "exponential",
          "x": 0.6179733656056536
         },
         {
          "distribution": "exponential",
          "x": 1.1689283193397288
         },
         {
          "distribution": "exponential",
          "x": 3.5309132890036263
         },
         {
          "distribution": "exponential",
          "x": 3.030085484965435
         },
         {
          "distribution": "exponential",
          "x": 0.8413536868162739
         },
         {
          "distribution": "exponential",
          "x": 0.3562113896729002
         },
         {
          "distribution": "exponential",
          "x": 0.402414848094773
         },
         {
          "distribution": "exponential",
          "x": 0.10855709442589717
         },
         {
          "distribution": "exponential",
          "x": 0.5773804960105507
         },
         {
          "distribution": "exponential",
          "x": 8.288585698718862
         },
         {
          "distribution": "exponential",
          "x": 0.7307065074202094
         },
         {
          "distribution": "exponential",
          "x": 0.4866379491566712
         },
         {
          "distribution": "exponential",
          "x": 3.609708143446975
         },
         {
          "distribution": "exponential",
          "x": 1.3290342049356536
         },
         {
          "distribution": "exponential",
          "x": 0.9296152183346115
         },
         {
          "distribution": "exponential",
          "x": 1.3975127583877425
         },
         {
          "distribution": "exponential",
          "x": 0.9471993077295501
         },
         {
          "distribution": "exponential",
          "x": 2.113351653983512
         },
         {
          "distribution": "exponential",
          "x": 0.7077746113515118
         },
         {
          "distribution": "exponential",
          "x": 3.187570077276448
         },
         {
          "distribution": "exponential",
          "x": 0.8431320568251378
         },
         {
          "distribution": "exponential",
          "x": 0.0231398905010997
         },
         {
          "distribution": "exponential",
          "x": 0.5524823005603652
         },
         {
          "distribution": "exponential",
          "x": 0.8628005716006527
         },
         {
          "distribution": "exponential",
          "x": 0.4602415542356282
         },
         {
          "distribution": "exponential",
          "x": 2.937663823782203
         },
         {
          "distribution": "exponential",
          "x": 2.5784962196849417
         },
         {
          "distribution": "exponential",
          "x": 0.4209537779151588
         },
         {
          "distribution": "exponential",
          "x": 1.3534101483163496
         },
         {
          "distribution": "exponential",
          "x": 0.8188940755745532
         },
         {
          "distribution": "exponential",
          "x": 2.937371921667338
         },
         {
          "distribution": "exponential",
          "x": 0.001093557120842385
         },
         {
          "distribution": "exponential",
          "x": 1.5945661045610395
         },
         {
          "distribution": "exponential",
          "x": 1.2835124814532164
         },
         {
          "distribution": "exponential",
          "x": 1.6332272477104015
         },
         {
          "distribution": "exponential",
          "x": 1.5834712492736038
         },
         {
          "distribution": "exponential",
          "x": 0.7534506215760037
         },
         {
          "distribution": "exponential",
          "x": 1.0936207832450617
         },
         {
          "distribution": "exponential",
          "x": 0.012795819673566727
         },
         {
          "distribution": "exponential",
          "x": 0.003019312307205439
         },
         {
          "distribution": "exponential",
          "x": 0.8441824305274475
         },
         {
          "distribution": "exponential",
          "x": 0.017986966147249706
         },
         {
          "distribution": "exponential",
          "x": 0.7744021787145869
         },
         {
          "distribution": "exponential",
          "x": 7.164035706310833
         },
         {
          "distribution": "exponential",
          "x": 1.7732306611870594
         },
         {
          "distribution": "exponential",
          "x": 0.7519578449268192
         },
         {
          "distribution": "exponential",
          "x": 0.4022466616198383
         },
         {
          "distribution": "exponential",
          "x": 4.768594141826727
         },
         {
          "distribution": "exponential",
          "x": 1.8385765742532434
         },
         {
          "distribution": "exponential",
          "x": 0.3691494910460456
         },
         {
          "distribution": "exponential",
          "x": 1.9657302600612707
         },
         {
          "distribution": "exponential",
          "x": 2.138371537419313
         },
         {
          "distribution": "exponential",
          "x": 0.09461837034793363
         },
         {
          "distribution": "exponential",
          "x": 1.1486579178024063
         },
         {
          "distribution": "exponential",
          "x": 0.2568979312130928
         },
         {
          "distribution": "exponential",
          "x": 2.9314663115996176
         },
         {
          "distribution": "exponential",
          "x": 3.4826369010265252
         },
         {
          "distribution": "exponential",
          "x": 1.572153109165633
         },
         {
          "distribution": "exponential",
          "x": 1.3861129500844747
         },
         {
          "distribution": "exponential",
          "x": 1.3057302765474819
         },
         {
          "distribution": "exponential",
          "x": 1.4011614153046557
         },
         {
          "distribution": "exponential",
          "x": 2.9640921427560114
         },
         {
          "distribution": "exponential",
          "x": 1.427933868857501
         },
         {
          "distribution": "exponential",
          "x": 0.8540582982905547
         },
         {
          "distribution": "exponential",
          "x": 2.0754976860645833
         },
         {
          "distribution": "exponential",
          "x": 2.6920705939547354
         },
         {
          "distribution": "exponential",
          "x": 2.625205985355942
         },
         {
          "distribution": "exponential",
          "x": 0.8736618717734004
         },
         {
          "distribution": "exponential",
          "x": 1.6010930591126726
         },
         {
          "distribution": "exponential",
          "x": 0.6121896081216992
         },
         {
          "distribution": "exponential",
          "x": 4.409874518925455
         },
         {
          "distribution": "exponential",
          "x": 2.411034847863796
         },
         {
          "distribution": "exponential",
          "x": 0.567453807256045
         },
         {
          "distribution": "exponential",
          "x": 1.592156799486976
         },
         {
          "distribution": "exponential",
          "x": 1.667118603501859
         },
         {
          "distribution": "exponential",
          "x": 2.9602358973678133
         },
         {
          "distribution": "exponential",
          "x": 0.2755029647622694
         },
         {
          "distribution": "exponential",
          "x": 0.6755442725256647
         },
         {
          "distribution": "exponential",
          "x": 0.8748802880959862
         },
         {
          "distribution": "exponential",
          "x": 0.4790084175083962
         },
         {
          "distribution": "exponential",
          "x": 3.6279894650196036
         },
         {
          "distribution": "exponential",
          "x": 0.25154311969304
         },
         {
          "distribution": "exponential",
          "x": 2.8351800632657436
         },
         {
          "distribution": "exponential",
          "x": 0.34022239586513736
         },
         {
          "distribution": "exponential",
          "x": 3.712308372717315
         },
         {
          "distribution": "exponential",
          "x": 5.114311650613151
         },
         {
          "distribution": "exponential",
          "x": 1.133301632754303
         },
         {
          "distribution": "exponential",
          "x": 1.1216865573760768
         },
         {
          "distribution": "exponential",
          "x": 0.6105152975513651
         },
         {
          "distribution": "exponential",
          "x": 1.4681433293419694
         },
         {
          "distribution": "exponential",
          "x": 1.0557335889471802
         },
         {
          "distribution": "exponential",
          "x": 0.14470658269189512
         },
         {
          "distribution": "exponential",
          "x": 3.877942091511669
         },
         {
          "distribution": "exponential",
          "x": 1.3336649311259694
         },
         {
          "distribution": "exponential",
          "x": 1.3375428485413612
         },
         {
          "distribution": "exponential",
          "x": 0.438466091676044
         },
         {
          "distribution": "exponential",
          "x": 0.804226107339372
         },
         {
          "distribution": "exponential",
          "x": 1.6711840612760172
         },
         {
          "distribution": "exponential",
          "x": 0.8177965800059125
         },
         {
          "distribution": "exponential",
          "x": 3.24515133923351
         },
         {
          "distribution": "exponential",
          "x": 11.385380873453894
         },
         {
          "distribution": "exponential",
          "x": 0.39326100361754396
         },
         {
          "distribution": "exponential",
          "x": 2.0119051046396716
         },
         {
          "distribution": "exponential",
          "x": 2.2529416539768237
         },
         {
          "distribution": "exponential",
          "x": 0.5042205978030962
         },
         {
          "distribution": "exponential",
          "x": 0.780270320431078
         },
         {
          "distribution": "exponential",
          "x": 5.234432884139653
         },
         {
          "distribution": "exponential",
          "x": 0.8247964250212638
         },
         {
          "distribution": "exponential",
          "x": 1.0064979667796863
         },
         {
          "distribution": "exponential",
          "x": 6.631999336670159
         },
         {
          "distribution": "exponential",
          "x": 2.3086208449839756
         },
         {
          "distribution": "exponential",
          "x": 0.5988268661807459
         },
         {
          "distribution": "exponential",
          "x": 1.1167493955375947
         },
         {
          "distribution": "exponential",
          "x": 1.7135221558790175
         },
         {
          "distribution": "exponential",
          "x": 2.3048708539470963
         },
         {
          "distribution": "exponential",
          "x": 1.88649093332356
         },
         {
          "distribution": "exponential",
          "x": 0.41772405398795703
         },
         {
          "distribution": "exponential",
          "x": 2.5128386051444807
         },
         {
          "distribution": "exponential",
          "x": 0.6743109382815422
         },
         {
          "distribution": "exponential",
          "x": 1.635757248600174
         },
         {
          "distribution": "exponential",
          "x": 8.979095320435988
         },
         {
          "distribution": "exponential",
          "x": 0.9206088831883905
         },
         {
          "distribution": "exponential",
          "x": 1.8609904607928698
         },
         {
          "distribution": "exponential",
          "x": 2.0818844990296763
         },
         {
          "distribution": "exponential",
          "x": 0.7836078099888701
         },
         {
          "distribution": "exponential",
          "x": 1.3868868229575695
         },
         {
          "distribution": "exponential",
          "x": 2.1821129578083527
         },
         {
          "distribution": "exponential",
          "x": 2.1400472847681
         },
         {
          "distribution": "exponential",
          "x": 4.473298042083822
         },
         {
          "distribution": "exponential",
          "x": 1.7246294216425806
         },
         {
          "distribution": "exponential",
          "x": 0.5151155337387262
         },
         {
          "distribution": "exponential",
          "x": 0.06317482759745917
         },
         {
          "distribution": "exponential",
          "x": 0.7849610168087886
         },
         {
          "distribution": "exponential",
          "x": 0.9160286515891751
         },
         {
          "distribution": "exponential",
          "x": 0.1751681103635828
         },
         {
          "distribution": "exponential",
          "x": 0.08986621356623171
         },
         {
          "distribution": "exponential",
          "x": 0.16916789882667224
         },
         {
          "distribution": "exponential",
          "x": 0.351448536353515
         },
         {
          "distribution": "exponential",
          "x": 0.06664306077771144
         },
         {
          "distribution": "exponential",
          "x": 0.07175348222005555
         },
         {
          "distribution": "exponential",
          "x": 0.4525305208070883
         },
         {
          "distribution": "exponential",
          "x": 1.5020469264337963
         },
         {
          "distribution": "exponential",
          "x": 2.6278665090713123
         },
         {
          "distribution": "exponential",
          "x": 0.33545065265561563
         },
         {
          "distribution": "exponential",
          "x": 6.204919477755806
         },
         {
          "distribution": "exponential",
          "x": 1.2614469927476426
         },
         {
          "distribution": "exponential",
          "x": 1.8631202037655847
         },
         {
          "distribution": "exponential",
          "x": 0.6734995807769903
         },
         {
          "distribution": "exponential",
          "x": 0.30372747596987554
         },
         {
          "distribution": "exponential",
          "x": 0.047180454886664495
         },
         {
          "distribution": "exponential",
          "x": 2.6248735818796844
         },
         {
          "distribution": "exponential",
          "x": 1.3373718805189083
         },
         {
          "distribution": "exponential",
          "x": 0.7511417900327289
         },
         {
          "distribution": "exponential",
          "x": 0.10725151462142364
         },
         {
          "distribution": "exponential",
          "x": 0.3708485647776594
         },
         {
          "distribution": "exponential",
          "x": 0.3022512046655135
         },
         {
          "distribution": "exponential",
          "x": 1.8684189471985648
         },
         {
          "distribution": "exponential",
          "x": 0.01961849271719856
         },
         {
          "distribution": "exponential",
          "x": 0.6679971340152028
         },
         {
          "distribution": "exponential",
          "x": 0.5973527963466083
         },
         {
          "distribution": "exponential",
          "x": 3.0551639029028608
         },
         {
          "distribution": "exponential",
          "x": 0.9753850208295111
         },
         {
          "distribution": "exponential",
          "x": 0.25105393909368034
         },
         {
          "distribution": "exponential",
          "x": 0.09723909738132178
         },
         {
          "distribution": "exponential",
          "x": 9.082649278590528
         },
         {
          "distribution": "exponential",
          "x": 0.21519626705461264
         },
         {
          "distribution": "exponential",
          "x": 2.6708713582779926
         },
         {
          "distribution": "exponential",
          "x": 1.1390639714027044
         },
         {
          "distribution": "exponential",
          "x": 1.1101586742234193
         },
         {
          "distribution": "exponential",
          "x": 3.393673115917248
         },
         {
          "distribution": "exponential",
          "x": 3.9294938192624973
         },
         {
          "distribution": "exponential",
          "x": 1.5928135537937709
         },
         {
          "distribution": "exponential",
          "x": 0.32602728975103196
         },
         {
          "distribution": "exponential",
          "x": 1.1532845049997966
         },
         {
          "distribution": "exponential",
          "x": 0.9242404684091357
         },
         {
          "distribution": "exponential",
          "x": 1.311005076491884
         },
         {
          "distribution": "exponential",
          "x": 1.4284155159454046
         },
         {
          "distribution": "exponential",
          "x": 1.0561585990604738
         },
         {
          "distribution": "exponential",
          "x": 2.756355694482725
         },
         {
          "distribution": "exponential",
          "x": 0.07666698987037746
         },
         {
          "distribution": "exponential",
          "x": 0.6063889524901834
         },
         {
          "distribution": "exponential",
          "x": 4.056306483450392
         },
         {
          "distribution": "exponential",
          "x": 0.08505122211872476
         },
         {
          "distribution": "exponential",
          "x": 2.270369017974531
         },
         {
          "distribution": "exponential",
          "x": 0.013069824376554986
         },
         {
          "distribution": "exponential",
          "x": 3.4086792476540535
         },
         {
          "distribution": "exponential",
          "x": 0.40147885994363425
         },
         {
          "distribution": "exponential",
          "x": 1.279769059478842
         },
         {
          "distribution": "exponential",
          "x": 0.2388452122483143
         },
         {
          "distribution": "exponential",
          "x": 0.3344863417687596
         },
         {
          "distribution": "exponential",
          "x": 4.182481456917138
         },
         {
          "distribution": "exponential",
          "x": 0.04573306194821754
         },
         {
          "distribution": "exponential",
          "x": 3.282558214239004
         },
         {
          "distribution": "exponential",
          "x": 1.2273215267107946
         },
         {
          "distribution": "exponential",
          "x": 0.4667407354628574
         },
         {
          "distribution": "exponential",
          "x": 0.4715334120589295
         },
         {
          "distribution": "exponential",
          "x": 6.934883366067397
         },
         {
          "distribution": "exponential",
          "x": 5.846197075402425
         },
         {
          "distribution": "exponential",
          "x": 0.13536911426487136
         },
         {
          "distribution": "exponential",
          "x": 3.95854042097811
         },
         {
          "distribution": "exponential",
          "x": 1.2748320563202222
         },
         {
          "distribution": "exponential",
          "x": 1.4949384831369033
         },
         {
          "distribution": "exponential",
          "x": 0.29469316784273253
         },
         {
          "distribution": "exponential",
          "x": 0.3021188886447324
         },
         {
          "distribution": "exponential",
          "x": 9.186188594540914
         },
         {
          "distribution": "exponential",
          "x": 8.8553017997392
         },
         {
          "distribution": "exponential",
          "x": 12.763331121558684
         },
         {
          "distribution": "exponential",
          "x": 2.040768669441546
         },
         {
          "distribution": "exponential",
          "x": 0.5364559957295704
         },
         {
          "distribution": "exponential",
          "x": 0.6419018742840283
         },
         {
          "distribution": "exponential",
          "x": 2.0387566847581025
         },
         {
          "distribution": "exponential",
          "x": 1.8547217419462574
         },
         {
          "distribution": "exponential",
          "x": 0.48897706873521574
         },
         {
          "distribution": "exponential",
          "x": 8.893176888701772
         },
         {
          "distribution": "exponential",
          "x": 1.4678604419597032
         },
         {
          "distribution": "exponential",
          "x": 0.04077466202968895
         },
         {
          "distribution": "exponential",
          "x": 2.76875147440921
         },
         {
          "distribution": "exponential",
          "x": 1.5419407848445097
         },
         {
          "distribution": "exponential",
          "x": 0.47775516789045536
         },
         {
          "distribution": "exponential",
          "x": 0.24435232345009855
         },
         {
          "distribution": "exponential",
          "x": 1.8836446722756484
         },
         {
          "distribution": "exponential",
          "x": 1.3476836441095796
         },
         {
          "distribution": "exponential",
          "x": 0.9939376592312213
         },
         {
          "distribution": "exponential",
          "x": 4.121151976176863
         },
         {
          "distribution": "exponential",
          "x": 0.82081782479867
         },
         {
          "distribution": "exponential",
          "x": 2.766507187707122
         },
         {
          "distribution": "exponential",
          "x": 0.7349040684275887
         },
         {
          "distribution": "exponential",
          "x": 1.2610708188443724
         },
         {
          "distribution": "exponential",
          "x": 2.491108119423763
         },
         {
          "distribution": "exponential",
          "x": 3.651237353974713
         },
         {
          "distribution": "exponential",
          "x": 1.5833923573012751
         },
         {
          "distribution": "exponential",
          "x": 0.7843561167669529
         },
         {
          "distribution": "exponential",
          "x": 1.808061282767281
         },
         {
          "distribution": "exponential",
          "x": 0.7119038400836504
         },
         {
          "distribution": "exponential",
          "x": 0.7274465042369157
         },
         {
          "distribution": "exponential",
          "x": 0.9837917942918459
         },
         {
          "distribution": "exponential",
          "x": 3.634330070350957
         },
         {
          "distribution": "exponential",
          "x": 0.10514083403609828
         },
         {
          "distribution": "exponential",
          "x": 2.5690954657894296
         },
         {
          "distribution": "exponential",
          "x": 0.4803664627951831
         },
         {
          "distribution": "exponential",
          "x": 0.20800340983317575
         },
         {
          "distribution": "exponential",
          "x": 0.9385343685705924
         },
         {
          "distribution": "exponential",
          "x": 0.06263305286363066
         },
         {
          "distribution": "exponential",
          "x": 0.30230951614276896
         },
         {
          "distribution": "exponential",
          "x": 0.5831459016391617
         },
         {
          "distribution": "exponential",
          "x": 2.5516902215285255
         },
         {
          "distribution": "exponential",
          "x": 0.2129088755490848
         },
         {
          "distribution": "exponential",
          "x": 2.499054136588791
         },
         {
          "distribution": "exponential",
          "x": 0.16024739075235597
         },
         {
          "distribution": "exponential",
          "x": 1.9338541251831558
         },
         {
          "distribution": "exponential",
          "x": 4.13252884308884
         },
         {
          "distribution": "exponential",
          "x": 0.8015594886134692
         },
         {
          "distribution": "exponential",
          "x": 3.2574014308750074
         },
         {
          "distribution": "exponential",
          "x": 0.3500244246744876
         },
         {
          "distribution": "exponential",
          "x": 2.0209328124745376
         },
         {
          "distribution": "exponential",
          "x": 0.6302737621843544
         },
         {
          "distribution": "exponential",
          "x": 0.6811223158719245
         },
         {
          "distribution": "exponential",
          "x": 0.3742077747912218
         },
         {
          "distribution": "exponential",
          "x": 5.320219677101543
         },
         {
          "distribution": "exponential",
          "x": 0.21943082728737137
         },
         {
          "distribution": "exponential",
          "x": 2.28433884757951
         },
         {
          "distribution": "exponential",
          "x": 3.6542676436604142
         },
         {
          "distribution": "exponential",
          "x": 4.6371553738098745
         },
         {
          "distribution": "exponential",
          "x": 0.3109571167155855
         },
         {
          "distribution": "exponential",
          "x": 4.327206409613679
         },
         {
          "distribution": "exponential",
          "x": 14.014069968879227
         },
         {
          "distribution": "exponential",
          "x": 1.3526991998488138
         },
         {
          "distribution": "exponential",
          "x": 1.3506444567202869
         },
         {
          "distribution": "exponential",
          "x": 2.1697242950754867
         },
         {
          "distribution": "exponential",
          "x": 0.5128321792194256
         },
         {
          "distribution": "exponential",
          "x": 0.6558425639196502
         },
         {
          "distribution": "exponential",
          "x": 0.65598314822044
         },
         {
          "distribution": "exponential",
          "x": 4.708696051476395
         },
         {
          "distribution": "exponential",
          "x": 0.46579102978402115
         },
         {
          "distribution": "exponential",
          "x": 0.660618494075758
         },
         {
          "distribution": "exponential",
          "x": 0.8445499457810337
         },
         {
          "distribution": "exponential",
          "x": 4.026308752215193
         },
         {
          "distribution": "exponential",
          "x": 2.637700053715393
         },
         {
          "distribution": "exponential",
          "x": 4.428961440685408
         },
         {
          "distribution": "exponential",
          "x": 0.5716188081428049
         },
         {
          "distribution": "exponential",
          "x": 1.7056524160147526
         },
         {
          "distribution": "exponential",
          "x": 5.930861904571049
         },
         {
          "distribution": "exponential",
          "x": 3.3285121197025367
         },
         {
          "distribution": "exponential",
          "x": 5.357740717820549
         },
         {
          "distribution": "exponential",
          "x": 2.698020520757173
         },
         {
          "distribution": "exponential",
          "x": 1.5766547893688048
         },
         {
          "distribution": "exponential",
          "x": 2.1864894616644266
         },
         {
          "distribution": "exponential",
          "x": 4.310762372485082
         },
         {
          "distribution": "exponential",
          "x": 1.5509036908101235
         },
         {
          "distribution": "exponential",
          "x": 1.2731372395237377
         },
         {
          "distribution": "exponential",
          "x": 2.4667125289492358
         },
         {
          "distribution": "exponential",
          "x": 1.3724508246441838
         },
         {
          "distribution": "exponential",
          "x": 2.2600149774764464
         },
         {
          "distribution": "exponential",
          "x": 2.7298108521541256
         },
         {
          "distribution": "exponential",
          "x": 1.6601338304935818
         },
         {
          "distribution": "exponential",
          "x": 0.2896561612101308
         },
         {
          "distribution": "exponential",
          "x": 3.922994102108005
         },
         {
          "distribution": "exponential",
          "x": 0.5380712495039315
         },
         {
          "distribution": "exponential",
          "x": 1.0152323027429175
         },
         {
          "distribution": "exponential",
          "x": 1.684853371918194
         },
         {
          "distribution": "exponential",
          "x": 2.527783907252241
         },
         {
          "distribution": "exponential",
          "x": 3.6748463343228748
         },
         {
          "distribution": "exponential",
          "x": 0.6739098416704097
         },
         {
          "distribution": "exponential",
          "x": 5.1755855535201745
         },
         {
          "distribution": "exponential",
          "x": 1.6666316487313562
         },
         {
          "distribution": "exponential",
          "x": 0.6427903579393557
         },
         {
          "distribution": "exponential",
          "x": 0.18912246762095028
         },
         {
          "distribution": "exponential",
          "x": 2.6825491084232485
         },
         {
          "distribution": "exponential",
          "x": 0.5685682596448383
         },
         {
          "distribution": "exponential",
          "x": 3.5141631807337244
         },
         {
          "distribution": "exponential",
          "x": 0.09359737288863645
         },
         {
          "distribution": "exponential",
          "x": 1.9860394549145108
         },
         {
          "distribution": "exponential",
          "x": 1.26119765847614
         },
         {
          "distribution": "exponential",
          "x": 2.3176127946590754
         },
         {
          "distribution": "exponential",
          "x": 2.548100358946693
         },
         {
          "distribution": "exponential",
          "x": 2.9190399024005145
         },
         {
          "distribution": "exponential",
          "x": 2.8668387708157232
         },
         {
          "distribution": "exponential",
          "x": 0.5932304437756851
         },
         {
          "distribution": "exponential",
          "x": 2.2006811848766947
         },
         {
          "distribution": "exponential",
          "x": 2.2242276215350394
         },
         {
          "distribution": "exponential",
          "x": 2.382356028834855
         },
         {
          "distribution": "exponential",
          "x": 3.5880304793292135
         },
         {
          "distribution": "exponential",
          "x": 1.3952195873193207
         },
         {
          "distribution": "exponential",
          "x": 1.1578644926711419
         },
         {
          "distribution": "exponential",
          "x": 0.37150487004069216
         },
         {
          "distribution": "exponential",
          "x": 2.8589818710905335
         },
         {
          "distribution": "exponential",
          "x": 0.20596021589748303
         },
         {
          "distribution": "exponential",
          "x": 1.9906646801708587
         },
         {
          "distribution": "exponential",
          "x": 0.3377787236430555
         },
         {
          "distribution": "exponential",
          "x": 0.017411255529539354
         },
         {
          "distribution": "exponential",
          "x": 1.1082816651422043
         },
         {
          "distribution": "exponential",
          "x": 0.10558054894424236
         },
         {
          "distribution": "exponential",
          "x": 4.569927269557729
         },
         {
          "distribution": "exponential",
          "x": 0.29951606195751157
         },
         {
          "distribution": "exponential",
          "x": 1.1673988844003276
         },
         {
          "distribution": "exponential",
          "x": 2.023634215856325
         },
         {
          "distribution": "exponential",
          "x": 0.6437017381679606
         },
         {
          "distribution": "exponential",
          "x": 9.914050464854943
         },
         {
          "distribution": "exponential",
          "x": 0.4088975945084519
         },
         {
          "distribution": "exponential",
          "x": 0.618106468910292
         },
         {
          "distribution": "exponential",
          "x": 1.880313047186329
         },
         {
          "distribution": "exponential",
          "x": 2.53439953515964
         },
         {
          "distribution": "exponential",
          "x": 2.3689730548237935
         },
         {
          "distribution": "exponential",
          "x": 1.7760748273899358
         },
         {
          "distribution": "exponential",
          "x": 0.07637071005976415
         },
         {
          "distribution": "exponential",
          "x": 3.521397880078611
         },
         {
          "distribution": "exponential",
          "x": 3.389156333609015
         },
         {
          "distribution": "exponential",
          "x": 2.0406220185215758
         },
         {
          "distribution": "exponential",
          "x": 0.3456366761359845
         },
         {
          "distribution": "exponential",
          "x": 0.735910445427829
         },
         {
          "distribution": "exponential",
          "x": 5.443732522292719
         },
         {
          "distribution": "exponential",
          "x": 1.5561788175659066
         },
         {
          "distribution": "exponential",
          "x": 2.6335605809569644
         },
         {
          "distribution": "exponential",
          "x": 0.15952935937659546
         },
         {
          "distribution": "exponential",
          "x": 0.8125975130226069
         },
         {
          "distribution": "exponential",
          "x": 1.260653918723395
         },
         {
          "distribution": "exponential",
          "x": 2.1922350918727402
         },
         {
          "distribution": "exponential",
          "x": 3.9257245465719453
         },
         {
          "distribution": "exponential",
          "x": 3.287577576792739
         },
         {
          "distribution": "exponential",
          "x": 1.0602393950468214
         },
         {
          "distribution": "exponential",
          "x": 1.1234766783306738
         },
         {
          "distribution": "exponential",
          "x": 1.6780209014915672
         },
         {
          "distribution": "exponential",
          "x": 1.627755696076081
         },
         {
          "distribution": "exponential",
          "x": 0.3451221975832409
         },
         {
          "distribution": "exponential",
          "x": 5.613061462128947
         },
         {
          "distribution": "exponential",
          "x": 3.191099366524051
         },
         {
          "distribution": "exponential",
          "x": 0.11747264031929355
         },
         {
          "distribution": "exponential",
          "x": 0.16906526968383548
         },
         {
          "distribution": "exponential",
          "x": 1.5270271022872393
         },
         {
          "distribution": "exponential",
          "x": 2.0460607617665922
         },
         {
          "distribution": "exponential",
          "x": 0.6811171000688399
         },
         {
          "distribution": "exponential",
          "x": 0.13240009814426787
         },
         {
          "distribution": "exponential",
          "x": 0.3558954751620747
         },
         {
          "distribution": "exponential",
          "x": 0.47856300460021867
         },
         {
          "distribution": "exponential",
          "x": 0.7658726559303364
         },
         {
          "distribution": "exponential",
          "x": 0.23249274971500838
         },
         {
          "distribution": "exponential",
          "x": 0.22208725700313414
         },
         {
          "distribution": "exponential",
          "x": 1.1767092914288573
         },
         {
          "distribution": "exponential",
          "x": 0.23058197926489765
         },
         {
          "distribution": "exponential",
          "x": 2.7570176276817615
         },
         {
          "distribution": "exponential",
          "x": 1.2378835771071166
         },
         {
          "distribution": "exponential",
          "x": 4.214516402559976
         },
         {
          "distribution": "exponential",
          "x": 5.813371038706973
         },
         {
          "distribution": "exponential",
          "x": 1.0348730859652464
         },
         {
          "distribution": "exponential",
          "x": 1.5296459285052961
         },
         {
          "distribution": "exponential",
          "x": 2.9808269352876593
         },
         {
          "distribution": "exponential",
          "x": 0.4201624133346536
         },
         {
          "distribution": "exponential",
          "x": 0.5704769420292622
         },
         {
          "distribution": "exponential",
          "x": 2.530201787138933
         },
         {
          "distribution": "exponential",
          "x": 4.154728197000614
         },
         {
          "distribution": "exponential",
          "x": 0.11316028722192778
         },
         {
          "distribution": "exponential",
          "x": 3.83320298212121
         },
         {
          "distribution": "exponential",
          "x": 2.693306692370205
         },
         {
          "distribution": "exponential",
          "x": 0.9701265034072598
         },
         {
          "distribution": "exponential",
          "x": 12.220206367777779
         },
         {
          "distribution": "exponential",
          "x": 0.23221314192117343
         },
         {
          "distribution": "exponential",
          "x": 0.4055500399937688
         },
         {
          "distribution": "exponential",
          "x": 0.015390688074164233
         },
         {
          "distribution": "exponential",
          "x": 3.6653689063410795
         },
         {
          "distribution": "exponential",
          "x": 1.6046110594398737
         },
         {
          "distribution": "exponential",
          "x": 1.3743834419119045
         },
         {
          "distribution": "exponential",
          "x": 1.4470100144578864
         },
         {
          "distribution": "exponential",
          "x": 0.3234257992913448
         },
         {
          "distribution": "exponential",
          "x": 4.76900500373612
         },
         {
          "distribution": "exponential",
          "x": 1.9723627178011254
         },
         {
          "distribution": "exponential",
          "x": 0.3055849616009663
         },
         {
          "distribution": "exponential",
          "x": 1.8597580493910186
         },
         {
          "distribution": "exponential",
          "x": 1.9191442363625302
         },
         {
          "distribution": "exponential",
          "x": 2.174943410189978
         },
         {
          "distribution": "exponential",
          "x": 6.735045208016284
         },
         {
          "distribution": "exponential",
          "x": 1.3199812960817194
         },
         {
          "distribution": "exponential",
          "x": 1.5682228797435975
         },
         {
          "distribution": "exponential",
          "x": 1.742949992600387
         },
         {
          "distribution": "exponential",
          "x": 0.27869323801044865
         },
         {
          "distribution": "exponential",
          "x": 1.3631260068674256
         },
         {
          "distribution": "exponential",
          "x": 1.303618366341661
         },
         {
          "distribution": "exponential",
          "x": 0.6481241014192203
         },
         {
          "distribution": "exponential",
          "x": 0.9866173720003912
         },
         {
          "distribution": "exponential",
          "x": 1.837872107704801
         },
         {
          "distribution": "exponential",
          "x": 3.593784185039434
         },
         {
          "distribution": "exponential",
          "x": 0.44220041014429823
         },
         {
          "distribution": "exponential",
          "x": 0.1212003158632329
         },
         {
          "distribution": "exponential",
          "x": 0.6681404381057766
         },
         {
          "distribution": "exponential",
          "x": 3.769288819081163
         },
         {
          "distribution": "exponential",
          "x": 4.73212161452033
         },
         {
          "distribution": "exponential",
          "x": 1.75900908552539
         },
         {
          "distribution": "exponential",
          "x": 4.935447114547404
         },
         {
          "distribution": "exponential",
          "x": 0.3975704713381106
         },
         {
          "distribution": "exponential",
          "x": 0.058172882761664824
         },
         {
          "distribution": "exponential",
          "x": 3.3645829956969378
         },
         {
          "distribution": "exponential",
          "x": 2.476802143795153
         },
         {
          "distribution": "exponential",
          "x": 0.18628806160651523
         },
         {
          "distribution": "exponential",
          "x": 1.7449250258119897
         },
         {
          "distribution": "exponential",
          "x": 0.8518388243046136
         },
         {
          "distribution": "exponential",
          "x": 1.7475075460301257
         },
         {
          "distribution": "exponential",
          "x": 3.7305223929386444
         },
         {
          "distribution": "exponential",
          "x": 0.32764979871521516
         },
         {
          "distribution": "exponential",
          "x": 0.2163490690404119
         },
         {
          "distribution": "exponential",
          "x": 0.27160415450091846
         },
         {
          "distribution": "exponential",
          "x": 2.9087108564357376
         },
         {
          "distribution": "exponential",
          "x": 2.313260371363574
         },
         {
          "distribution": "exponential",
          "x": 2.5484642452752975
         },
         {
          "distribution": "exponential",
          "x": 2.1187129844029675
         },
         {
          "distribution": "exponential",
          "x": 4.30034655010812
         },
         {
          "distribution": "exponential",
          "x": 2.158500066653666
         },
         {
          "distribution": "exponential",
          "x": 1.4370475467725674
         },
         {
          "distribution": "exponential",
          "x": 2.751963741096665
         },
         {
          "distribution": "exponential",
          "x": 5.8576642271582395
         },
         {
          "distribution": "exponential",
          "x": 2.2085874132432575
         },
         {
          "distribution": "exponential",
          "x": 0.21046858958454134
         },
         {
          "distribution": "exponential",
          "x": 0.5215708110385667
         },
         {
          "distribution": "exponential",
          "x": 2.2242360545420143
         },
         {
          "distribution": "exponential",
          "x": 1.1152947421483146
         },
         {
          "distribution": "exponential",
          "x": 0.7895600913275124
         },
         {
          "distribution": "exponential",
          "x": 1.932969059207057
         },
         {
          "distribution": "exponential",
          "x": 1.6571854081484
         },
         {
          "distribution": "exponential",
          "x": 1.2580661468128749
         },
         {
          "distribution": "exponential",
          "x": 2.8937104325352077
         },
         {
          "distribution": "exponential",
          "x": 0.9085405574951136
         },
         {
          "distribution": "exponential",
          "x": 0.20539372426631364
         },
         {
          "distribution": "exponential",
          "x": 1.5493677497614908
         },
         {
          "distribution": "exponential",
          "x": 1.6297741574133264
         },
         {
          "distribution": "exponential",
          "x": 8.600669620992432
         },
         {
          "distribution": "exponential",
          "x": 0.8641971070911224
         },
         {
          "distribution": "exponential",
          "x": 7.750554241153948
         },
         {
          "distribution": "exponential",
          "x": 2.226403111288502
         },
         {
          "distribution": "exponential",
          "x": 2.8387892071289804
         },
         {
          "distribution": "exponential",
          "x": 0.6388239748560424
         },
         {
          "distribution": "exponential",
          "x": 0.13732114931053135
         },
         {
          "distribution": "exponential",
          "x": 3.547236771693047
         },
         {
          "distribution": "exponential",
          "x": 3.6439285454577615
         },
         {
          "distribution": "exponential",
          "x": 0.1993587766690395
         },
         {
          "distribution": "exponential",
          "x": 2.171893033613568
         },
         {
          "distribution": "exponential",
          "x": 4.251240732316836
         },
         {
          "distribution": "exponential",
          "x": 1.3545029796628383
         },
         {
          "distribution": "exponential",
          "x": 1.3440119926979233
         },
         {
          "distribution": "exponential",
          "x": 1.2747964545892574
         },
         {
          "distribution": "exponential",
          "x": 3.5529639289657577
         },
         {
          "distribution": "exponential",
          "x": 0.4273982854866697
         },
         {
          "distribution": "exponential",
          "x": 0.49203553081124024
         },
         {
          "distribution": "exponential",
          "x": 1.135130298850687
         },
         {
          "distribution": "exponential",
          "x": 0.6302698601870383
         },
         {
          "distribution": "exponential",
          "x": 0.3555093605267331
         },
         {
          "distribution": "exponential",
          "x": 1.3072982611776789
         },
         {
          "distribution": "exponential",
          "x": 1.4561957993608325
         },
         {
          "distribution": "exponential",
          "x": 0.25016986206695657
         },
         {
          "distribution": "exponential",
          "x": 7.26132506200124
         },
         {
          "distribution": "exponential",
          "x": 4.212379562808211
         },
         {
          "distribution": "exponential",
          "x": 2.4214910956056817
         },
         {
          "distribution": "exponential",
          "x": 1.3947242834530107
         },
         {
          "distribution": "exponential",
          "x": 6.183454432670165
         },
         {
          "distribution": "exponential",
          "x": 1.1733145507716287
         },
         {
          "distribution": "exponential",
          "x": 0.06374272971698271
         },
         {
          "distribution": "exponential",
          "x": 1.630867650042555
         },
         {
          "distribution": "exponential",
          "x": 0.8502012273220384
         },
         {
          "distribution": "exponential",
          "x": 5.618790530639591
         },
         {
          "distribution": "exponential",
          "x": 8.059223881776427
         },
         {
          "distribution": "exponential",
          "x": 1.7296713408633284
         },
         {
          "distribution": "exponential",
          "x": 1.983977438104929
         },
         {
          "distribution": "exponential",
          "x": 0.08484837359636764
         },
         {
          "distribution": "exponential",
          "x": 0.549498842074065
         },
         {
          "distribution": "exponential",
          "x": 0.597440669388856
         },
         {
          "distribution": "exponential",
          "x": 1.9027124059911724
         },
         {
          "distribution": "exponential",
          "x": 2.4570871371848426
         },
         {
          "distribution": "exponential",
          "x": 0.1254621391375614
         },
         {
          "distribution": "exponential",
          "x": 0.2938998871925392
         },
         {
          "distribution": "exponential",
          "x": 0.5951481705515239
         },
         {
          "distribution": "exponential",
          "x": 1.4531790099160047
         },
         {
          "distribution": "exponential",
          "x": 0.1410816999968681
         },
         {
          "distribution": "exponential",
          "x": 1.0416150474588124
         },
         {
          "distribution": "exponential",
          "x": 0.2519367052260358
         },
         {
          "distribution": "exponential",
          "x": 0.07621775491648082
         },
         {
          "distribution": "exponential",
          "x": 1.6715305543248051
         },
         {
          "distribution": "exponential",
          "x": 1.1268445030999887
         },
         {
          "distribution": "exponential",
          "x": 1.643213139666991
         },
         {
          "distribution": "exponential",
          "x": 2.1895538092258633
         },
         {
          "distribution": "exponential",
          "x": 0.4364357513111754
         },
         {
          "distribution": "exponential",
          "x": 8.52839383561948
         },
         {
          "distribution": "exponential",
          "x": 1.015359002997841
         },
         {
          "distribution": "exponential",
          "x": 1.5029373097707655
         },
         {
          "distribution": "exponential",
          "x": 1.9030952511133565
         },
         {
          "distribution": "exponential",
          "x": 1.1426898100365679
         },
         {
          "distribution": "exponential",
          "x": 0.1833884322241323
         },
         {
          "distribution": "exponential",
          "x": 2.714625007370729
         },
         {
          "distribution": "exponential",
          "x": 0.4457342739815391
         },
         {
          "distribution": "exponential",
          "x": 0.2531004191315962
         },
         {
          "distribution": "exponential",
          "x": 0.27375702346604586
         },
         {
          "distribution": "exponential",
          "x": 8.858860166522275
         },
         {
          "distribution": "exponential",
          "x": 1.8547430440593387
         },
         {
          "distribution": "exponential",
          "x": 3.576247687683134
         },
         {
          "distribution": "exponential",
          "x": 17.237281182371184
         },
         {
          "distribution": "exponential",
          "x": 3.087051587754067
         },
         {
          "distribution": "exponential",
          "x": 0.24449892070193513
         },
         {
          "distribution": "exponential",
          "x": 1.2328075206346785
         },
         {
          "distribution": "exponential",
          "x": 5.1478891048519095
         },
         {
          "distribution": "exponential",
          "x": 0.0600622224092631
         },
         {
          "distribution": "exponential",
          "x": 1.9773370927865335
         },
         {
          "distribution": "exponential",
          "x": 0.9782318688684193
         },
         {
          "distribution": "exponential",
          "x": 0.7264113047105292
         },
         {
          "distribution": "exponential",
          "x": 3.1404253770321002
         },
         {
          "distribution": "exponential",
          "x": 0.12610298764197012
         },
         {
          "distribution": "exponential",
          "x": 0.25357557820329285
         },
         {
          "distribution": "exponential",
          "x": 4.8131884810528085
         },
         {
          "distribution": "exponential",
          "x": 0.4019423065975314
         },
         {
          "distribution": "exponential",
          "x": 3.3035289801186214
         },
         {
          "distribution": "exponential",
          "x": 1.2534699980675745
         },
         {
          "distribution": "exponential",
          "x": 0.8054949651093349
         },
         {
          "distribution": "exponential",
          "x": 0.8684413524339201
         },
         {
          "distribution": "exponential",
          "x": 2.738801983296153
         },
         {
          "distribution": "exponential",
          "x": 2.0500438199058606
         },
         {
          "distribution": "exponential",
          "x": 2.1705800531160335
         },
         {
          "distribution": "exponential",
          "x": 3.011917203130921
         },
         {
          "distribution": "exponential",
          "x": 2.488103248401048
         },
         {
          "distribution": "exponential",
          "x": 1.8380963056453614
         },
         {
          "distribution": "exponential",
          "x": 0.9550230878163976
         },
         {
          "distribution": "exponential",
          "x": 2.950993153493119
         },
         {
          "distribution": "exponential",
          "x": 0.7047237317963001
         },
         {
          "distribution": "exponential",
          "x": 0.38226467337906744
         },
         {
          "distribution": "exponential",
          "x": 1.681659332958361
         },
         {
          "distribution": "exponential",
          "x": 2.73846603217381
         },
         {
          "distribution": "exponential",
          "x": 0.08739241840897129
         },
         {
          "distribution": "exponential",
          "x": 0.8638845813126804
         },
         {
          "distribution": "exponential",
          "x": 2.586832601458434
         },
         {
          "distribution": "exponential",
          "x": 0.6448253546962178
         },
         {
          "distribution": "exponential",
          "x": 2.9013654467901753
         },
         {
          "distribution": "exponential",
          "x": 0.2097208150235862
         },
         {
          "distribution": "exponential",
          "x": 6.125492140724683
         },
         {
          "distribution": "exponential",
          "x": 0.7736716116172612
         },
         {
          "distribution": "exponential",
          "x": 5.145946954913994
         },
         {
          "distribution": "exponential",
          "x": 3.7343423825375885
         },
         {
          "distribution": "exponential",
          "x": 1.948668290913547
         },
         {
          "distribution": "exponential",
          "x": 0.48386815600438216
         },
         {
          "distribution": "exponential",
          "x": 5.19600696043257
         },
         {
          "distribution": "exponential",
          "x": 1.0167296553567962
         },
         {
          "distribution": "exponential",
          "x": 3.268502119460362
         },
         {
          "distribution": "exponential",
          "x": 4.426717976021144
         },
         {
          "distribution": "exponential",
          "x": 0.6453099967146932
         },
         {
          "distribution": "exponential",
          "x": 0.831697223002604
         },
         {
          "distribution": "exponential",
          "x": 0.11782076940818027
         },
         {
          "distribution": "exponential",
          "x": 2.6808971528175256
         },
         {
          "distribution": "exponential",
          "x": 4.975399650846353
         },
         {
          "distribution": "exponential",
          "x": 3.2880606389370652
         },
         {
          "distribution": "exponential",
          "x": 3.888723057437515
         },
         {
          "distribution": "exponential",
          "x": 1.6168451397484762
         },
         {
          "distribution": "exponential",
          "x": 1.3922541075380765
         },
         {
          "distribution": "exponential",
          "x": 1.7366632943647449
         },
         {
          "distribution": "exponential",
          "x": 1.915574508892362
         },
         {
          "distribution": "exponential",
          "x": 0.3187578009715817
         },
         {
          "distribution": "exponential",
          "x": 6.410283015875815
         },
         {
          "distribution": "exponential",
          "x": 1.3676123153618382
         },
         {
          "distribution": "exponential",
          "x": 1.2140236934950586
         },
         {
          "distribution": "exponential",
          "x": 0.8101388483612108
         },
         {
          "distribution": "exponential",
          "x": 0.2859529040506601
         },
         {
          "distribution": "exponential",
          "x": 0.11129621473925272
         },
         {
          "distribution": "exponential",
          "x": 1.2555086238424065
         },
         {
          "distribution": "exponential",
          "x": 2.9626808518089365
         },
         {
          "distribution": "exponential",
          "x": 5.581380219333087
         },
         {
          "distribution": "exponential",
          "x": 1.6696719388454009
         },
         {
          "distribution": "exponential",
          "x": 0.6993687919540302
         },
         {
          "distribution": "exponential",
          "x": 0.20146077720274166
         },
         {
          "distribution": "exponential",
          "x": 1.941233511294865
         },
         {
          "distribution": "exponential",
          "x": 3.0014340955939023
         },
         {
          "distribution": "exponential",
          "x": 1.5825354755960495
         },
         {
          "distribution": "exponential",
          "x": 6.698209018331438
         },
         {
          "distribution": "exponential",
          "x": 2.9092566662314945
         },
         {
          "distribution": "exponential",
          "x": 3.9894503052270913
         },
         {
          "distribution": "exponential",
          "x": 2.4385809049377842
         },
         {
          "distribution": "exponential",
          "x": 4.818133476557691
         },
         {
          "distribution": "exponential",
          "x": 4.027990593268172
         },
         {
          "distribution": "exponential",
          "x": 4.837660064058336
         },
         {
          "distribution": "exponential",
          "x": 4.1752165986902705
         },
         {
          "distribution": "exponential",
          "x": 3.095861906452162
         },
         {
          "distribution": "exponential",
          "x": 1.852646815622216
         },
         {
          "distribution": "exponential",
          "x": 1.3507570516088243
         },
         {
          "distribution": "exponential",
          "x": 3.3155563390262768
         },
         {
          "distribution": "exponential",
          "x": 1.513153684345571
         },
         {
          "distribution": "exponential",
          "x": 2.1694018809509017
         },
         {
          "distribution": "exponential",
          "x": 0.9785585233043416
         },
         {
          "distribution": "exponential",
          "x": 4.159839482069608
         },
         {
          "distribution": "exponential",
          "x": 1.7700938028645357
         },
         {
          "distribution": "exponential",
          "x": 3.7789489856738654
         },
         {
          "distribution": "exponential",
          "x": 2.8449170902233467
         },
         {
          "distribution": "exponential",
          "x": 1.2555737836860816
         },
         {
          "distribution": "exponential",
          "x": 0.8600143320499616
         },
         {
          "distribution": "exponential",
          "x": 4.893724486994676
         },
         {
          "distribution": "transformed",
          "x": 0.9456723947236789
         },
         {
          "distribution": "transformed",
          "x": 0.08620037929955003
         },
         {
          "distribution": "transformed",
          "x": -1.309233810317634
         },
         {
          "distribution": "transformed",
          "x": 0.4230407166592424
         },
         {
          "distribution": "transformed",
          "x": -1.4282700803925246
         },
         {
          "distribution": "transformed",
          "x": -0.5256362449072417
         },
         {
          "distribution": "transformed",
          "x": -0.2200601325095195
         },
         {
          "distribution": "transformed",
          "x": 0.16693272776141438
         },
         {
          "distribution": "transformed",
          "x": 0.3881818345018018
         },
         {
          "distribution": "transformed",
          "x": 0.5994172638664839
         },
         {
          "distribution": "transformed",
          "x": 0.8989914975274483
         },
         {
          "distribution": "transformed",
          "x": -1.2567422635513752
         },
         {
          "distribution": "transformed",
          "x": -0.4908041900756187
         },
         {
          "distribution": "transformed",
          "x": -0.984804773355448
         },
         {
          "distribution": "transformed",
          "x": 0.6303251214964571
         },
         {
          "distribution": "transformed",
          "x": -1.6868891122210068
         },
         {
          "distribution": "transformed",
          "x": 1.37510487087504
         },
         {
          "distribution": "transformed",
          "x": -0.28982455560006826
         },
         {
          "distribution": "transformed",
          "x": 0.8000849142748216
         },
         {
          "distribution": "transformed",
          "x": -0.07684468977003532
         },
         {
          "distribution": "transformed",
          "x": -0.6793470675633378
         },
         {
          "distribution": "transformed",
          "x": 0.7702105377602908
         },
         {
          "distribution": "transformed",
          "x": -1.4018363914270622
         },
         {
          "distribution": "transformed",
          "x": -0.26713586496926145
         },
         {
          "distribution": "transformed",
          "x": -0.6968763181192635
         },
         {
          "distribution": "transformed",
          "x": -0.3370419207615445
         },
         {
          "distribution": "transformed",
          "x": 1.2023266418038792
         },
         {
          "distribution": "transformed",
          "x": -1.4702493571114676
         },
         {
          "distribution": "transformed",
          "x": 0.17756716495499622
         },
         {
          "distribution": "transformed",
          "x": 0.14637048086041812
         },
         {
          "distribution": "transformed",
          "x": -0.5257112335063518
         },
         {
          "distribution": "transformed",
          "x": 1.8070222788168906
         },
         {
          "distribution": "transformed",
          "x": -0.6808719563853128
         },
         {
          "distribution": "transformed",
          "x": 0.02805638141931307
         },
         {
          "distribution": "transformed",
          "x": -1.1919921838939644
         },
         {
          "distribution": "transformed",
          "x": -1.004062732363275
         },
         {
          "distribution": "transformed",
          "x": 1.0818886411616622
         },
         {
          "distribution": "transformed",
          "x": -1.8296323093013884
         },
         {
          "distribution": "transformed",
          "x": 0.8740391356886934
         },
         {
          "distribution": "transformed",
          "x": 1.0542223580706744
         },
         {
          "distribution": "transformed",
          "x": 1.5324692498129577
         },
         {
          "distribution": "transformed",
          "x": 1.8001110158208242
         },
         {
          "distribution": "transformed",
          "x": 1.051779923676866
         },
         {
          "distribution": "transformed",
          "x": -1.538389562464323
         },
         {
          "distribution": "transformed",
          "x": -0.29414788549077997
         },
         {
          "distribution": "transformed",
          "x": -0.38662477451415916
         },
         {
          "distribution": "transformed",
          "x": 0.02576872582133513
         },
         {
          "distribution": "transformed",
          "x": 1.8582558296787623
         },
         {
          "distribution": "transformed",
          "x": 1.0010290294393231
         },
         {
          "distribution": "transformed",
          "x": -1.0377383438915164
         },
         {
          "distribution": "transformed",
          "x": 0.6014499439592832
         },
         {
          "distribution": "transformed",
          "x": 0.5537711528749921
         },
         {
          "distribution": "transformed",
          "x": 2.427289917505365
         },
         {
          "distribution": "transformed",
          "x": -0.049752781420978824
         },
         {
          "distribution": "transformed",
          "x": 0.7036558277972661
         },
         {
          "distribution": "transformed",
          "x": 0.9169870778808834
         },
         {
          "distribution": "transformed",
          "x": -0.7675516948943588
         },
         {
          "distribution": "transformed",
          "x": -1.1400453716848098
         },
         {
          "distribution": "transformed",
          "x": 0.6028621917314534
         },
         {
          "distribution": "transformed",
          "x": 1.3279625280031475
         },
         {
          "distribution": "transformed",
          "x": 1.4049958106722042
         },
         {
          "distribution": "transformed",
          "x": -0.5917327899057672
         },
         {
          "distribution": "transformed",
          "x": 1.6411813000222963
         },
         {
          "distribution": "transformed",
          "x": 0.6835709504272875
         },
         {
          "distribution": "transformed",
          "x": -1.7461672829549797
         },
         {
          "distribution": "transformed",
          "x": 0.6876287310491523
         },
         {
          "distribution": "transformed",
          "x": 0.24868542869129193
         },
         {
          "distribution": "transformed",
          "x": 1.644453677691342
         },
         {
          "distribution": "transformed",
          "x": 0.7412279000785709
         },
         {
          "distribution": "transformed",
          "x": -1.000035705745831
         },
         {
          "distribution": "transformed",
          "x": 1.6046604079836115
         },
         {
          "distribution": "transformed",
          "x": 1.1502674217684734
         },
         {
          "distribution": "transformed",
          "x": -0.15279178697494156
         },
         {
          "distribution": "transformed",
          "x": 1.0179510696808318
         },
         {
          "distribution": "transformed",
          "x": 2.2753190507682484
         },
         {
          "distribution": "transformed",
          "x": 0.19615552653191584
         },
         {
          "distribution": "transformed",
          "x": 0.2706885634986128
         },
         {
          "distribution": "transformed",
          "x": -0.2305376867598473
         },
         {
          "distribution": "transformed",
          "x": 1.3091913741706611
         },
         {
          "distribution": "transformed",
          "x": -0.1672447502706356
         },
         {
          "distribution": "transformed",
          "x": 0.23543575289566326
         },
         {
          "distribution": "transformed",
          "x": 0.48522149662706343
         },
         {
          "distribution": "transformed",
          "x": -0.6255780254619034
         },
         {
          "distribution": "transformed",
          "x": -1.73636649107812
         },
         {
          "distribution": "transformed",
          "x": 1.0699539533425821
         },
         {
          "distribution": "transformed",
          "x": -0.5679382804719224
         },
         {
          "distribution": "transformed",
          "x": -0.38428122911904505
         },
         {
          "distribution": "transformed",
          "x": -1.0599543182669329
         },
         {
          "distribution": "transformed",
          "x": 1.046305182174595
         },
         {
          "distribution": "transformed",
          "x": -1.0479043010899303
         },
         {
          "distribution": "transformed",
          "x": 1.7711616660052036
         },
         {
          "distribution": "transformed",
          "x": 0.5964796706406683
         },
         {
          "distribution": "transformed",
          "x": 0.32065085761465173
         },
         {
          "distribution": "transformed",
          "x": -0.009065911999450713
         },
         {
          "distribution": "transformed",
          "x": 0.6352000781883664
         },
         {
          "distribution": "transformed",
          "x": -0.7708999528167151
         },
         {
          "distribution": "transformed",
          "x": 0.46237801491480574
         },
         {
          "distribution": "transformed",
          "x": 0.37266716973512776
         },
         {
          "distribution": "transformed",
          "x": 1.0640197335571726
         },
         {
          "distribution": "transformed",
          "x": -0.44345521942464816
         },
         {
          "distribution": "transformed",
          "x": 1.644342727009202
         },
         {
          "distribution": "transformed",
          "x": -1.5493892761226906
         },
         {
          "distribution": "transformed",
          "x": 1.1858555328961684
         },
         {
          "distribution": "transformed",
          "x": 0.1581989349035428
         },
         {
          "distribution": "transformed",
          "x": 1.2822945790018572
         },
         {
          "distribution": "transformed",
          "x": 0.7557664676343491
         },
         {
          "distribution": "transformed",
          "x": -0.9613739340157629
         },
         {
          "distribution": "transformed",
          "x": -0.032688154780092765
         },
         {
          "distribution": "transformed",
          "x": 0.27629556461350213
         },
         {
          "distribution": "transformed",
          "x": 1.2013408066123012
         },
         {
          "distribution": "transformed",
          "x": 0.9312330027281782
         },
         {
          "distribution": "transformed",
          "x": 1.6442054244245323
         },
         {
          "distribution": "transformed",
          "x": -1.0921853188548054
         },
         {
          "distribution": "transformed",
          "x": -1.3605041392645167
         },
         {
          "distribution": "transformed",
          "x": 0.38526865086008805
         },
         {
          "distribution": "transformed",
          "x": -0.3880678307633719
         },
         {
          "distribution": "transformed",
          "x": 0.46034968617037364
         },
         {
          "distribution": "transformed",
          "x": 0.5659653023864135
         },
         {
          "distribution": "transformed",
          "x": -0.07061851116394639
         },
         {
          "distribution": "transformed",
          "x": 0.5023447727581792
         },
         {
          "distribution": "transformed",
          "x": 1.6365904550650243
         },
         {
          "distribution": "transformed",
          "x": -1.0606397704694204
         },
         {
          "distribution": "transformed",
          "x": 0.6081654818220233
         },
         {
          "distribution": "transformed",
          "x": -0.15807625412918996
         },
         {
          "distribution": "transformed",
          "x": 0.0771580721179834
         },
         {
          "distribution": "transformed",
          "x": -1.4221196233672384
         },
         {
          "distribution": "transformed",
          "x": 0.5215652960509365
         },
         {
          "distribution": "transformed",
          "x": 1.3963456312364826
         },
         {
          "distribution": "transformed",
          "x": -0.5279117917085182
         },
         {
          "distribution": "transformed",
          "x": 1.764521371922522
         },
         {
          "distribution": "transformed",
          "x": -1.0892969444571963
         },
         {
          "distribution": "transformed",
          "x": -1.582894809343894
         },
         {
          "distribution": "transformed",
          "x": -1.561019990199859
         },
         {
          "distribution": "transformed",
          "x": 0.8646219299014692
         },
         {
          "distribution": "transformed",
          "x": 0.1981669123698077
         },
         {
          "distribution": "transformed",
          "x": -1.2422900384144782
         },
         {
          "distribution": "transformed",
          "x": -0.048307489881543805
         },
         {
          "distribution": "transformed",
          "x": 0.47515353110344966
         },
         {
          "distribution": "transformed",
          "x": 1.5096366758988866
         },
         {
          "distribution": "transformed",
          "x": 0.13312567460260158
         },
         {
          "distribution": "transformed",
          "x": -0.6902970200344535
         },
         {
          "distribution": "transformed",
          "x": -0.9215133025957164
         },
         {
          "distribution": "transformed",
          "x": 0.7413053698869999
         },
         {
          "distribution": "transformed",
          "x": -0.004600756787137634
         },
         {
          "distribution": "transformed",
          "x": -1.1192232918769183
         },
         {
          "distribution": "transformed",
          "x": 1.6802916667675651
         },
         {
          "distribution": "transformed",
          "x": -0.43848331231404547
         },
         {
          "distribution": "transformed",
          "x": -0.3050009959105276
         },
         {
          "distribution": "transformed",
          "x": 0.5653641447058907
         },
         {
          "distribution": "transformed",
          "x": 1.509160714700788
         },
         {
          "distribution": "transformed",
          "x": -0.3542408439817317
         },
         {
          "distribution": "transformed",
          "x": -0.4622633055881229
         },
         {
          "distribution": "transformed",
          "x": -0.3945408132265015
         },
         {
          "distribution": "transformed",
          "x": -1.1004016916043688
         },
         {
          "distribution": "transformed",
          "x": -1.072430739955883
         },
         {
          "distribution": "transformed",
          "x": 0.4309142240010791
         },
         {
          "distribution": "transformed",
          "x": 1.8279253826598538
         },
         {
          "distribution": "transformed",
          "x": -1.504532316442323
         },
         {
          "distribution": "transformed",
          "x": -1.2609119649291634
         },
         {
          "distribution": "transformed",
          "x": 0.9956969250818
         },
         {
          "distribution": "transformed",
          "x": 0.8659736942162063
         },
         {
          "distribution": "transformed",
          "x": 1.8876556648691676
         },
         {
          "distribution": "transformed",
          "x": -0.9516016510514478
         },
         {
          "distribution": "transformed",
          "x": 1.513057833912146
         },
         {
          "distribution": "transformed",
          "x": -1.2901564270281762
         },
         {
          "distribution": "transformed",
          "x": 0.6017217594929519
         },
         {
          "distribution": "transformed",
          "x": 1.4040612378807764
         },
         {
          "distribution": "transformed",
          "x": 0.06890795897822813
         },
         {
          "distribution": "transformed",
          "x": -0.3098972629468313
         },
         {
          "distribution": "transformed",
          "x": 0.8402495579705238
         },
         {
          "distribution": "transformed",
          "x": 1.0172929869438243
         },
         {
          "distribution": "transformed",
          "x": 1.6273750554208464
         },
         {
          "distribution": "transformed",
          "x": -1.5278139527280052
         },
         {
          "distribution": "transformed",
          "x": -1.0220225352775605
         },
         {
          "distribution": "transformed",
          "x": 0.8812654762451084
         },
         {
          "distribution": "transformed",
          "x": 0.532632581068572
         },
         {
          "distribution": "transformed",
          "x": -0.7321100333868577
         },
         {
          "distribution": "transformed",
          "x": -1.8394814989027313
         },
         {
          "distribution": "transformed",
          "x": 0.2855427683165925
         },
         {
          "distribution": "transformed",
          "x": 1.005396055009341
         },
         {
          "distribution": "transformed",
          "x": -0.11546119286359972
         },
         {
          "distribution": "transformed",
          "x": 0.478516136899014
         },
         {
          "distribution": "transformed",
          "x": 0.05367751595532088
         },
         {
          "distribution": "transformed",
          "x": 1.6580778465587622
         },
         {
          "distribution": "transformed",
          "x": 1.0092616463632083
         },
         {
          "distribution": "transformed",
          "x": -0.30968532090247786
         },
         {
          "distribution": "transformed",
          "x": 1.2993452071591793
         },
         {
          "distribution": "transformed",
          "x": -0.7392258733135515
         },
         {
          "distribution": "transformed",
          "x": 0.13129189462816634
         },
         {
          "distribution": "transformed",
          "x": -0.7990727083812481
         },
         {
          "distribution": "transformed",
          "x": 0.09064100722159876
         },
         {
          "distribution": "transformed",
          "x": -0.033689094810444936
         },
         {
          "distribution": "transformed",
          "x": 1.858473846865458
         },
         {
          "distribution": "transformed",
          "x": 0.051204852158850546
         },
         {
          "distribution": "transformed",
          "x": -0.6230021260920512
         },
         {
          "distribution": "transformed",
          "x": -0.9175878099784319
         },
         {
          "distribution": "transformed",
          "x": 0.1800917510142808
         },
         {
          "distribution": "transformed",
          "x": -0.3587231828653633
         },
         {
          "distribution": "transformed",
          "x": 1.1403691884138307
         },
         {
          "distribution": "transformed",
          "x": -1.5708151529242904
         },
         {
          "distribution": "transformed",
          "x": -1.4460961171481368
         },
         {
          "distribution": "transformed",
          "x": 0.0062104997115394744
         },
         {
          "distribution": "transformed",
          "x": -0.4134681593563526
         },
         {
          "distribution": "transformed",
          "x": 0.7487395017043743
         },
         {
          "distribution": "transformed",
          "x": -1.3717749467305835
         },
         {
          "distribution": "transformed",
          "x": 1.6801799212665394
         },
         {
          "distribution": "transformed",
          "x": 0.5586133314356093
         },
         {
          "distribution": "transformed",
          "x": -1.6500055521827852
         },
         {
          "distribution": "transformed",
          "x": -1.4591648599517917
         },
         {
          "distribution": "transformed",
          "x": 0.4121972538255028
         },
         {
          "distribution": "transformed",
          "x": 0.847654641177018
         },
         {
          "distribution": "transformed",
          "x": -0.6795565436090697
         },
         {
          "distribution": "transformed",
          "x": -0.6372087442610953
         },
         {
          "distribution": "transformed",
          "x": -0.7350826186922308
         },
         {
          "distribution": "transformed",
          "x": -0.7064054965824308
         },
         {
          "distribution": "transformed",
          "x": -1.4884128177448877
         },
         {
          "distribution": "transformed",
          "x": 0.12716678226233777
         },
         {
          "distribution": "transformed",
          "x": -1.8221986151145042
         },
         {
          "distribution": "transformed",
          "x": 0.7379756250338868
         },
         {
          "distribution": "transformed",
          "x": 1.0927621741923286
         },
         {
          "distribution": "transformed",
          "x": -1.3565139429958313
         },
         {
          "distribution": "transformed",
          "x": -0.7499823314505005
         },
         {
          "distribution": "transformed",
          "x": -1.1397487068660397
         },
         {
          "distribution": "transformed",
          "x": 0.1819944938905525
         },
         {
          "distribution": "transformed",
          "x": 1.646908198498193
         },
         {
          "distribution": "transformed",
          "x": -1.0235029170575782
         },
         {
          "distribution": "transformed",
          "x": 1.518662151307276
         },
         {
          "distribution": "transformed",
          "x": 0.04478739523471888
         },
         {
          "distribution": "transformed",
          "x": -0.7779568964478023
         },
         {
          "distribution": "transformed",
          "x": 0.8580135549613346
         },
         {
          "distribution": "transformed",
          "x": -0.4882603669356142
         },
         {
          "distribution": "transformed",
          "x": -0.5622351631898229
         },
         {
          "distribution": "transformed",
          "x": 1.043683558942627
         },
         {
          "distribution": "transformed",
          "x": -0.900108943145573
         },
         {
          "distribution": "transformed",
          "x": -1.2016501492679732
         },
         {
          "distribution": "transformed",
          "x": -0.8419827892937801
         },
         {
          "distribution": "transformed",
          "x": -1.0569055473846027
         },
         {
          "distribution": "transformed",
          "x": -0.7445208046983228
         },
         {
          "distribution": "transformed",
          "x": -0.46626381211476536
         },
         {
          "distribution": "transformed",
          "x": 1.0035297877590357
         },
         {
          "distribution": "transformed",
          "x": -0.5784588185369651
         },
         {
          "distribution": "transformed",
          "x": 1.076094991140886
         },
         {
          "distribution": "transformed",
          "x": -1.663449364316598
         },
         {
          "distribution": "transformed",
          "x": 0.24165195951002183
         },
         {
          "distribution": "transformed",
          "x": 0.281872256648754
         },
         {
          "distribution": "transformed",
          "x": 0.2831121863367174
         },
         {
          "distribution": "transformed",
          "x": 0.45886578603318584
         },
         {
          "distribution": "transformed",
          "x": 1.2979234316749833
         },
         {
          "distribution": "transformed",
          "x": -0.9842008037384468
         },
         {
          "distribution": "transformed",
          "x": -1.6539085833470417
         },
         {
          "distribution": "transformed",
          "x": -0.5073980552572678
         },
         {
          "distribution": "transformed",
          "x": 0.19918090385997278
         },
         {
          "distribution": "transformed",
          "x": 0.7046419337059859
         },
         {
          "distribution": "transformed",
          "x": 1.0002742179682624
         },
         {
          "distribution": "transformed",
          "x": 1.0417849745411378
         },
         {
          "distribution": "transformed",
          "x": -1.3342620103687513
         },
         {
          "distribution": "transformed",
          "x": -0.012032526723062887
         },
         {
          "distribution": "transformed",
          "x": 2.0549506673446527
         },
         {
          "distribution": "transformed",
          "x": -0.3337782265870769
         },
         {
          "distribution": "transformed",
          "x": 1.2709710889760106
         },
         {
          "distribution": "transformed",
          "x": 0.032930142057812764
         },
         {
          "distribution": "transformed",
          "x": -0.08101910339315614
         },
         {
          "distribution": "transformed",
          "x": -1.5995586630497338
         },
         {
          "distribution": "transformed",
          "x": 0.33257275767311273
         },
         {
          "distribution": "transformed",
          "x": -1.4561840043858976
         },
         {
          "distribution": "transformed",
          "x": -0.24102834031270737
         },
         {
          "distribution": "transformed",
          "x": -1.5391038794291412
         },
         {
          "distribution": "transformed",
          "x": 0.289834597304569
         },
         {
          "distribution": "transformed",
          "x": 1.1769934805235498
         },
         {
          "distribution": "transformed",
          "x": 0.55682509687006
         },
         {
          "distribution": "transformed",
          "x": -1.5784902655058577
         },
         {
          "distribution": "transformed",
          "x": 0.7317708400483521
         },
         {
          "distribution": "transformed",
          "x": 1.2462051887392198
         },
         {
          "distribution": "transformed",
          "x": 1.8794795065924774
         },
         {
          "distribution": "transformed",
          "x": 0.3059304020502511
         },
         {
          "distribution": "transformed",
          "x": -1.3002832050600257
         },
         {
          "distribution": "transformed",
          "x": 1.4973568915470534
         },
         {
          "distribution": "transformed",
          "x": 0.6409481233333266
         },
         {
          "distribution": "transformed",
          "x": -0.41688389699662876
         },
         {
          "distribution": "transformed",
          "x": -0.6773472580772599
         },
         {
          "distribution": "transformed",
          "x": 0.38870076639679557
         },
         {
          "distribution": "transformed",
          "x": -0.47559271528914177
         },
         {
          "distribution": "transformed",
          "x": 1.551314537891279
         },
         {
          "distribution": "transformed",
          "x": -1.467838762140087
         },
         {
          "distribution": "transformed",
          "x": -0.13272421689295347
         },
         {
          "distribution": "transformed",
          "x": -0.051190697111367756
         },
         {
          "distribution": "transformed",
          "x": -1.0653922642365932
         },
         {
          "distribution": "transformed",
          "x": 0.6340704584859639
         },
         {
          "distribution": "transformed",
          "x": -1.6375295338665354
         },
         {
          "distribution": "transformed",
          "x": 0.06790906436703552
         },
         {
          "distribution": "transformed",
          "x": 0.7815176234530348
         },
         {
          "distribution": "transformed",
          "x": 0.9094494849461794
         },
         {
          "distribution": "transformed",
          "x": -1.7366320246343154
         },
         {
          "distribution": "transformed",
          "x": -1.2586838903976298
         },
         {
          "distribution": "transformed",
          "x": -0.17656758692575938
         },
         {
          "distribution": "transformed",
          "x": 0.4867195499298266
         },
         {
          "distribution": "transformed",
          "x": -0.4186142000424394
         },
         {
          "distribution": "transformed",
          "x": -0.3078681139503587
         },
         {
          "distribution": "transformed",
          "x": -0.6846927573481197
         },
         {
          "distribution": "transformed",
          "x": -1.2978385802642451
         },
         {
          "distribution": "transformed",
          "x": 1.4289528643268368
         },
         {
          "distribution": "transformed",
          "x": 1.4486826486131332
         },
         {
          "distribution": "transformed",
          "x": -0.058766336838887274
         },
         {
          "distribution": "transformed",
          "x": -1.6121210551729452
         },
         {
          "distribution": "transformed",
          "x": -0.44436167096172646
         },
         {
          "distribution": "transformed",
          "x": -0.5585499182161034
         },
         {
          "distribution": "transformed",
          "x": 1.2756526346327335
         },
         {
          "distribution": "transformed",
          "x": 1.2973353694511653
         },
         {
          "distribution": "transformed",
          "x": -0.5496747344807362
         },
         {
          "distribution": "transformed",
          "x": -0.6365878899758793
         },
         {
          "distribution": "transformed",
          "x": -0.6050120540321899
         },
         {
          "distribution": "transformed",
          "x": -0.42376345602606824
         },
         {
          "distribution": "transformed",
          "x": 0.0008268350848795035
         },
         {
          "distribution": "transformed",
          "x": 0.7871973784609295
         },
         {
          "distribution": "transformed",
          "x": 1.765004439018494
         },
         {
          "distribution": "transformed",
          "x": -0.9159485091277527
         },
         {
          "distribution": "transformed",
          "x": 0.5721951281805076
         },
         {
          "distribution": "transformed",
          "x": -1.4749946468065485
         },
         {
          "distribution": "transformed",
          "x": 0.24813226240327627
         },
         {
          "distribution": "transformed",
          "x": 0.37430550781216004
         },
         {
          "distribution": "transformed",
          "x": 0.18309913368212846
         },
         {
          "distribution": "transformed",
          "x": 0.9329573974980863
         },
         {
          "distribution": "transformed",
          "x": -0.6080470804333319
         },
         {
          "distribution": "transformed",
          "x": -1.5788697996895926
         },
         {
          "distribution": "transformed",
          "x": 0.6537888868654753
         },
         {
          "distribution": "transformed",
          "x": 1.3790836184979232
         },
         {
          "distribution": "transformed",
          "x": -0.5910501935671342
         },
         {
          "distribution": "transformed",
          "x": -1.180430530125024
         },
         {
          "distribution": "transformed",
          "x": 0.0038585153980849616
         },
         {
          "distribution": "transformed",
          "x": -1.3615361724031896
         },
         {
          "distribution": "transformed",
          "x": -0.5328696053468049
         },
         {
          "distribution": "transformed",
          "x": -1.0626135654878044
         },
         {
          "distribution": "transformed",
          "x": -1.5862517113969192
         },
         {
          "distribution": "transformed",
          "x": -1.8002786288769437
         },
         {
          "distribution": "transformed",
          "x": 1.901094850779091
         },
         {
          "distribution": "transformed",
          "x": 0.6787274333365972
         },
         {
          "distribution": "transformed",
          "x": -0.3451073182132733
         },
         {
          "distribution": "transformed",
          "x": 0.07703234272891064
         },
         {
          "distribution": "transformed",
          "x": 0.48901417371340694
         },
         {
          "distribution": "transformed",
          "x": -1.441462177562211
         },
         {
          "distribution": "transformed",
          "x": 1.0294654756515433
         },
         {
          "distribution": "transformed",
          "x": -0.6239066172552331
         },
         {
          "distribution": "transformed",
          "x": -0.2765236810767894
         },
         {
          "distribution": "transformed",
          "x": -1.4016890526177854
         },
         {
          "distribution": "transformed",
          "x": -0.3847189286673439
         },
         {
          "distribution": "transformed",
          "x": 0.7661046245028456
         },
         {
          "distribution": "transformed",
          "x": -0.8326406721202795
         },
         {
          "distribution": "transformed",
          "x": -1.7553268043945895
         },
         {
          "distribution": "transformed",
          "x": 0.689535778157089
         },
         {
          "distribution": "transformed",
          "x": 1.424361721203008
         },
         {
          "distribution": "transformed",
          "x": -0.22132888069079376
         },
         {
          "distribution": "transformed",
          "x": 1.8251454657548514
         },
         {
          "distribution": "transformed",
          "x": -1.5729443090214419
         },
         {
          "distribution": "transformed",
          "x": 0.7166976171024714
         },
         {
          "distribution": "transformed",
          "x": 0.3212209703400038
         },
         {
          "distribution": "transformed",
          "x": 1.471669648177572
         },
         {
          "distribution": "transformed",
          "x": 0.7710395285212299
         },
         {
          "distribution": "transformed",
          "x": -1.4215580382907296
         },
         {
          "distribution": "transformed",
          "x": -0.9285493143053619
         },
         {
          "distribution": "transformed",
          "x": -1.8030699919587478
         },
         {
          "distribution": "transformed",
          "x": -1.4271956786753692
         },
         {
          "distribution": "transformed",
          "x": 0.32470575553541714
         },
         {
          "distribution": "transformed",
          "x": -1.495646739966012
         },
         {
          "distribution": "transformed",
          "x": 0.7628307428754859
         },
         {
          "distribution": "transformed",
          "x": 1.678506794420682
         },
         {
          "distribution": "transformed",
          "x": 1.093042755450853
         },
         {
          "distribution": "transformed",
          "x": 1.4370761706140915
         },
         {
          "distribution": "transformed",
          "x": -0.028329841685485104
         },
         {
          "distribution": "transformed",
          "x": -0.06053116678063085
         },
         {
          "distribution": "transformed",
          "x": -1.6174820347328076
         },
         {
          "distribution": "transformed",
          "x": 0.8814340728862982
         },
         {
          "distribution": "transformed",
          "x": -0.44084614307540654
         },
         {
          "distribution": "transformed",
          "x": 2.3223150077294794
         },
         {
          "distribution": "transformed",
          "x": 0.5004927157055957
         },
         {
          "distribution": "transformed",
          "x": 0.4583621336051282
         },
         {
          "distribution": "transformed",
          "x": -0.7520177847911852
         },
         {
          "distribution": "transformed",
          "x": -0.17274856793924848
         },
         {
          "distribution": "transformed",
          "x": 1.0371918924667358
         },
         {
          "distribution": "transformed",
          "x": 0.8658613628393567
         },
         {
          "distribution": "transformed",
          "x": -0.48874068037312485
         },
         {
          "distribution": "transformed",
          "x": -1.1319185136994123
         },
         {
          "distribution": "transformed",
          "x": -1.057910496246124
         },
         {
          "distribution": "transformed",
          "x": -1.596979242448903
         },
         {
          "distribution": "transformed",
          "x": -0.8052192944516419
         },
         {
          "distribution": "transformed",
          "x": 1.9414020764397735
         },
         {
          "distribution": "transformed",
          "x": -0.613350073485407
         },
         {
          "distribution": "transformed",
          "x": -0.9312067355296979
         },
         {
          "distribution": "transformed",
          "x": 1.061797491271413
         },
         {
          "distribution": "transformed",
          "x": -0.04107788292815903
         },
         {
          "distribution": "transformed",
          "x": -0.39644762615062556
         },
         {
          "distribution": "transformed",
          "x": 0.011525083816151216
         },
         {
          "distribution": "transformed",
          "x": -0.37874702716251996
         },
         {
          "distribution": "transformed",
          "x": 0.4615155211991948
         },
         {
          "distribution": "transformed",
          "x": -0.6405410581515268
         },
         {
          "distribution": "transformed",
          "x": 0.9227373267202547
         },
         {
          "distribution": "transformed",
          "x": -0.48682182444970395
         },
         {
          "distribution": "transformed",
          "x": -1.7916313783069193
         },
         {
          "distribution": "transformed",
          "x": -0.838784756717752
         },
         {
          "distribution": "transformed",
          "x": -0.46576666839159286
         },
         {
          "distribution": "transformed",
          "x": -0.9698414204876992
         },
         {
          "distribution": "transformed",
          "x": 0.8310505976632682
         },
         {
          "distribution": "transformed",
          "x": 0.6843877878927254
         },
         {
          "distribution": "transformed",
          "x": -1.029144149879002
         },
         {
          "distribution": "transformed",
          "x": -0.02211385938177144
         },
         {
          "distribution": "transformed",
          "x": -0.5131942876426642
         },
         {
          "distribution": "transformed",
          "x": 0.8309388901309525
         },
         {
          "distribution": "transformed",
          "x": -1.8455029894753792
         },
         {
          "distribution": "transformed",
          "x": 0.1521170803616167
         },
         {
          "distribution": "transformed",
          "x": -0.0772286953220578
         },
         {
          "distribution": "transformed",
          "x": 0.1779965851740161
         },
         {
          "distribution": "transformed",
          "x": 0.14459290259393281
         },
         {
          "distribution": "transformed",
          "x": -0.5868630928406796
         },
         {
          "distribution": "transformed",
          "x": -0.2393613335411109
         },
         {
          "distribution": "transformed",
          "x": -1.8167084587210762
         },
         {
          "distribution": "transformed",
          "x": -1.8407329965424493
         },
         {
          "distribution": "transformed",
          "x": -0.4856896608208951
         },
         {
          "distribution": "transformed",
          "x": -1.8040801201774377
         },
         {
          "distribution": "transformed",
          "x": -0.5628752398426461
         },
         {
          "distribution": "transformed",
          "x": 1.795805602935504
         },
         {
          "distribution": "transformed",
          "x": 0.2675427700503166
         },
         {
          "distribution": "transformed",
          "x": -0.5885871210419601
         },
         {
          "distribution": "transformed",
          "x": -1.0581738388064639
         },
         {
          "distribution": "transformed",
          "x": 1.3681532272683645
         },
         {
          "distribution": "transformed",
          "x": 0.3072534947173186
         },
         {
          "distribution": "transformed",
          "x": -1.1108514087715464
         },
         {
          "distribution": "transformed",
          "x": 0.3810625184522754
         },
         {
          "distribution": "transformed",
          "x": 0.4746359280354155
         },
         {
          "distribution": "transformed",
          "x": -1.6273198107053366
         },
         {
          "distribution": "transformed",
          "x": -0.1903646821489057
         },
         {
          "distribution": "transformed",
          "x": -1.303315282386248
         },
         {
          "distribution": "transformed",
          "x": 0.8286764519413409
         },
         {
          "distribution": "transformed",
          "x": 1.0218260196119433
         },
         {
          "distribution": "transformed",
          "x": 0.13687172638923456
         },
         {
          "distribution": "transformed",
          "x": 0.002911356313048945
         },
         {
          "distribution": "transformed",
          "x": -0.05946288613818529
         },
         {
          "distribution": "transformed",
          "x": 0.014270220006057526
         },
         {
          "distribution": "transformed",
          "x": 0.841117823597842
         },
         {
          "distribution": "transformed",
          "x": 0.034240341267641944
         },
         {
          "distribution": "transformed",
          "x": -0.47508763981347224
         },
         {
          "distribution": "transformed",
          "x": 0.44138898013491884
         },
         {
          "distribution": "transformed",
          "x": 0.7328625317384938
         },
         {
          "distribution": "transformed",
          "x": 0.7045747738995358
         },
         {
          "distribution": "transformed",
          "x": -0.4542692161895402
         },
         {
          "distribution": "transformed",
          "x": 0.15652297126262885
         },
         {
          "distribution": "transformed",
          "x": -0.7594861553099963
         },
         {
          "distribution": "transformed",
          "x": 1.282993862461298
         },
         {
          "distribution": "transformed",
          "x": 0.6089497164784641
         },
         {
          "distribution": "transformed",
          "x": -0.818514297878864
         },
         {
          "distribution": "transformed",
          "x": 0.1504869029471807
         },
         {
          "distribution": "transformed",
          "x": 0.20026033367611132
         },
         {
          "distribution": "transformed",
          "x": 0.8396545963866211
         },
         {
          "distribution": "transformed",
          "x": -1.2698269201523031
         },
         {
          "distribution": "transformed",
          "x": -0.6796112706928187
         },
         {
          "distribution": "transformed",
          "x": -0.4529851110750858
         },
         {
          "distribution": "transformed",
          "x": -0.9422768225846031
         },
         {
          "distribution": "transformed",
          "x": 1.0674243504237502
         },
         {
          "distribution": "transformed",
          "x": -1.3130793383960284
         },
         {
          "distribution": "transformed",
          "x": 0.7911221753029009
         },
         {
          "distribution": "transformed",
          "x": -1.158335463718072
         },
         {
          "distribution": "transformed",
          "x": 1.0929899038609188
         },
         {
          "distribution": "transformed",
          "x": 1.44365144486016
         },
         {
          "distribution": "transformed",
          "x": -0.2038618464893126
         },
         {
          "distribution": "transformed",
          "x": -0.21415911645153654
         },
         {
          "distribution": "transformed",
          "x": -0.7616549633282901
         },
         {
          "distribution": "transformed",
          "x": 0.06367541790223567
         },
         {
          "distribution": "transformed",
          "x": -0.27412372145553265
         },
         {
          "distribution": "transformed",
          "x": -1.5206606524285033
         },
         {
          "distribution": "transformed",
          "x": 1.1414381206543904
         },
         {
          "distribution": "transformed",
          "x": -0.03745448058028062
         },
         {
          "distribution": "transformed",
          "x": -0.034427668895614376
         },
         {
          "distribution": "transformed",
          "x": -1.0024373162385243
         },
         {
          "distribution": "transformed",
          "x": -0.5293880644491588
         },
         {
          "distribution": "transformed",
          "x": 0.20290505708717452
         },
         {
          "distribution": "transformed",
          "x": -0.5143997715946969
         },
         {
          "distribution": "transformed",
          "x": 0.9428090886237385
         },
         {
          "distribution": "transformed",
          "x": 2.242384598973611
         },
         {
          "distribution": "transformed",
          "x": -1.0723063654176614
         },
         {
          "distribution": "transformed",
          "x": 0.4068048827462333
         },
         {
          "distribution": "transformed",
          "x": 0.5329424215174439
         },
         {
          "distribution": "transformed",
          "x": -0.9059878019052607
         },
         {
          "distribution": "transformed",
          "x": -0.5562258860580989
         },
         {
          "distribution": "transformed",
          "x": 1.4685325142601526
         },
         {
          "distribution": "transformed",
          "x": -0.5067281566887415
         },
         {
          "distribution": "transformed",
          "x": -0.32062748730103835
         },
         {
          "distribution": "transformed",
          "x": 1.7170076883371919
         },
         {
          "distribution": "transformed",
          "x": 0.5602761856768068
         },
         {
          "distribution": "transformed",
          "x": -0.7768817039235674
         },
         {
          "distribution": "transformed",
          "x": -0.21855945456150855
         },
         {
          "distribution": "transformed",
          "x": 0.230124976123263
         },
         {
          "distribution": "transformed",
          "x": 0.558455026242426
         },
         {
          "distribution": "transformed",
          "x": 0.33558679953279136
         },
         {
          "distribution": "transformed",
          "x": -1.0341186643029106
         },
         {
          "distribution": "transformed",
          "x": 0.6553958790943107
         },
         {
          "distribution": "transformed",
          "x": -0.6811266861479185
         },
         {
          "distribution": "transformed",
          "x": 0.17967205919192683
         },
         {
          "distribution": "transformed",
          "x": 2.019390774999848
         },
         {
          "distribution": "transformed",
          "x": -0.40559911403976295
         },
         {
          "distribution": "transformed",
          "x": 0.32058814838213606
         },
         {
          "distribution": "transformed",
          "x": 0.44480841688286055
         },
         {
          "distribution": "transformed",
          "x": -0.5524574126701989
         },
         {
          "distribution": "transformed",
          "x": 0.0034978723093562532
         },
         {
          "distribution": "transformed",
          "x": 0.4972344093467538
         },
         {
          "distribution": "transformed",
          "x": 0.4755095859906374
         },
         {
          "distribution": "transformed",
          "x": 1.298602384829701
         },
         {
          "distribution": "transformed",
          "x": 0.23717021461076773
         },
         {
          "distribution": "transformed",
          "x": -0.8905620762618456
         },
         {
          "distribution": "transformed",
          "x": -1.6977417743069598
         },
         {
          "distribution": "transformed",
          "x": -0.550932201443516
         },
         {
          "distribution": "transformed",
          "x": -0.41027566000328675
         },
         {
          "distribution": "transformed",
          "x": -1.4588599553370514
         },
         {
          "distribution": "transformed",
          "x": -1.6377846524261788
         },
         {
          "distribution": "transformed",
          "x": -1.4708591731546232
         },
         {
          "distribution": "transformed",
          "x": -1.1397430549586407
         },
         {
          "distribution": "transformed",
          "x": -1.6898355326483423
         },
         {
          "distribution": "transformed",
          "x": -1.6782494451512107
         },
         {
          "distribution": "transformed",
          "x": -0.9813078418059951
         },
         {
          "distribution": "transformed",
          "x": 0.08799038058133808
         },
         {
          "distribution": "transformed",
          "x": 0.7057139034829486
         },
         {
          "distribution": "transformed",
          "x": -1.1663027785707925
         },
         {
          "distribution": "transformed",
          "x": 1.6481208489481758
         },
         {
          "distribution": "transformed",
          "x": -0.09510774003538534
         },
         {
          "distribution": "transformed",
          "x": 0.3218477739826774
         },
         {
          "distribution": "transformed",
          "x": -0.6821244437128378
         },
         {
          "distribution": "transformed",
          "x": -1.2202767052550325
         },
         {
          "distribution": "transformed",
          "x": -1.734663555519236
         },
         {
          "distribution": "transformed",
          "x": 0.7044323718844094
         },
         {
          "distribution": "transformed",
          "x": -0.03456096928860517
         },
         {
          "distribution": "transformed",
          "x": -0.5895304417506836
         },
         {
          "distribution": "transformed",
          "x": -1.599798963360475
         },
         {
          "distribution": "transformed",
          "x": -1.108104989808014
         },
         {
          "distribution": "transformed",
          "x": -1.222832009701399
         },
         {
          "distribution": "transformed",
          "x": 0.3249761481994963
         },
         {
          "distribution": "transformed",
          "x": -1.800129294360461
         },
         {
          "distribution": "transformed",
          "x": -0.68890847822373
         },
         {
          "distribution": "transformed",
          "x": -0.7788127892433551
         },
         {
          "distribution": "transformed",
          "x": 0.8751197308854521
         },
         {
          "distribution": "transformed",
          "x": -0.3508249178750992
         },
         {
          "distribution": "transformed",
          "x": -1.3139741603329755
         },
         {
          "distribution": "transformed",
          "x": -1.6215751292875964
         },
         {
          "distribution": "transformed",
          "x": 2.0304518977577337
         },
         {
          "distribution": "transformed",
          "x": -1.3808962916757497
         },
         {
          "distribution": "transformed",
          "x": 0.7239701599096108
         },
         {
          "distribution": "transformed",
          "x": -0.1987816328775626
         },
         {
          "distribution": "transformed",
          "x": -0.22445543533014523
         },
         {
          "distribution": "transformed",
          "x": 0.9929095064502593
         },
         {
          "distribution": "transformed",
          "x": 1.1560611312922362
         },
         {
          "distribution": "transformed",
          "x": 0.15093147919141586
         },
         {
          "distribution": "transformed",
          "x": -1.1821515523475221
         },
         {
          "distribution": "transformed",
          "x": -0.18632399748940853
         },
         {
          "distribution": "transformed",
          "x": -0.40190196719399335
         },
         {
          "distribution": "transformed",
          "x": -0.05527933629937924
         },
         {
          "distribution": "transformed",
          "x": 0.03459685708784524
         },
         {
          "distribution": "transformed",
          "x": -0.2737289259828745
         },
         {
          "distribution": "transformed",
          "x": 0.7594074783155098
         },
         {
          "distribution": "transformed",
          "x": -1.6671806616652196
         },
         {
          "distribution": "transformed",
          "x": -0.7670131604779425
         },
         {
          "distribution": "transformed",
          "x": 1.191161002003961
         },
         {
          "distribution": "transformed",
          "x": -1.6484515673303717
         },
         {
          "distribution": "transformed",
          "x": 0.5415660151604426
         },
         {
          "distribution": "transformed",
          "x": -1.8160396896031896
         },
         {
          "distribution": "transformed",
          "x": 0.997842806120919
         },
         {
          "distribution": "transformed",
          "x": -1.0593765930047758
         },
         {
          "distribution": "transformed",
          "x": -0.0802452399819432
         },
         {
          "distribution": "transformed",
          "x": -1.3364625416778078
         },
         {
          "distribution": "transformed",
          "x": -1.1679175951451486
         },
         {
          "distribution": "transformed",
          "x": 1.2249119317167891
         },
         {
          "distribution": "transformed",
          "x": -1.7380427040802342
         },
         {
          "distribution": "transformed",
          "x": 0.955650437920204
         },
         {
          "distribution": "transformed",
          "x": -0.12323260528523669
         },
         {
          "distribution": "transformed",
          "x": -0.9602410256999576
         },
         {
          "distribution": "transformed",
          "x": -0.95319853967697
         },
         {
          "distribution": "transformed",
          "x": 1.7627516687740175
         },
         {
          "distribution": "transformed",
          "x": 1.58580540615322
         },
         {
          "distribution": "transformed",
          "x": -1.5400556806248726
         },
         {
          "distribution": "transformed",
          "x": 1.1642088068659078
         },
         {
          "distribution": "transformed",
          "x": -0.08423395467402882
         },
         {
          "distribution": "transformed",
          "x": 0.08292974209565938
         },
         {
          "distribution": "transformed",
          "x": -1.2359765561927918
         },
         {
          "distribution": "transformed",
          "x": -1.2230612309010451
         },
         {
          "distribution": "transformed",
          "x": 2.0413575335165763
         },
         {
          "distribution": "transformed",
          "x": 2.005960402769949
         },
         {
          "distribution": "transformed",
          "x": 2.3450584011650606
         },
         {
          "distribution": "transformed",
          "x": 0.4226243079282898
         },
         {
          "distribution": "transformed",
          "x": -0.8607810890280027
         },
         {
          "distribution": "transformed",
          "x": -0.7215025625978114
         },
         {
          "distribution": "transformed",
          "x": 0.4215282420871032
         },
         {
          "distribution": "transformed",
          "x": 0.3168731079978611
         },
         {
          "distribution": "transformed",
          "x": -0.9278283024344035
         },
         {
          "distribution": "transformed",
          "x": 2.0100938126140226
         },
         {
          "distribution": "transformed",
          "x": 0.06347062202466572
         },
         {
          "distribution": "transformed",
          "x": -1.749667367194825
         },
         {
          "distribution": "transformed",
          "x": 0.7644547687280641
         },
         {
          "distribution": "transformed",
          "x": 0.11603194789180894
         },
         {
          "distribution": "transformed",
          "x": -0.9441026809629798
         },
         {
          "distribution": "transformed",
          "x": -1.3262812110156401
         },
         {
          "distribution": "transformed",
          "x": 0.3339216904837368
         },
         {
          "distribution": "transformed",
          "x": -0.026544809057236267
         },
         {
          "distribution": "transformed",
          "x": -0.33274077869043467
         },
         {
          "distribution": "transformed",
          "x": 1.2086484751096223
         },
         {
          "distribution": "transformed",
          "x": -0.5110836436300292
         },
         {
          "distribution": "transformed",
          "x": 0.7635426252176536
         },
         {
          "distribution": "transformed",
          "x": -0.6084261179112241
         },
         {
          "distribution": "transformed",
          "x": -0.09541460521650756
         },
         {
          "distribution": "transformed",
          "x": 0.645637169628815
         },
         {
          "distribution": "transformed",
          "x": 1.0745362246123065
         },
         {
          "distribution": "transformed",
          "x": 0.14453924274252294
         },
         {
          "distribution": "transformed",
          "x": -0.5516137944665368
         },
         {
          "distribution": "transformed",
          "x": 0.2888663245581876
         },
         {
          "distribution": "transformed",
          "x": -0.635608256250609
         },
         {
          "distribution": "transformed",
          "x": -0.6171854829161121
         },
         {
          "distribution": "transformed",
          "x": -0.3426018417759444
         },
         {
          "distribution": "transformed",
          "x": 1.069368863094173
         },
         {
          "distribution": "transformed",
          "x": -1.604367107699411
         },
         {
          "distribution": "transformed",
          "x": 0.6802814797332849
         },
         {
          "distribution": "transformed",
          "x": -0.9403006695511165
         },
         {
          "distribution": "transformed",
          "x": -1.3946455342761104
         },
         {
          "distribution": "transformed",
          "x": -0.38744199525568196
         },
         {
          "distribution": "transformed",
          "x": -1.6989799916213568
         },
         {
          "distribution": "transformed",
          "x": -1.222731002342927
         },
         {
          "distribution": "transformed",
          "x": -0.7975498766246439
         },
         {
          "distribution": "transformed",
          "x": 0.6726396583602325
         },
         {
          "distribution": "transformed",
          "x": -1.3852566020886863
         },
         {
          "distribution": "transformed",
          "x": 0.6492151511782668
         },
         {
          "distribution": "transformed",
          "x": -1.4888545951261414
         },
         {
          "distribution": "transformed",
          "x": 0.3629703289725517
         },
         {
          "distribution": "transformed",
          "x": 1.2116854315278072
         },
         {
          "distribution": "transformed",
          "x": -0.5323513794889447
         },
         {
          "distribution": "transformed",
          "x": 0.9470313540587568
         },
         {
          "distribution": "transformed",
          "x": -1.1420899348736233
         },
         {
          "distribution": "transformed",
          "x": 0.41177491194149857
         },
         {
          "distribution": "transformed",
          "x": -0.7362551558579182
         },
         {
          "distribution": "transformed",
          "x": -0.6727764119972806
         },
         {
          "distribution": "transformed",
          "x": -1.1026887378381307
         },
         {
          "distribution": "transformed",
          "x": 1.4859048216269968
         },
         {
          "distribution": "transformed",
          "x": -1.3728537019137874
         },
         {
          "distribution": "transformed",
          "x": 0.5484335574907269
         },
         {
          "distribution": "transformed",
          "x": 1.0754596614765464
         },
         {
          "distribution": "transformed",
          "x": 1.3378100014946146
         },
         {
          "distribution": "transformed",
          "x": -1.2078195685797177
         },
         {
          "distribution": "transformed",
          "x": 1.2622702695494834
         },
         {
          "distribution": "transformed",
          "x": 2.4267942234329225
         },
         {
          "distribution": "transformed",
          "x": -0.02266316372600838
         },
         {
          "distribution": "transformed",
          "x": -0.02425200638820961
         },
         {
          "distribution": "transformed",
          "x": 0.49087718093131044
         },
         {
          "distribution": "transformed",
          "x": -0.8937824284949872
         },
         {
          "distribution": "transformed",
          "x": -0.7040028269307904
         },
         {
          "distribution": "transformed",
          "x": -0.703827376446554
         },
         {
          "distribution": "transformed",
          "x": 1.3544437545937928
         },
         {
          "distribution": "transformed",
          "x": -0.9616402770190685
         },
         {
          "distribution": "transformed",
          "x": -0.6980537819754812
         },
         {
          "distribution": "transformed",
          "x": -0.4852937358864699
         },
         {
          "distribution": "transformed",
          "x": 1.1829673550240478
         },
         {
          "distribution": "transformed",
          "x": 0.7099143594052294
         },
         {
          "distribution": "transformed",
          "x": 1.2877173145723684
         },
         {
          "distribution": "transformed",
          "x": -0.8129220801706502
         },
         {
          "distribution": "transformed",
          "x": 0.225109406723701
         },
         {
          "distribution": "transformed",
          "x": 1.6009086651811295
         },
         {
          "distribution": "transformed",
          "x": 0.9712179208696335
         },
         {
          "distribution": "transformed",
          "x": 1.4934022174111277
         },
         {
          "distribution": "transformed",
          "x": 0.7353458130550352
         },
         {
          "distribution": "transformed",
          "x": 0.13994829217714527
         },
         {
          "distribution": "transformed",
          "x": 0.4994721392738474
         },
         {
          "distribution": "transformed",
          "x": 1.2580956348385839
         },
         {
          "distribution": "transformed",
          "x": 0.12224948092666413
         },
         {
          "distribution": "transformed",
          "x": -0.08560595965550552
         },
         {
          "distribution": "transformed",
          "x": 0.6345823666779453
         },
         {
          "distribution": "transformed",
          "x": -0.007486066141453109
         },
         {
          "distribution": "transformed",
          "x": 0.5364501031722666
         },
         {
          "distribution": "transformed",
          "x": 0.748522143421431
         },
         {
          "distribution": "transformed",
          "x": 0.19570362286581658
         },
         {
          "distribution": "transformed",
          "x": -1.244794949452695
         },
         {
          "distribution": "transformed",
          "x": 1.1542289629623552
         },
         {
          "distribution": "transformed",
          "x": -0.8585499690392722
         },
         {
          "distribution": "transformed",
          "x": -0.3122648338173487
         },
         {
          "distribution": "transformed",
          "x": 0.2117572955345952
         },
         {
          "distribution": "transformed",
          "x": 0.6620598187020829
         },
         {
          "distribution": "transformed",
          "x": 1.0817090876905797
         },
         {
          "distribution": "transformed",
          "x": -0.6816198476069033
         },
         {
          "distribution": "transformed",
          "x": 1.4564258184556755
         },
         {
          "distribution": "transformed",
          "x": 0.1999431835170811
         },
         {
          "distribution": "transformed",
          "x": -0.7203812081149474
         },
         {
          "distribution": "transformed",
          "x": -1.4312745456023006
         },
         {
          "distribution": "transformed",
          "x": 0.7288772288799217
         },
         {
          "distribution": "transformed",
          "x": -0.8170159717625007
         },
         {
          "distribution": "transformed",
          "x": 1.031885921907942
         },
         {
          "distribution": "transformed",
          "x": -1.6295629387846426
         },
         {
          "distribution": "transformed",
          "x": 0.39245175417571826
         },
         {
          "distribution": "transformed",
          "x": -0.09531112755701725
         },
         {
          "distribution": "transformed",
          "x": 0.5646316171027858
         },
         {
          "distribution": "transformed",
          "x": 0.6710571599501037
         },
         {
          "distribution": "transformed",
          "x": 0.823900714743592
         },
         {
          "distribution": "transformed",
          "x": 0.8036106306745822
         },
         {
          "distribution": "transformed",
          "x": -0.7842261571126846
         },
         {
          "distribution": "transformed",
          "x": 0.5066996883975817
         },
         {
          "distribution": "transformed",
          "x": 0.518595433017961
         },
         {
          "distribution": "transformed",
          "x": 0.5955227886210094
         },
         {
          "distribution": "transformed",
          "x": 1.0550856670168052
         },
         {
          "distribution": "transformed",
          "x": 0.009796853753695798
         },
         {
          "distribution": "transformed",
          "x": -0.1823356638069615
         },
         {
          "distribution": "transformed",
          "x": -1.1070453674474454
         },
         {
          "distribution": "transformed",
          "x": 0.8005243578377722
         },
         {
          "distribution": "transformed",
          "x": -1.398571516530885
         },
         {
          "distribution": "transformed",
          "x": 0.39503077243642687
         },
         {
          "distribution": "transformed",
          "x": -1.162410785125114
         },
         {
          "distribution": "transformed",
          "x": -1.8054762962857303
         },
         {
          "distribution": "transformed",
          "x": -0.22613918471815292
         },
         {
          "distribution": "transformed",
          "x": -1.6034144517367463
         },
         {
          "distribution": "transformed",
          "x": 1.321914261698534
         },
         {
          "distribution": "transformed",
          "x": -1.2275767802599105
         },
         {
          "distribution": "transformed",
          "x": -0.17406988382215008
         },
         {
          "distribution": "transformed",
          "x": 0.4132581786312771
         },
         {
          "distribution": "transformed",
          "x": -0.7192318154667566
         },
         {
          "distribution": "transformed",
          "x": 2.1139750436494453
         },
         {
          "distribution": "transformed",
          "x": -1.0477926874656562
         },
         {
          "distribution": "transformed",
          "x": -0.75184634199829
         },
         {
          "distribution": "transformed",
          "x": 0.33196978406722866
         },
         {
          "distribution": "transformed",
          "x": 0.6649973626366233
         },
         {
          "distribution": "transformed",
          "x": 0.5892038262273316
         },
         {
          "distribution": "transformed",
          "x": 0.26929766328794236
         },
         {
          "distribution": "transformed",
          "x": -1.667846144309319
         },
         {
          "distribution": "transformed",
          "x": 1.0341809651541565
         },
         {
          "distribution": "transformed",
          "x": 0.9914200999423661
         },
         {
          "distribution": "transformed",
          "x": 0.42254445057325957
         },
         {
          "distribution": "transformed",
          "x": -1.1493420641265886
         },
         {
          "distribution": "transformed",
          "x": -0.6072480015103979
         },
         {
          "distribution": "transformed",
          "x": 1.5103594526570685
         },
         {
          "distribution": "transformed",
          "x": 0.12589489667683473
         },
         {
          "distribution": "transformed",
          "x": 0.7081480502718855
         },
         {
          "distribution": "transformed",
          "x": -1.4903112943374284
         },
         {
          "distribution": "transformed",
          "x": -0.5201239290548084
         },
         {
          "distribution": "transformed",
          "x": -0.09575477435683408
         },
         {
          "distribution": "transformed",
          "x": 0.5024035513268603
         },
         {
          "distribution": "transformed",
          "x": 1.1549990343025063
         },
         {
          "distribution": "transformed",
          "x": 0.9573618795126267
         },
         {
          "distribution": "transformed",
          "x": -0.26994389956819936
         },
         {
          "distribution": "transformed",
          "x": -0.21256708796424267
         },
         {
          "distribution": "transformed",
          "x": 0.20734029899055306
         },
         {
          "distribution": "transformed",
          "x": 0.1743655667685249
         },
         {
          "distribution": "transformed",
          "x": -1.1501945148126873
         },
         {
          "distribution": "transformed",
          "x": 1.5428647093567263
         },
         {
          "distribution": "transformed",
          "x": 0.9239783840967636
         },
         {
          "distribution": "transformed",
          "x": -1.5778443203617498
         },
         {
          "distribution": "transformed",
          "x": -1.471065141472772
         },
         {
          "distribution": "transformed",
          "x": 0.10561979357010343
         },
         {
          "distribution": "transformed",
          "x": 0.4255025539470009
         },
         {
          "distribution": "transformed",
          "x": -0.6727827885365874
         },
         {
          "distribution": "transformed",
          "x": -1.546268344646305
         },
         {
          "distribution": "transformed",
          "x": -1.1324363445869847
         },
         {
          "distribution": "transformed",
          "x": -0.9429255023693994
         },
         {
          "distribution": "transformed",
          "x": -0.5725939741290161
         },
         {
          "distribution": "transformed",
          "x": -1.3482837140327446
         },
         {
          "distribution": "transformed",
          "x": -1.3678278421844974
         },
         {
          "distribution": "transformed",
          "x": -0.16604603314420258
         },
         {
          "distribution": "transformed",
          "x": -1.3518557066280636
         },
         {
          "distribution": "transformed",
          "x": 0.7596775772313614
         },
         {
          "distribution": "transformed",
          "x": -0.11446527667106837
         },
         {
          "distribution": "transformed",
          "x": 1.2333029620089477
         },
         {
          "distribution": "transformed",
          "x": 1.5798808665019615
         },
         {
          "distribution": "transformed",
          "x": -0.29363922371160617
         },
         {
          "distribution": "transformed",
          "x": 0.1074542174976929
         },
         {
          "distribution": "transformed",
          "x": 0.8474452977671045
         },
         {
          "distribution": "transformed",
          "x": -1.0303616043904698
         },
         {
          "distribution": "transformed",
          "x": -0.8144532144077442
         },
         {
          "distribution": "transformed",
          "x": 0.6631343033971274
         },
         {
          "distribution": "transformed",
          "x": 1.2175849891514743
         },
         {
          "distribution": "transformed",
          "x": -1.5870735590564669
         },
         {
          "distribution": "transformed",
          "x": 1.1285755694576385
         },
         {
          "distribution": "transformed",
          "x": 0.7333788831457234
         },
         {
          "distribution": "transformed",
          "x": -0.3559928502604241
         },
         {
          "distribution": "transformed",
          "x": 2.3063375480706214
         },
         {
          "distribution": "transformed",
          "x": -1.3488059404087929
         },
         {
          "distribution": "transformed",
          "x": -1.0530093602424035
         },
         {
          "distribution": "transformed",
          "x": -1.8103849907769263
         },
         {
          "distribution": "transformed",
          "x": 1.0788356143972786
         },
         {
          "distribution": "transformed",
          "x": 0.15889147477645277
         },
         {
          "distribution": "transformed",
          "x": -0.006010311730940152
         },
         {
          "distribution": "transformed",
          "x": 0.048287196741184896
         },
         {
          "distribution": "transformed",
          "x": -1.1865539890035168
         },
         {
          "distribution": "transformed",
          "x": 1.3682465937868151
         },
         {
          "distribution": "transformed",
          "x": 0.3847936230663013
         },
         {
          "distribution": "transformed",
          "x": -1.2170671543165636
         },
         {
          "distribution": "transformed",
          "x": 0.3198586603187577
         },
         {
          "distribution": "transformed",
          "x": 0.35453060710632217
         },
         {
          "distribution": "transformed",
          "x": 0.49355949038944813
         },
         {
          "distribution": "transformed",
          "x": 1.7328445043654463
         },
         {
          "distribution": "transformed",
          "x": -0.04818998759397757
         },
         {
          "distribution": "transformed",
          "x": 0.13417969071943658
         },
         {
          "distribution": "transformed",
          "x": 0.24870556155467125
         },
         {
          "distribution": "transformed",
          "x": -1.2641514737624713
         },
         {
          "distribution": "transformed",
          "x": -0.014629658905967877
         },
         {
          "distribution": "transformed",
          "x": -0.06114154781382841
         },
         {
          "distribution": "transformed",
          "x": -0.7136668491354956
         },
         {
          "distribution": "transformed",
          "x": -0.33984867685722625
         },
         {
          "distribution": "transformed",
          "x": 0.30683206010204883
         },
         {
          "distribution": "transformed",
          "x": 1.0568713382879102
         },
         {
          "distribution": "transformed",
          "x": -0.9967997152366334
         },
         {
          "distribution": "transformed",
          "x": -1.5699054799915007
         },
         {
          "distribution": "transformed",
          "x": -0.6887314096638365
         },
         {
          "distribution": "transformed",
          "x": 1.1099156060607103
         },
         {
          "distribution": "transformed",
          "x": 1.3598286692552097
         },
         {
          "distribution": "transformed",
          "x": 0.25873085340998514
         },
         {
          "distribution": "transformed",
          "x": 1.4053399453414732
         },
         {
          "distribution": "transformed",
          "x": -1.0655130163964357
         },
         {
          "distribution": "transformed",
          "x": -1.7092064851111606
         },
         {
          "distribution": "transformed",
          "x": 0.983280251756629
         },
         {
          "distribution": "transformed",
          "x": 0.6391672863524017
         },
         {
          "distribution": "transformed",
          "x": -1.4368418231952516
         },
         {
          "distribution": "transformed",
          "x": 0.2499428402723306
         },
         {
          "distribution": "transformed",
          "x": -0.47746358348403073
         },
         {
          "distribution": "transformed",
          "x": 0.2515588534358986
         },
         {
          "distribution": "transformed",
          "x": 1.0984305097264502
         },
         {
          "distribution": "transformed",
          "x": -1.1794117848833992
         },
         {
          "distribution": "transformed",
          "x": -1.378703020421332
         },
         {
          "distribution": "transformed",
          "x": -1.2767892029264742
         },
         {
          "distribution": "transformed",
          "x": 0.8199152844570529
         },
         {
          "distribution": "transformed",
          "x": 0.5625254477973501
         },
         {
          "distribution": "transformed",
          "x": 0.6712176693592544
         },
         {
          "distribution": "transformed",
          "x": 0.46433908511825805
         },
         {
          "distribution": "transformed",
          "x": 1.2554422417141757
         },
         {
          "distribution": "transformed",
          "x": 0.4850881337215068
         },
         {
          "distribution": "transformed",
          "x": 0.04096998131025944
         },
         {
          "distribution": "transformed",
          "x": 0.7576137144348983
         },
         {
          "distribution": "transformed",
          "x": 1.5878659023240196
         },
         {
          "distribution": "transformed",
          "x": 0.5107072252036634
         },
         {
          "distribution": "transformed",
          "x": -1.3899207547182717
         },
         {
          "distribution": "transformed",
          "x": -0.8814935259103545
         },
         {
          "distribution": "transformed",
          "x": 0.518599672149445
         },
         {
          "distribution": "transformed",
          "x": -0.21985861378099364
         },
         {
          "distribution": "transformed",
          "x": -0.54576031626355
         },
         {
          "distribution": "transformed",
          "x": 0.36246416098813766
         },
         {
          "distribution": "transformed",
          "x": 0.1937752337804284
         },
         {
          "distribution": "transformed",
          "x": -0.09786818028286158
         },
         {
          "distribution": "transformed",
          "x": 0.8141017545593005
         },
         {
          "distribution": "transformed",
          "x": -0.4179541680633537
         },
         {
          "distribution": "transformed",
          "x": -1.3996616336470165
         },
         {
          "distribution": "transformed",
          "x": 0.12118612309920104
         },
         {
          "distribution": "transformed",
          "x": 0.17570625346243177
         },
         {
          "distribution": "transformed",
          "x": 1.9775974547352875
         },
         {
          "distribution": "transformed",
          "x": -0.46428321800148803
         },
         {
          "distribution": "transformed",
          "x": 1.8749320635867133
         },
         {
          "distribution": "transformed",
          "x": 0.5196885140477493
         },
         {
          "distribution": "transformed",
          "x": 0.7925529729217065
         },
         {
          "distribution": "transformed",
          "x": -0.7253935892070953
         },
         {
          "distribution": "transformed",
          "x": -1.5359831159597395
         },
         {
          "distribution": "transformed",
          "x": 1.0423370279977395
         },
         {
          "distribution": "transformed",
          "x": 1.0723055889893924
         },
         {
          "distribution": "transformed",
          "x": -1.4113184345302965
         },
         {
          "distribution": "transformed",
          "x": 0.4919925127291833
         },
         {
          "distribution": "transformed",
          "x": 1.2428361721357855
         },
         {
          "distribution": "transformed",
          "x": -0.02126994003506348
         },
         {
          "distribution": "transformed",
          "x": -0.029393560096104606
         },
         {
          "distribution": "transformed",
          "x": -0.08426276099712222
         },
         {
          "distribution": "transformed",
          "x": 1.0441362493527058
         },
         {
          "distribution": "transformed",
          "x": -1.019264091181569
         },
         {
          "distribution": "transformed",
          "x": -0.9234218204268817
         },
         {
          "distribution": "transformed",
          "x": -0.20224762484090883
         },
         {
          "distribution": "transformed",
          "x": -0.7362601304076797
         },
         {
          "distribution": "transformed",
          "x": -1.1330694675645911
         },
         {
          "distribution": "transformed",
          "x": -0.058217922890036904
         },
         {
          "distribution": "transformed",
          "x": 0.05499802254315825
         },
         {
          "distribution": "transformed",
          "x": -1.3155925490124534
         },
         {
          "distribution": "transformed",
          "x": 1.8094585841678796
         },
         {
          "distribution": "transformed",
          "x": 1.2327454436540586
         },
         {
          "distribution": "transformed",
          "x": 0.6138068852149285
         },
         {
          "distribution": "transformed",
          "x": 0.009423275408424154
         },
         {
          "distribution": "transformed",
          "x": 1.6445120738973447
         },
         {
          "distribution": "transformed",
          "x": -0.16896623792031373
         },
         {
          "distribution": "transformed",
          "x": -1.696444767306933
         },
         {
          "distribution": "transformed",
          "x": 0.17643197831796112
         },
         {
          "distribution": "transformed",
          "x": -0.4792191215209661
         },
         {
          "distribution": "transformed",
          "x": 1.5439445850250242
         },
         {
          "distribution": "transformed",
          "x": 1.91372550205509
         },
         {
          "distribution": "transformed",
          "x": 0.24035533787352012
         },
         {
          "distribution": "transformed",
          "x": 0.39130021922930686
         },
         {
          "distribution": "transformed",
          "x": -1.6489023663641524
         },
         {
          "distribution": "transformed",
          "x": -0.8428560608273818
         },
         {
          "distribution": "transformed",
          "x": -0.7786976041928261
         },
         {
          "distribution": "transformed",
          "x": 0.34503403445013237
         },
         {
          "distribution": "transformed",
          "x": 0.6301913942331838
         },
         {
          "distribution": "transformed",
          "x": -1.5608730793065055
         },
         {
          "distribution": "transformed",
          "x": -1.2373622603264485
         },
         {
          "distribution": "transformed",
          "x": -0.7817054725534862
         },
         {
          "distribution": "transformed",
          "x": 0.05279783979122031
         },
         {
          "distribution": "transformed",
          "x": -1.5281642381327987
         },
         {
          "distribution": "transformed",
          "x": -0.2873022061263154
         },
         {
          "distribution": "transformed",
          "x": -1.3123597278846586
         },
         {
          "distribution": "transformed",
          "x": -1.6681897991235306
         },
         {
          "distribution": "transformed",
          "x": 0.20313020896426165
         },
         {
          "distribution": "transformed",
          "x": -0.20957690075767357
         },
         {
          "distribution": "transformed",
          "x": 0.18459692958514476
         },
         {
          "distribution": "transformed",
          "x": 0.5010364616793355
         },
         {
          "distribution": "transformed",
          "x": -1.0055108555713075
         },
         {
          "distribution": "transformed",
          "x": 1.9693591623734767
         },
         {
          "distribution": "transformed",
          "x": -0.31214388929562126
         },
         {
          "distribution": "transformed",
          "x": 0.08862287896098207
         },
         {
          "distribution": "transformed",
          "x": 0.34525612919189863
         },
         {
          "distribution": "transformed",
          "x": -0.19559457105633565
         },
         {
          "distribution": "transformed",
          "x": -1.4425560268718174
         },
         {
          "distribution": "transformed",
          "x": 0.7422471733084415
         },
         {
          "distribution": "transformed",
          "x": -0.9914830505980994
         },
         {
          "distribution": "transformed",
          "x": -1.310233860935052
         },
         {
          "distribution": "transformed",
          "x": -1.272941131113319
         },
         {
          "distribution": "transformed",
          "x": 2.0063496588867396
         },
         {
          "distribution": "transformed",
          "x": 0.3168857511485149
         },
         {
          "distribution": "transformed",
          "x": 1.0514193045525553
         },
         {
          "distribution": "transformed",
          "x": 2.6004355660783833
         },
         {
          "distribution": "transformed",
          "x": 0.8867797022429329
         },
         {
          "distribution": "transformed",
          "x": -1.3260110283258637
         },
         {
          "distribution": "transformed",
          "x": -0.11867173675000621
         },
         {
          "distribution": "transformed",
          "x": 1.4506731879107442
         },
         {
          "distribution": "transformed",
          "x": -1.704867347869282
         },
         {
          "distribution": "transformed",
          "x": 0.3875845212634115
         },
         {
          "distribution": "transformed",
          "x": -0.34803493715239514
         },
         {
          "distribution": "transformed",
          "x": -0.6184054670251146
         },
         {
          "distribution": "transformed",
          "x": 0.9060210216842152
         },
         {
          "distribution": "transformed",
          "x": -1.5595189180388234
         },
         {
          "distribution": "transformed",
          "x": -1.309366617100702
         },
         {
          "distribution": "transformed",
          "x": 1.378234448844228
         },
         {
          "distribution": "transformed",
          "x": -1.0586505005800846
         },
         {
          "distribution": "transformed",
          "x": 0.9627826954560156
         },
         {
          "distribution": "transformed",
          "x": -0.10162996690155424
         },
         {
          "distribution": "transformed",
          "x": -0.5279801274100192
         },
         {
          "distribution": "transformed",
          "x": -0.459784119806951
         },
         {
          "distribution": "transformed",
          "x": 0.75222097641408
         },
         {
          "distribution": "transformed",
          "x": 0.4276643495895286
         },
         {
          "distribution": "transformed",
          "x": 0.4913174017462119
         },
         {
          "distribution": "transformed",
          "x": 0.8591048013782625
         },
         {
          "distribution": "transformed",
          "x": 0.6442812205089882
         },
         {
          "distribution": "transformed",
          "x": 0.3069661980292641
         },
         {
          "distribution": "transformed",
          "x": -0.37094137384564685
         },
         {
          "distribution": "transformed",
          "x": 0.836139568343024
         },
         {
          "distribution": "transformed",
          "x": -0.6441961252524678
         },
         {
          "distribution": "transformed",
          "x": -1.0897714435250092
         },
         {
          "distribution": "transformed",
          "x": 0.2096943524321107
         },
         {
          "distribution": "transformed",
          "x": 0.7520829889247168
         },
         {
          "distribution": "transformed",
          "x": -1.6432569355700202
         },
         {
          "distribution": "transformed",
          "x": -0.4646150624132914
         },
         {
          "distribution": "transformed",
          "x": 0.6880168753393083
         },
         {
          "distribution": "transformed",
          "x": -0.7178159562556575
         },
         {
          "distribution": "transformed",
          "x": 0.8170723257535972
         },
         {
          "distribution": "transformed",
          "x": -1.3913525558623387
         },
         {
          "distribution": "transformed",
          "x": 1.6346932915129733
         },
         {
          "distribution": "transformed",
          "x": -0.5637051662042173
         },
         {
          "distribution": "transformed",
          "x": 1.450268471229245
         },
         {
          "distribution": "transformed",
          "x": 1.0995679312982616
         },
         {
          "distribution": "transformed",
          "x": 0.37141171701352327
         },
         {
          "distribution": "transformed",
          "x": -0.9352165912457037
         },
         {
          "distribution": "transformed",
          "x": 1.4606448996660082
         },
         {
          "distribution": "transformed",
          "x": -0.3108361658144711
         },
         {
          "distribution": "transformed",
          "x": 0.9508431582358844
         },
         {
          "distribution": "transformed",
          "x": 1.2871632991581308
         },
         {
          "distribution": "transformed",
          "x": -0.717205670522725
         },
         {
          "distribution": "transformed",
          "x": -0.4992043048702436
         },
         {
          "distribution": "transformed",
          "x": -1.5771013798777886
         },
         {
          "distribution": "transformed",
          "x": 0.7281843564733018
         },
         {
          "distribution": "transformed",
          "x": 1.4140330030871096
         },
         {
          "distribution": "transformed",
          "x": 0.9575264439691001
         },
         {
          "distribution": "transformed",
          "x": 1.144513608599268
         },
         {
          "distribution": "transformed",
          "x": 0.1670942343452666
         },
         {
          "distribution": "transformed",
          "x": 0.0075585926316069805
         },
         {
          "distribution": "transformed",
          "x": 0.2447590902903732
         },
         {
          "distribution": "transformed",
          "x": 0.3524737396632101
         },
         {
          "distribution": "transformed",
          "x": -1.1944832089959907
         },
         {
          "distribution": "transformed",
          "x": 1.6819216120106306
         },
         {
          "distribution": "transformed",
          "x": -0.01118797771355507
         },
         {
          "distribution": "transformed",
          "x": -0.13435187251675693
         },
         {
          "distribution": "transformed",
          "x": -0.5228387210251834
         },
         {
          "distribution": "transformed",
          "x": -1.2513083565569159
         },
         {
          "distribution": "transformed",
          "x": -1.5910781391778754
         },
         {
          "distribution": "transformed",
          "x": -0.09996013224238395
         },
         {
          "distribution": "transformed",
          "x": 0.8405825438886969
         },
         {
          "distribution": "transformed",
          "x": 1.5368699564538078
         },
         {
          "distribution": "transformed",
          "x": 0.2019220101979018
         },
         {
          "distribution": "transformed",
          "x": -0.6506331766963495
         },
         {
          "distribution": "transformed",
          "x": -1.407249248835545
         },
         {
          "distribution": "transformed",
          "x": 0.3671824935050983
         },
         {
          "distribution": "transformed",
          "x": 0.855187234489739
         },
         {
          "distribution": "transformed",
          "x": 0.14395627452539014
         },
         {
          "distribution": "transformed",
          "x": 1.7272164961037688
         },
         {
          "distribution": "transformed",
          "x": 0.8201262430023086
         },
         {
          "distribution": "transformed",
          "x": 1.1728079102324351
         },
         {
          "distribution": "transformed",
          "x": 0.6217020431915455
         },
         {
          "distribution": "transformed",
          "x": 1.3793458382243993
         },
         {
          "distribution": "transformed",
          "x": 1.183428501108017
         },
         {
          "distribution": "transformed",
          "x": 1.3837218821074797
         },
         {
          "distribution": "transformed",
          "x": 1.2229991701364848
         },
         {
          "distribution": "transformed",
          "x": 0.8899793912196227
         },
         {
          "distribution": "transformed",
          "x": 0.31564098807958935
         },
         {
          "distribution": "transformed",
          "x": -0.024164892626144085
         },
         {
          "distribution": "transformed",
          "x": 0.9668518918935115
         },
         {
          "distribution": "transformed",
          "x": 0.09585834309324462
         },
         {
          "distribution": "transformed",
          "x": 0.49071128192558133
         },
         {
          "distribution": "transformed",
          "x": -0.34771515824127724
         },
         {
          "distribution": "transformed",
          "x": 1.2189384223945776
         },
         {
          "distribution": "transformed",
          "x": 0.2656044308782858
         },
         {
          "distribution": "transformed",
          "x": 1.1127577514012275
         },
         {
          "distribution": "transformed",
          "x": 0.7949780919165284
         },
         {
          "distribution": "transformed",
          "x": -0.09990679390390625
         },
         {
          "distribution": "transformed",
          "x": -0.46873085216990945
         },
         {
          "distribution": "transformed",
          "x": 1.3961760900690894
         }
        ]
       },
       "encoding": {
        "color": {
         "field": "distribution",
         "type": "nominal"
        },
        "x": {
         "bin": {
          "maxbins": 150
         },
         "field": "x",
         "type": "quantitative"
        },
        "y": {
         "aggregate": "count",
         "type": "quantitative"
        }
       },
       "mark": {
        "opacity": 0.9,
        "type": "bar"
       },
       "title": "Power Transformation Example",
       "width": 500
      },
      "image/png": "[encoded data removed]",
      "text/plain": [
       "<VegaLite 2 object>\n",
       "\n",
       "If you see this message, it means the renderer has not been properly enabled\n",
       "for the frontend that you are using. For more information, see\n",
       "https://altair-viz.github.io/user_guide/troubleshooting.html\n"
      ]
     },
     "execution_count": 20,
     "metadata": {},
     "output_type": "execute_result"
    }
   ],
   "source": [
    "alt.Chart(df, \n",
    "          width=500,\n",
    "          title='Power Transformation Example'\n",
    "         ).mark_bar(opacity=0.90).encode(\n",
    "    alt.X('x', bin=alt.Bin(maxbins=150)),\n",
    "    alt.Y('count()'),\n",
    "    color = 'distribution'\n",
    ")"
   ]
  },
  {
   "cell_type": "markdown",
   "metadata": {},
   "source": [
    "The `var_smoothing` parameter's default value is $10^{-9}$. We will conduct the grid search in the \"logspace\", that is, we will search over the powers of 10. We will start with $10^0$ and end with $10^{-9}$ and we will try 100 different values. For this search, we will use the `logspace` function in the `numpy` module."
   ]
  },
  {
   "cell_type": "markdown",
   "metadata": {},
   "source": [
    "Here is how the logspace looks with 10 different values."
   ]
  },
  {
   "cell_type": "code",
   "execution_count": 21,
   "metadata": {},
   "outputs": [
    {
     "data": {
      "text/plain": [
       "array([1.e+00, 1.e-01, 1.e-02, 1.e-03, 1.e-04, 1.e-05, 1.e-06, 1.e-07,\n",
       "       1.e-08, 1.e-09])"
      ]
     },
     "execution_count": 21,
     "metadata": {},
     "output_type": "execute_result"
    }
   ],
   "source": [
    "np.logspace(0,-9, num=10)"
   ]
  },
  {
   "cell_type": "code",
   "execution_count": 22,
   "metadata": {},
   "outputs": [
    {
     "name": "stdout",
     "output_type": "stream",
     "text": [
      "Fitting 15 folds for each of 100 candidates, totalling 1500 fits\n"
     ]
    },
    {
     "name": "stderr",
     "output_type": "stream",
     "text": [
      "[Parallel(n_jobs=1)]: Using backend SequentialBackend with 1 concurrent workers.\n",
      "[Parallel(n_jobs=1)]: Done 1500 out of 1500 | elapsed:    1.7s finished\n"
     ]
    }
   ],
   "source": [
    "from sklearn.naive_bayes import GaussianNB\n",
    "\n",
    "np.random.seed(999)\n",
    "\n",
    "nb_classifier = GaussianNB()\n",
    "\n",
    "params_NB = {'var_smoothing': np.logspace(0,-9, num=100)}\n",
    "\n",
    "gs_NB = GridSearchCV(estimator=nb_classifier, \n",
    "                     param_grid=params_NB, \n",
    "                     cv=cv_method,\n",
    "                     verbose=1, \n",
    "                     scoring='accuracy')\n",
    "\n",
    "Data_transformed = PowerTransformer().fit_transform(Data)\n",
    "\n",
    "gs_NB.fit(Data_transformed, target);"
   ]
  },
  {
   "cell_type": "code",
   "execution_count": 23,
   "metadata": {},
   "outputs": [
    {
     "data": {
      "text/plain": [
       "{'var_smoothing': 0.1873817422860384}"
      ]
     },
     "execution_count": 23,
     "metadata": {},
     "output_type": "execute_result"
    }
   ],
   "source": [
    "gs_NB.best_params_"
   ]
  },
  {
   "cell_type": "code",
   "execution_count": 24,
   "metadata": {},
   "outputs": [
    {
     "data": {
      "text/plain": [
       "0.9490333919156415"
      ]
     },
     "execution_count": 24,
     "metadata": {},
     "output_type": "execute_result"
    }
   ],
   "source": [
    "gs_NB.best_score_"
   ]
  },
  {
   "cell_type": "markdown",
   "metadata": {},
   "source": [
    "Let's define a new data frame to store the NB grid search results for visualization."
   ]
  },
  {
   "cell_type": "code",
   "execution_count": 25,
   "metadata": {},
   "outputs": [],
   "source": [
    "results_NB = pd.DataFrame(gs_NB.cv_results_['params'])\n",
    "results_NB['test_score'] = gs_NB.cv_results_['mean_test_score']"
   ]
  },
  {
   "cell_type": "markdown",
   "metadata": {},
   "source": [
    "Now let's do the plotting with respect to the `var_smoothing` parameter. We define the plot to be interactive so that we can zoom in. Specifically, you can zoom in and out using your mouse. This is why we like `altair` so much."
   ]
  },
  {
   "cell_type": "code",
   "execution_count": 26,
   "metadata": {},
   "outputs": [
    {
     "data": {
      "application/vnd.vegalite.v2+json": {
       "$schema": "https://vega.github.io/schema/vega-lite/v2.6.0.json",
       "config": {
        "view": {
         "height": 300,
         "width": 400
        }
       },
       "data": {
        "name": "data-d5321abdc2516d9d76713b56eff4082b"
       },
       "datasets": {
        "data-d5321abdc2516d9d76713b56eff4082b": [
         {
          "test_score": 0.9431751611013474,
          "var_smoothing": 1
         },
         {
          "test_score": 0.9437609841827768,
          "var_smoothing": 0.8111308307896871
         },
         {
          "test_score": 0.9443468072642062,
          "var_smoothing": 0.657933224657568
         },
         {
          "test_score": 0.9443468072642062,
          "var_smoothing": 0.533669923120631
         },
         {
          "test_score": 0.945518453427065,
          "var_smoothing": 0.43287612810830584
         },
         {
          "test_score": 0.9478617457527827,
          "var_smoothing": 0.3511191734215131
         },
         {
          "test_score": 0.9484475688342121,
          "var_smoothing": 0.2848035868435802
         },
         {
          "test_score": 0.9484475688342121,
          "var_smoothing": 0.23101297000831597
         },
         {
          "test_score": 0.9490333919156415,
          "var_smoothing": 0.1873817422860384
         },
         {
          "test_score": 0.9490333919156415,
          "var_smoothing": 0.15199110829529336
         },
         {
          "test_score": 0.9484475688342121,
          "var_smoothing": 0.12328467394420659
         },
         {
          "test_score": 0.9484475688342121,
          "var_smoothing": 0.1
         },
         {
          "test_score": 0.9484475688342121,
          "var_smoothing": 0.08111308307896872
         },
         {
          "test_score": 0.9484475688342121,
          "var_smoothing": 0.0657933224657568
         },
         {
          "test_score": 0.9484475688342121,
          "var_smoothing": 0.0533669923120631
         },
         {
          "test_score": 0.9478617457527827,
          "var_smoothing": 0.04328761281083057
         },
         {
          "test_score": 0.9484475688342121,
          "var_smoothing": 0.03511191734215131
         },
         {
          "test_score": 0.9484475688342121,
          "var_smoothing": 0.02848035868435802
         },
         {
          "test_score": 0.9484475688342121,
          "var_smoothing": 0.02310129700083159
         },
         {
          "test_score": 0.9484475688342121,
          "var_smoothing": 0.01873817422860384
         },
         {
          "test_score": 0.9484475688342121,
          "var_smoothing": 0.01519911082952933
         },
         {
          "test_score": 0.9484475688342121,
          "var_smoothing": 0.012328467394420659
         },
         {
          "test_score": 0.9484475688342121,
          "var_smoothing": 0.01
         },
         {
          "test_score": 0.9484475688342121,
          "var_smoothing": 0.008111308307896872
         },
         {
          "test_score": 0.9484475688342121,
          "var_smoothing": 0.006579332246575682
         },
         {
          "test_score": 0.9484475688342121,
          "var_smoothing": 0.005336699231206307
         },
         {
          "test_score": 0.9484475688342121,
          "var_smoothing": 0.004328761281083057
         },
         {
          "test_score": 0.9484475688342121,
          "var_smoothing": 0.003511191734215131
         },
         {
          "test_score": 0.9484475688342121,
          "var_smoothing": 0.002848035868435802
         },
         {
          "test_score": 0.9484475688342121,
          "var_smoothing": 0.0023101297000831605
         },
         {
          "test_score": 0.9484475688342121,
          "var_smoothing": 0.001873817422860383
         },
         {
          "test_score": 0.9484475688342121,
          "var_smoothing": 0.0015199110829529332
         },
         {
          "test_score": 0.9484475688342121,
          "var_smoothing": 0.0012328467394420659
         },
         {
          "test_score": 0.9484475688342121,
          "var_smoothing": 0.001
         },
         {
          "test_score": 0.9484475688342121,
          "var_smoothing": 0.0008111308307896872
         },
         {
          "test_score": 0.9484475688342121,
          "var_smoothing": 0.0006579332246575676
         },
         {
          "test_score": 0.9484475688342121,
          "var_smoothing": 0.0005336699231206307
         },
         {
          "test_score": 0.9484475688342121,
          "var_smoothing": 0.0004328761281083057
         },
         {
          "test_score": 0.9484475688342121,
          "var_smoothing": 0.0003511191734215131
         },
         {
          "test_score": 0.9484475688342121,
          "var_smoothing": 0.0002848035868435802
         },
         {
          "test_score": 0.9484475688342121,
          "var_smoothing": 0.0002310129700083158
         },
         {
          "test_score": 0.9484475688342121,
          "var_smoothing": 0.0001873817422860383
         },
         {
          "test_score": 0.9484475688342121,
          "var_smoothing": 0.0001519911082952933
         },
         {
          "test_score": 0.9484475688342121,
          "var_smoothing": 0.0001232846739442066
         },
         {
          "test_score": 0.9484475688342121,
          "var_smoothing": 0.0001
         },
         {
          "test_score": 0.9484475688342121,
          "var_smoothing": 8.111308307896872e-05
         },
         {
          "test_score": 0.9484475688342121,
          "var_smoothing": 6.579332246575683e-05
         },
         {
          "test_score": 0.9484475688342121,
          "var_smoothing": 5.3366992312063123e-05
         },
         {
          "test_score": 0.9484475688342121,
          "var_smoothing": 4.328761281083062e-05
         },
         {
          "test_score": 0.9484475688342121,
          "var_smoothing": 3.511191734215127e-05
         },
         {
          "test_score": 0.9484475688342121,
          "var_smoothing": 2.848035868435799e-05
         },
         {
          "test_score": 0.9484475688342121,
          "var_smoothing": 2.310129700083158e-05
         },
         {
          "test_score": 0.9484475688342121,
          "var_smoothing": 1.873817422860383e-05
         },
         {
          "test_score": 0.9484475688342121,
          "var_smoothing": 1.5199110829529332e-05
         },
         {
          "test_score": 0.9484475688342121,
          "var_smoothing": 1.2328467394420658e-05
         },
         {
          "test_score": 0.9484475688342121,
          "var_smoothing": 1e-05
         },
         {
          "test_score": 0.9484475688342121,
          "var_smoothing": 8.111308307896873e-06
         },
         {
          "test_score": 0.9484475688342121,
          "var_smoothing": 6.579332246575683e-06
         },
         {
          "test_score": 0.9484475688342121,
          "var_smoothing": 5.336699231206313e-06
         },
         {
          "test_score": 0.9484475688342121,
          "var_smoothing": 4.328761281083053e-06
         },
         {
          "test_score": 0.9484475688342121,
          "var_smoothing": 3.5111917342151275e-06
         },
         {
          "test_score": 0.9484475688342121,
          "var_smoothing": 2.848035868435799e-06
         },
         {
          "test_score": 0.9484475688342121,
          "var_smoothing": 2.310129700083158e-06
         },
         {
          "test_score": 0.9484475688342121,
          "var_smoothing": 1.873817422860383e-06
         },
         {
          "test_score": 0.9484475688342121,
          "var_smoothing": 1.519911082952933e-06
         },
         {
          "test_score": 0.9484475688342121,
          "var_smoothing": 1.232846739442066e-06
         },
         {
          "test_score": 0.9484475688342121,
          "var_smoothing": 1e-06
         },
         {
          "test_score": 0.9484475688342121,
          "var_smoothing": 8.111308307896872e-07
         },
         {
          "test_score": 0.9484475688342121,
          "var_smoothing": 6.579332246575682e-07
         },
         {
          "test_score": 0.9484475688342121,
          "var_smoothing": 5.336699231206313e-07
         },
         {
          "test_score": 0.9484475688342121,
          "var_smoothing": 4.3287612810830526e-07
         },
         {
          "test_score": 0.9484475688342121,
          "var_smoothing": 3.5111917342151277e-07
         },
         {
          "test_score": 0.9484475688342121,
          "var_smoothing": 2.848035868435799e-07
         },
         {
          "test_score": 0.9484475688342121,
          "var_smoothing": 2.310129700083158e-07
         },
         {
          "test_score": 0.9484475688342121,
          "var_smoothing": 1.873817422860383e-07
         },
         {
          "test_score": 0.9484475688342121,
          "var_smoothing": 1.519911082952933e-07
         },
         {
          "test_score": 0.9484475688342121,
          "var_smoothing": 1.232846739442066e-07
         },
         {
          "test_score": 0.9484475688342121,
          "var_smoothing": 1e-07
         },
         {
          "test_score": 0.9484475688342121,
          "var_smoothing": 8.111308307896873e-08
         },
         {
          "test_score": 0.9484475688342121,
          "var_smoothing": 6.579332246575682e-08
         },
         {
          "test_score": 0.9484475688342121,
          "var_smoothing": 5.336699231206302e-08
         },
         {
          "test_score": 0.9484475688342121,
          "var_smoothing": 4.3287612810830526e-08
         },
         {
          "test_score": 0.9484475688342121,
          "var_smoothing": 3.5111917342151277e-08
         },
         {
          "test_score": 0.9484475688342121,
          "var_smoothing": 2.848035868435799e-08
         },
         {
          "test_score": 0.9484475688342121,
          "var_smoothing": 2.310129700083158e-08
         },
         {
          "test_score": 0.9484475688342121,
          "var_smoothing": 1.873817422860383e-08
         },
         {
          "test_score": 0.9484475688342121,
          "var_smoothing": 1.519911082952933e-08
         },
         {
          "test_score": 0.9484475688342121,
          "var_smoothing": 1.232846739442066e-08
         },
         {
          "test_score": 0.9484475688342121,
          "var_smoothing": 1e-08
         },
         {
          "test_score": 0.9484475688342121,
          "var_smoothing": 8.111308307896856e-09
         },
         {
          "test_score": 0.9484475688342121,
          "var_smoothing": 6.579332246575682e-09
         },
         {
          "test_score": 0.9484475688342121,
          "var_smoothing": 5.336699231206302e-09
         },
         {
          "test_score": 0.9484475688342121,
          "var_smoothing": 4.328761281083061e-09
         },
         {
          "test_score": 0.9484475688342121,
          "var_smoothing": 3.5111917342151273e-09
         },
         {
          "test_score": 0.9484475688342121,
          "var_smoothing": 2.848035868435805e-09
         },
         {
          "test_score": 0.9484475688342121,
          "var_smoothing": 2.310129700083158e-09
         },
         {
          "test_score": 0.9484475688342121,
          "var_smoothing": 1.873817422860387e-09
         },
         {
          "test_score": 0.9484475688342121,
          "var_smoothing": 1.519911082952933e-09
         },
         {
          "test_score": 0.9484475688342121,
          "var_smoothing": 1.2328467394420635e-09
         },
         {
          "test_score": 0.9484475688342121,
          "var_smoothing": 1e-09
         }
        ]
       },
       "encoding": {
        "x": {
         "field": "var_smoothing",
         "title": "Var. Smoothing",
         "type": "quantitative"
        },
        "y": {
         "field": "test_score",
         "scale": {
          "zero": false
         },
         "title": "Mean CV Score",
         "type": "quantitative"
        }
       },
       "mark": {
        "point": true,
        "type": "line"
       },
       "selection": {
        "selector001": {
         "bind": "scales",
         "encodings": [
          "x",
          "y"
         ],
         "mark": {
          "fill": "#333",
          "fillOpacity": 0.125,
          "stroke": "white"
         },
         "on": "[mousedown, window:mouseup] > window:mousemove!",
         "resolve": "global",
         "translate": "[mousedown, window:mouseup] > window:mousemove!",
         "type": "interval",
         "zoom": "wheel!"
        }
       },
       "title": "NB Performance Comparison"
      },
      "image/png": "[encoded data removed]",
      "text/plain": [
       "<VegaLite 2 object>\n",
       "\n",
       "If you see this message, it means the renderer has not been properly enabled\n",
       "for the frontend that you are using. For more information, see\n",
       "https://altair-viz.github.io/user_guide/troubleshooting.html\n"
      ]
     },
     "execution_count": 26,
     "metadata": {},
     "output_type": "execute_result"
    }
   ],
   "source": [
    "alt.Chart(results_NB, \n",
    "          title='NB Performance Comparison'\n",
    "         ).mark_line(point=True).encode(\n",
    "    alt.X('var_smoothing', title='Var. Smoothing'),\n",
    "    alt.Y('test_score', title='Mean CV Score', scale=alt.Scale(zero=False))\n",
    ").interactive()"
   ]
  },
  {
   "cell_type": "markdown",
   "metadata": {},
   "source": [
    "We observe that the best variance smoothing parameter for NB is 0.43, though the difference between other values in terms of the mean CV score is very small per the range of the y-axis."
   ]
  },
  {
   "cell_type": "markdown",
   "metadata": {},
   "source": [
    "## Regression Example: Boston Housing Data <a class=\"anchor\" id=\"2\"></a>"
   ]
  },
  {
   "cell_type": "markdown",
   "metadata": {},
   "source": [
    "Let's consider the Boston housing dataset. We call `KNeighborsRegressor` to run KNN on this regression problem. The KNN regression grid search is similar to its classification counterpart except for the differences below.\n",
    "\n",
    "* We can no longer use stratified K-fold validation since the target is not multiclass or binary. However, we can use other methods such as K-fold or Repeated K-fold.\n",
    "* The model performance metric is no longer \"accuracy\", but MSE (Mean Squared Error). We do not need to specify \"mse\" in `GridSearchCV` since `sklearn` is smart enough to figure out that the target is a continuous variable."
   ]
  },
  {
   "cell_type": "code",
   "execution_count": 27,
   "metadata": {},
   "outputs": [],
   "source": [
    "from sklearn.datasets import load_boston\n",
    "from sklearn.neighbors import KNeighborsRegressor\n",
    "\n",
    "housing_data = load_boston()\n",
    "Data, target = housing_data.data, housing_data.target"
   ]
  },
  {
   "cell_type": "code",
   "execution_count": 28,
   "metadata": {},
   "outputs": [
    {
     "name": "stderr",
     "output_type": "stream",
     "text": [
      "[Parallel(n_jobs=1)]: Using backend SequentialBackend with 1 concurrent workers.\n"
     ]
    },
    {
     "name": "stdout",
     "output_type": "stream",
     "text": [
      "Fitting 15 folds for each of 15 candidates, totalling 225 fits\n"
     ]
    },
    {
     "name": "stderr",
     "output_type": "stream",
     "text": [
      "[Parallel(n_jobs=1)]: Done 225 out of 225 | elapsed:    0.7s finished\n"
     ]
    }
   ],
   "source": [
    "from sklearn.model_selection import RepeatedKFold, GridSearchCV\n",
    "from sklearn.preprocessing import StandardScaler\n",
    "\n",
    "cv_method = RepeatedKFold(n_splits=5, \n",
    "                          n_repeats=3, \n",
    "                          random_state=999)\n",
    "\n",
    "Data = StandardScaler().fit_transform(Data)\n",
    "\n",
    "knn_regressor = KNeighborsRegressor()\n",
    "\n",
    "params_knn_regressor = {'n_neighbors': [1,2,3,4,5], \n",
    "                        'p': [1, 2, 5]}\n",
    "\n",
    "gs_knn_regressor = GridSearchCV(estimator=knn_regressor, \n",
    "                  param_grid=params_knn_regressor, \n",
    "                  verbose=1, \n",
    "                  cv=cv_method)\n",
    "\n",
    "gs_knn_regressor.fit(Data, target);"
   ]
  },
  {
   "cell_type": "markdown",
   "metadata": {},
   "source": [
    "After 3 repeated 5-fold cross-validation, we observe that the best parameters and best score are as follows."
   ]
  },
  {
   "cell_type": "code",
   "execution_count": 29,
   "metadata": {},
   "outputs": [
    {
     "data": {
      "text/plain": [
       "{'n_neighbors': 3, 'p': 1}"
      ]
     },
     "execution_count": 29,
     "metadata": {},
     "output_type": "execute_result"
    }
   ],
   "source": [
    "gs_knn_regressor.best_params_"
   ]
  },
  {
   "cell_type": "code",
   "execution_count": 30,
   "metadata": {},
   "outputs": [
    {
     "data": {
      "text/plain": [
       "0.803760322828542"
      ]
     },
     "execution_count": 30,
     "metadata": {},
     "output_type": "execute_result"
    }
   ],
   "source": [
    "gs_knn_regressor.best_score_"
   ]
  },
  {
   "cell_type": "markdown",
   "metadata": {},
   "source": [
    "## Exercises <a class=\"anchor\" id=\"3\"></a>\n",
    "\n",
    "### Problem <a class=\"anchor\" id=\"3.1\"></a>\n",
    "\n",
    "Run a decision tree model on Wine Data and tune its hyperparameters using a stratified repeated CV.\n",
    "\n",
    "### Possible Solution <a class=\"anchor\" id=\"3.2\"></a>\n",
    "\n",
    "```\n",
    "from sklearn.datasets import load_wine\n",
    "from sklearn.tree import DecisionTreeClassifier\n",
    "from sklearn.model_selection import RepeatedStratifiedKFold, GridSearchCV\n",
    "from sklearn.preprocessing import StandardScaler\n",
    "\n",
    "wine = load_wine()\n",
    "Data, target = wine.data, wine.target\n",
    "\n",
    "Data = StandardScaler().fit_transform(Data)\n",
    "\n",
    "cv_method = RepeatedStratifiedKFold(n_splits = 5, \n",
    "                                    n_repeats = 3, \n",
    "                                    random_state = 999)\n",
    "\n",
    "dt_classifier = DecisionTreeClassifier(random_state=999)\n",
    "\n",
    "params_DT = {'criterion': ['gini', 'entropy'],\n",
    "             'max_depth': [2, 3, 4, 5]}\n",
    "\n",
    "gs = GridSearchCV(estimator=dt_classifier, \n",
    "                  param_grid=params_DT, \n",
    "                  cv=cv_method,\n",
    "                  verbose=1, \n",
    "                  scoring='accuracy')                  \n",
    "\n",
    "print(gs.fit(Data, target))\n",
    "print(gs.best_params_)\n",
    "print(gs.best_score_)\n",
    "\n",
    "```"
   ]
  },
  {
   "cell_type": "markdown",
   "metadata": {},
   "source": [
    "***\n",
    "MATH2319 - Machine Learning @ RMIT University"
   ]
  }
 ],
 "metadata": {
  "kernelspec": {
   "display_name": "Python 3",
   "language": "python",
   "name": "python3"
  },
  "language_info": {
   "codemirror_mode": {
    "name": "ipython",
    "version": 3
   },
   "file_extension": ".py",
   "mimetype": "text/x-python",
   "name": "python",
   "nbconvert_exporter": "python",
   "pygments_lexer": "ipython3",
   "version": "3.7.3"
  }
 },
 "nbformat": 4,
 "nbformat_minor": 4
}
